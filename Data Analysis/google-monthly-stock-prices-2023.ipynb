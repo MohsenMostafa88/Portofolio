{
 "cells": [
  {
   "cell_type": "code",
   "execution_count": 1,
   "id": "f11089b8",
   "metadata": {
    "_cell_guid": "b1076dfc-b9ad-4769-8c92-a6c4dae69d19",
    "_uuid": "8f2839f25d086af736a60e9eeb907d3b93b6e0e5",
    "execution": {
     "iopub.execute_input": "2023-05-07T11:14:36.972992Z",
     "iopub.status.busy": "2023-05-07T11:14:36.972495Z",
     "iopub.status.idle": "2023-05-07T11:14:39.052065Z",
     "shell.execute_reply": "2023-05-07T11:14:39.050089Z"
    },
    "papermill": {
     "duration": 2.091054,
     "end_time": "2023-05-07T11:14:39.054727",
     "exception": false,
     "start_time": "2023-05-07T11:14:36.963673",
     "status": "completed"
    },
    "tags": []
   },
   "outputs": [
    {
     "name": "stderr",
     "output_type": "stream",
     "text": [
      "/opt/conda/lib/python3.10/site-packages/scipy/__init__.py:146: UserWarning: A NumPy version >=1.16.5 and <1.23.0 is required for this version of SciPy (detected version 1.23.5\n",
      "  warnings.warn(f\"A NumPy version >={np_minversion} and <{np_maxversion}\"\n"
     ]
    },
    {
     "name": "stdout",
     "output_type": "stream",
     "text": [
      "/kaggle/input/google-stock-price-daily-weekly-and-monthly-2023/google-stock-dataset-Weekly.csv\n",
      "/kaggle/input/google-stock-price-daily-weekly-and-monthly-2023/google-stock-dataset-Daily.csv\n",
      "/kaggle/input/google-stock-price-daily-weekly-and-monthly-2023/google-stock-dataset-Monthly.csv\n"
     ]
    }
   ],
   "source": [
    "import numpy as np \n",
    "import pandas as pd \n",
    "import matplotlib.pyplot as plt\n",
    "import seaborn as sns\n",
    "import plotly.express as px\n",
    "import os\n",
    "for dirname, _, filenames in os.walk('/kaggle/input'):\n",
    "    for filename in filenames:\n",
    "        print(os.path.join(dirname, filename))\n",
    "\n",
    "# You can write up to 20GB to the current directory (/kaggle/working/) that gets preserved as output when you create a version using \"Save & Run All\" \n",
    "# You can also write temporary files to /kaggle/temp/, but they won't be saved outside of the current session"
   ]
  },
  {
   "cell_type": "code",
   "execution_count": 2,
   "id": "45a8564f",
   "metadata": {
    "execution": {
     "iopub.execute_input": "2023-05-07T11:14:39.071220Z",
     "iopub.status.busy": "2023-05-07T11:14:39.070770Z",
     "iopub.status.idle": "2023-05-07T11:14:39.125713Z",
     "shell.execute_reply": "2023-05-07T11:14:39.123905Z"
    },
    "papermill": {
     "duration": 0.066383,
     "end_time": "2023-05-07T11:14:39.128680",
     "exception": false,
     "start_time": "2023-05-07T11:14:39.062297",
     "status": "completed"
    },
    "tags": []
   },
   "outputs": [],
   "source": [
    "D_df = pd.read_csv(\"/kaggle/input/google-stock-price-daily-weekly-and-monthly-2023/google-stock-dataset-Daily.csv\")\n",
    "W_df = pd.read_csv(\"/kaggle/input/google-stock-price-daily-weekly-and-monthly-2023/google-stock-dataset-Weekly.csv\")\n",
    "M_df = pd.read_csv(\"/kaggle/input/google-stock-price-daily-weekly-and-monthly-2023/google-stock-dataset-Monthly.csv\")\n"
   ]
  },
  {
   "cell_type": "markdown",
   "id": "1d060d04",
   "metadata": {
    "papermill": {
     "duration": 0.007693,
     "end_time": "2023-05-07T11:14:39.143082",
     "exception": false,
     "start_time": "2023-05-07T11:14:39.135389",
     "status": "completed"
    },
    "tags": []
   },
   "source": [
    "### We will work with Data of Monthly stock prices "
   ]
  },
  {
   "cell_type": "code",
   "execution_count": 3,
   "id": "5871dca5",
   "metadata": {
    "execution": {
     "iopub.execute_input": "2023-05-07T11:14:39.158503Z",
     "iopub.status.busy": "2023-05-07T11:14:39.158108Z",
     "iopub.status.idle": "2023-05-07T11:14:39.200945Z",
     "shell.execute_reply": "2023-05-07T11:14:39.199768Z"
    },
    "papermill": {
     "duration": 0.05362,
     "end_time": "2023-05-07T11:14:39.203623",
     "exception": false,
     "start_time": "2023-05-07T11:14:39.150003",
     "status": "completed"
    },
    "tags": []
   },
   "outputs": [
    {
     "data": {
      "text/html": [
       "<div>\n",
       "<style scoped>\n",
       "    .dataframe tbody tr th:only-of-type {\n",
       "        vertical-align: middle;\n",
       "    }\n",
       "\n",
       "    .dataframe tbody tr th {\n",
       "        vertical-align: top;\n",
       "    }\n",
       "\n",
       "    .dataframe thead th {\n",
       "        text-align: right;\n",
       "    }\n",
       "</style>\n",
       "<table border=\"1\" class=\"dataframe\">\n",
       "  <thead>\n",
       "    <tr style=\"text-align: right;\">\n",
       "      <th></th>\n",
       "      <th>Unnamed: 0</th>\n",
       "      <th>Date</th>\n",
       "      <th>Price</th>\n",
       "      <th>High</th>\n",
       "      <th>Low</th>\n",
       "      <th>Close</th>\n",
       "      <th>Volume</th>\n",
       "      <th>Adj Close</th>\n",
       "    </tr>\n",
       "  </thead>\n",
       "  <tbody>\n",
       "    <tr>\n",
       "      <th>0</th>\n",
       "      <td>0</td>\n",
       "      <td>2013-05-01</td>\n",
       "      <td>20.60</td>\n",
       "      <td>23.04</td>\n",
       "      <td>20.43</td>\n",
       "      <td>21.80</td>\n",
       "      <td>1974715308</td>\n",
       "      <td>21.80</td>\n",
       "    </tr>\n",
       "    <tr>\n",
       "      <th>1</th>\n",
       "      <td>1</td>\n",
       "      <td>2013-06-01</td>\n",
       "      <td>21.85</td>\n",
       "      <td>22.79</td>\n",
       "      <td>21.20</td>\n",
       "      <td>22.03</td>\n",
       "      <td>1941280776</td>\n",
       "      <td>22.03</td>\n",
       "    </tr>\n",
       "    <tr>\n",
       "      <th>2</th>\n",
       "      <td>2</td>\n",
       "      <td>2013-07-01</td>\n",
       "      <td>22.18</td>\n",
       "      <td>23.22</td>\n",
       "      <td>21.91</td>\n",
       "      <td>22.22</td>\n",
       "      <td>2047770180</td>\n",
       "      <td>22.22</td>\n",
       "    </tr>\n",
       "    <tr>\n",
       "      <th>3</th>\n",
       "      <td>3</td>\n",
       "      <td>2013-08-01</td>\n",
       "      <td>22.40</td>\n",
       "      <td>22.77</td>\n",
       "      <td>21.16</td>\n",
       "      <td>21.19</td>\n",
       "      <td>1338144516</td>\n",
       "      <td>21.19</td>\n",
       "    </tr>\n",
       "    <tr>\n",
       "      <th>4</th>\n",
       "      <td>4</td>\n",
       "      <td>2013-09-01</td>\n",
       "      <td>21.38</td>\n",
       "      <td>22.67</td>\n",
       "      <td>21.37</td>\n",
       "      <td>21.92</td>\n",
       "      <td>1323615060</td>\n",
       "      <td>21.92</td>\n",
       "    </tr>\n",
       "  </tbody>\n",
       "</table>\n",
       "</div>"
      ],
      "text/plain": [
       "   Unnamed: 0        Date  Price   High    Low  Close      Volume  Adj Close\n",
       "0           0  2013-05-01  20.60  23.04  20.43  21.80  1974715308      21.80\n",
       "1           1  2013-06-01  21.85  22.79  21.20  22.03  1941280776      22.03\n",
       "2           2  2013-07-01  22.18  23.22  21.91  22.22  2047770180      22.22\n",
       "3           3  2013-08-01  22.40  22.77  21.16  21.19  1338144516      21.19\n",
       "4           4  2013-09-01  21.38  22.67  21.37  21.92  1323615060      21.92"
      ]
     },
     "execution_count": 3,
     "metadata": {},
     "output_type": "execute_result"
    }
   ],
   "source": [
    "M_df.head()"
   ]
  },
  {
   "cell_type": "markdown",
   "id": "63129fee",
   "metadata": {
    "papermill": {
     "duration": 0.006153,
     "end_time": "2023-05-07T11:14:39.216807",
     "exception": false,
     "start_time": "2023-05-07T11:14:39.210654",
     "status": "completed"
    },
    "tags": []
   },
   "source": [
    "## Data Cleaning and Processing"
   ]
  },
  {
   "cell_type": "markdown",
   "id": "23acde40",
   "metadata": {
    "papermill": {
     "duration": 0.006461,
     "end_time": "2023-05-07T11:14:39.230045",
     "exception": false,
     "start_time": "2023-05-07T11:14:39.223584",
     "status": "completed"
    },
    "tags": []
   },
   "source": [
    "#### Drop Unnecessary Columns"
   ]
  },
  {
   "cell_type": "code",
   "execution_count": 4,
   "id": "cd42cda9",
   "metadata": {
    "execution": {
     "iopub.execute_input": "2023-05-07T11:14:39.245767Z",
     "iopub.status.busy": "2023-05-07T11:14:39.244605Z",
     "iopub.status.idle": "2023-05-07T11:14:39.261158Z",
     "shell.execute_reply": "2023-05-07T11:14:39.259834Z"
    },
    "papermill": {
     "duration": 0.027114,
     "end_time": "2023-05-07T11:14:39.263870",
     "exception": false,
     "start_time": "2023-05-07T11:14:39.236756",
     "status": "completed"
    },
    "tags": []
   },
   "outputs": [],
   "source": [
    "M_df.drop('Unnamed: 0', inplace=True, axis=1)"
   ]
  },
  {
   "cell_type": "code",
   "execution_count": 5,
   "id": "73041716",
   "metadata": {
    "execution": {
     "iopub.execute_input": "2023-05-07T11:14:39.278645Z",
     "iopub.status.busy": "2023-05-07T11:14:39.278235Z",
     "iopub.status.idle": "2023-05-07T11:14:39.289713Z",
     "shell.execute_reply": "2023-05-07T11:14:39.287538Z"
    },
    "papermill": {
     "duration": 0.021713,
     "end_time": "2023-05-07T11:14:39.292115",
     "exception": false,
     "start_time": "2023-05-07T11:14:39.270402",
     "status": "completed"
    },
    "tags": []
   },
   "outputs": [
    {
     "data": {
      "text/plain": [
       "Date         0\n",
       "Price        0\n",
       "High         0\n",
       "Low          0\n",
       "Close        0\n",
       "Volume       0\n",
       "Adj Close    0\n",
       "dtype: int64"
      ]
     },
     "execution_count": 5,
     "metadata": {},
     "output_type": "execute_result"
    }
   ],
   "source": [
    "M_df.isnull().sum()"
   ]
  },
  {
   "cell_type": "markdown",
   "id": "32ce8770",
   "metadata": {
    "papermill": {
     "duration": 0.006204,
     "end_time": "2023-05-07T11:14:39.305110",
     "exception": false,
     "start_time": "2023-05-07T11:14:39.298906",
     "status": "completed"
    },
    "tags": []
   },
   "source": [
    "### Description of the DataFrame"
   ]
  },
  {
   "cell_type": "code",
   "execution_count": 6,
   "id": "f8a14533",
   "metadata": {
    "execution": {
     "iopub.execute_input": "2023-05-07T11:14:39.320435Z",
     "iopub.status.busy": "2023-05-07T11:14:39.320030Z",
     "iopub.status.idle": "2023-05-07T11:14:39.341325Z",
     "shell.execute_reply": "2023-05-07T11:14:39.340008Z"
    },
    "papermill": {
     "duration": 0.031826,
     "end_time": "2023-05-07T11:14:39.343632",
     "exception": false,
     "start_time": "2023-05-07T11:14:39.311806",
     "status": "completed"
    },
    "tags": []
   },
   "outputs": [
    {
     "name": "stdout",
     "output_type": "stream",
     "text": [
      "<class 'pandas.core.frame.DataFrame'>\n",
      "RangeIndex: 120 entries, 0 to 119\n",
      "Data columns (total 7 columns):\n",
      " #   Column     Non-Null Count  Dtype  \n",
      "---  ------     --------------  -----  \n",
      " 0   Date       120 non-null    object \n",
      " 1   Price      120 non-null    float64\n",
      " 2   High       120 non-null    float64\n",
      " 3   Low        120 non-null    float64\n",
      " 4   Close      120 non-null    float64\n",
      " 5   Volume     120 non-null    int64  \n",
      " 6   Adj Close  120 non-null    float64\n",
      "dtypes: float64(5), int64(1), object(1)\n",
      "memory usage: 6.7+ KB\n"
     ]
    }
   ],
   "source": [
    "M_df.info()"
   ]
  },
  {
   "cell_type": "code",
   "execution_count": 7,
   "id": "72b67316",
   "metadata": {
    "execution": {
     "iopub.execute_input": "2023-05-07T11:14:39.358580Z",
     "iopub.status.busy": "2023-05-07T11:14:39.358196Z",
     "iopub.status.idle": "2023-05-07T11:14:39.364960Z",
     "shell.execute_reply": "2023-05-07T11:14:39.363828Z"
    },
    "papermill": {
     "duration": 0.016998,
     "end_time": "2023-05-07T11:14:39.367205",
     "exception": false,
     "start_time": "2023-05-07T11:14:39.350207",
     "status": "completed"
    },
    "tags": []
   },
   "outputs": [
    {
     "data": {
      "text/plain": [
       "(120, 7)"
      ]
     },
     "execution_count": 7,
     "metadata": {},
     "output_type": "execute_result"
    }
   ],
   "source": [
    "M_df.shape\n"
   ]
  },
  {
   "cell_type": "markdown",
   "id": "6c62296b",
   "metadata": {
    "papermill": {
     "duration": 0.006638,
     "end_time": "2023-05-07T11:14:39.380776",
     "exception": false,
     "start_time": "2023-05-07T11:14:39.374138",
     "status": "completed"
    },
    "tags": []
   },
   "source": [
    "\n",
    "## Augment data with additional columns\n"
   ]
  },
  {
   "cell_type": "markdown",
   "id": "0f389fb4",
   "metadata": {
    "papermill": {
     "duration": 0.006257,
     "end_time": "2023-05-07T11:14:39.393602",
     "exception": false,
     "start_time": "2023-05-07T11:14:39.387345",
     "status": "completed"
    },
    "tags": []
   },
   "source": [
    "### Add month column\n"
   ]
  },
  {
   "cell_type": "code",
   "execution_count": 8,
   "id": "cac11b23",
   "metadata": {
    "execution": {
     "iopub.execute_input": "2023-05-07T11:14:39.408510Z",
     "iopub.status.busy": "2023-05-07T11:14:39.408100Z",
     "iopub.status.idle": "2023-05-07T11:14:39.424618Z",
     "shell.execute_reply": "2023-05-07T11:14:39.423741Z"
    },
    "papermill": {
     "duration": 0.026373,
     "end_time": "2023-05-07T11:14:39.426557",
     "exception": false,
     "start_time": "2023-05-07T11:14:39.400184",
     "status": "completed"
    },
    "tags": []
   },
   "outputs": [
    {
     "data": {
      "text/html": [
       "<div>\n",
       "<style scoped>\n",
       "    .dataframe tbody tr th:only-of-type {\n",
       "        vertical-align: middle;\n",
       "    }\n",
       "\n",
       "    .dataframe tbody tr th {\n",
       "        vertical-align: top;\n",
       "    }\n",
       "\n",
       "    .dataframe thead th {\n",
       "        text-align: right;\n",
       "    }\n",
       "</style>\n",
       "<table border=\"1\" class=\"dataframe\">\n",
       "  <thead>\n",
       "    <tr style=\"text-align: right;\">\n",
       "      <th></th>\n",
       "      <th>Date</th>\n",
       "      <th>Price</th>\n",
       "      <th>High</th>\n",
       "      <th>Low</th>\n",
       "      <th>Close</th>\n",
       "      <th>Volume</th>\n",
       "      <th>Adj Close</th>\n",
       "      <th>Month</th>\n",
       "    </tr>\n",
       "  </thead>\n",
       "  <tbody>\n",
       "    <tr>\n",
       "      <th>0</th>\n",
       "      <td>2013-05-01</td>\n",
       "      <td>20.60</td>\n",
       "      <td>23.04</td>\n",
       "      <td>20.43</td>\n",
       "      <td>21.80</td>\n",
       "      <td>1974715308</td>\n",
       "      <td>21.80</td>\n",
       "      <td>5</td>\n",
       "    </tr>\n",
       "    <tr>\n",
       "      <th>1</th>\n",
       "      <td>2013-06-01</td>\n",
       "      <td>21.85</td>\n",
       "      <td>22.79</td>\n",
       "      <td>21.20</td>\n",
       "      <td>22.03</td>\n",
       "      <td>1941280776</td>\n",
       "      <td>22.03</td>\n",
       "      <td>6</td>\n",
       "    </tr>\n",
       "    <tr>\n",
       "      <th>2</th>\n",
       "      <td>2013-07-01</td>\n",
       "      <td>22.18</td>\n",
       "      <td>23.22</td>\n",
       "      <td>21.91</td>\n",
       "      <td>22.22</td>\n",
       "      <td>2047770180</td>\n",
       "      <td>22.22</td>\n",
       "      <td>7</td>\n",
       "    </tr>\n",
       "    <tr>\n",
       "      <th>3</th>\n",
       "      <td>2013-08-01</td>\n",
       "      <td>22.40</td>\n",
       "      <td>22.77</td>\n",
       "      <td>21.16</td>\n",
       "      <td>21.19</td>\n",
       "      <td>1338144516</td>\n",
       "      <td>21.19</td>\n",
       "      <td>8</td>\n",
       "    </tr>\n",
       "    <tr>\n",
       "      <th>4</th>\n",
       "      <td>2013-09-01</td>\n",
       "      <td>21.38</td>\n",
       "      <td>22.67</td>\n",
       "      <td>21.37</td>\n",
       "      <td>21.92</td>\n",
       "      <td>1323615060</td>\n",
       "      <td>21.92</td>\n",
       "      <td>9</td>\n",
       "    </tr>\n",
       "  </tbody>\n",
       "</table>\n",
       "</div>"
      ],
      "text/plain": [
       "         Date  Price   High    Low  Close      Volume  Adj Close  Month\n",
       "0  2013-05-01  20.60  23.04  20.43  21.80  1974715308      21.80      5\n",
       "1  2013-06-01  21.85  22.79  21.20  22.03  1941280776      22.03      6\n",
       "2  2013-07-01  22.18  23.22  21.91  22.22  2047770180      22.22      7\n",
       "3  2013-08-01  22.40  22.77  21.16  21.19  1338144516      21.19      8\n",
       "4  2013-09-01  21.38  22.67  21.37  21.92  1323615060      21.92      9"
      ]
     },
     "execution_count": 8,
     "metadata": {},
     "output_type": "execute_result"
    }
   ],
   "source": [
    "M_df['Month'] = M_df['Date'].str[5:7]\n",
    "M_df['Month'] = M_df['Month'].astype('int32')\n",
    "M_df.head()"
   ]
  },
  {
   "cell_type": "markdown",
   "id": "8be4f4d2",
   "metadata": {
    "papermill": {
     "duration": 0.006483,
     "end_time": "2023-05-07T11:14:39.439941",
     "exception": false,
     "start_time": "2023-05-07T11:14:39.433458",
     "status": "completed"
    },
    "tags": []
   },
   "source": [
    "\n",
    "## Data Exploration!\n"
   ]
  },
  {
   "cell_type": "markdown",
   "id": "ef6211e2",
   "metadata": {
    "papermill": {
     "duration": 0.006691,
     "end_time": "2023-05-07T11:14:39.453378",
     "exception": false,
     "start_time": "2023-05-07T11:14:39.446687",
     "status": "completed"
    },
    "tags": []
   },
   "source": [
    "## Question 1: What was the best month for High Stock Prices ?"
   ]
  },
  {
   "cell_type": "code",
   "execution_count": 9,
   "id": "badeabc9",
   "metadata": {
    "execution": {
     "iopub.execute_input": "2023-05-07T11:14:39.468700Z",
     "iopub.status.busy": "2023-05-07T11:14:39.468287Z",
     "iopub.status.idle": "2023-05-07T11:14:39.484595Z",
     "shell.execute_reply": "2023-05-07T11:14:39.483424Z"
    },
    "papermill": {
     "duration": 0.027044,
     "end_time": "2023-05-07T11:14:39.487177",
     "exception": false,
     "start_time": "2023-05-07T11:14:39.460133",
     "status": "completed"
    },
    "tags": []
   },
   "outputs": [
    {
     "data": {
      "text/html": [
       "<div>\n",
       "<style scoped>\n",
       "    .dataframe tbody tr th:only-of-type {\n",
       "        vertical-align: middle;\n",
       "    }\n",
       "\n",
       "    .dataframe tbody tr th {\n",
       "        vertical-align: top;\n",
       "    }\n",
       "\n",
       "    .dataframe thead th {\n",
       "        text-align: right;\n",
       "    }\n",
       "</style>\n",
       "<table border=\"1\" class=\"dataframe\">\n",
       "  <thead>\n",
       "    <tr style=\"text-align: right;\">\n",
       "      <th></th>\n",
       "      <th>Date</th>\n",
       "      <th>Price</th>\n",
       "      <th>High</th>\n",
       "      <th>Low</th>\n",
       "      <th>Close</th>\n",
       "      <th>Volume</th>\n",
       "      <th>Adj Close</th>\n",
       "      <th>Month</th>\n",
       "    </tr>\n",
       "  </thead>\n",
       "  <tbody>\n",
       "    <tr>\n",
       "      <th>105</th>\n",
       "      <td>2022-02-01</td>\n",
       "      <td>137.59</td>\n",
       "      <td>151.55</td>\n",
       "      <td>124.95</td>\n",
       "      <td>135.06</td>\n",
       "      <td>928126000</td>\n",
       "      <td>135.06</td>\n",
       "      <td>2</td>\n",
       "    </tr>\n",
       "    <tr>\n",
       "      <th>102</th>\n",
       "      <td>2021-11-01</td>\n",
       "      <td>148.05</td>\n",
       "      <td>150.97</td>\n",
       "      <td>141.60</td>\n",
       "      <td>141.90</td>\n",
       "      <td>608378000</td>\n",
       "      <td>141.90</td>\n",
       "      <td>11</td>\n",
       "    </tr>\n",
       "    <tr>\n",
       "      <th>103</th>\n",
       "      <td>2021-12-01</td>\n",
       "      <td>144.00</td>\n",
       "      <td>149.10</td>\n",
       "      <td>139.32</td>\n",
       "      <td>144.85</td>\n",
       "      <td>619694000</td>\n",
       "      <td>144.85</td>\n",
       "      <td>12</td>\n",
       "    </tr>\n",
       "    <tr>\n",
       "      <th>101</th>\n",
       "      <td>2021-10-01</td>\n",
       "      <td>134.45</td>\n",
       "      <td>148.65</td>\n",
       "      <td>131.05</td>\n",
       "      <td>148.05</td>\n",
       "      <td>720758000</td>\n",
       "      <td>148.05</td>\n",
       "      <td>10</td>\n",
       "    </tr>\n",
       "    <tr>\n",
       "      <th>104</th>\n",
       "      <td>2022-01-01</td>\n",
       "      <td>145.05</td>\n",
       "      <td>146.49</td>\n",
       "      <td>124.50</td>\n",
       "      <td>135.30</td>\n",
       "      <td>767206000</td>\n",
       "      <td>135.30</td>\n",
       "      <td>1</td>\n",
       "    </tr>\n",
       "  </tbody>\n",
       "</table>\n",
       "</div>"
      ],
      "text/plain": [
       "           Date   Price    High     Low   Close     Volume  Adj Close  Month\n",
       "105  2022-02-01  137.59  151.55  124.95  135.06  928126000     135.06      2\n",
       "102  2021-11-01  148.05  150.97  141.60  141.90  608378000     141.90     11\n",
       "103  2021-12-01  144.00  149.10  139.32  144.85  619694000     144.85     12\n",
       "101  2021-10-01  134.45  148.65  131.05  148.05  720758000     148.05     10\n",
       "104  2022-01-01  145.05  146.49  124.50  135.30  767206000     135.30      1"
      ]
     },
     "execution_count": 9,
     "metadata": {},
     "output_type": "execute_result"
    }
   ],
   "source": [
    "M_df.sort_values(by=['High'], ascending=False, axis=0, inplace=True)\n",
    "M_df.head()"
   ]
  },
  {
   "cell_type": "markdown",
   "id": "1540ada9",
   "metadata": {
    "papermill": {
     "duration": 0.007091,
     "end_time": "2023-05-07T11:14:39.502078",
     "exception": false,
     "start_time": "2023-05-07T11:14:39.494987",
     "status": "completed"
    },
    "tags": []
   },
   "source": [
    "## Visualization Monthly Data"
   ]
  },
  {
   "cell_type": "code",
   "execution_count": 10,
   "id": "6e97f22c",
   "metadata": {
    "execution": {
     "iopub.execute_input": "2023-05-07T11:14:39.518526Z",
     "iopub.status.busy": "2023-05-07T11:14:39.518045Z",
     "iopub.status.idle": "2023-05-07T11:14:39.942900Z",
     "shell.execute_reply": "2023-05-07T11:14:39.942099Z"
    },
    "papermill": {
     "duration": 0.436336,
     "end_time": "2023-05-07T11:14:39.945536",
     "exception": false,
     "start_time": "2023-05-07T11:14:39.509200",
     "status": "completed"
    },
    "tags": []
   },
   "outputs": [
    {
     "data": {
      "image/png": "[encoded data removed]",
      "text/plain": [
       "<Figure size 2000x800 with 1 Axes>"
      ]
     },
     "metadata": {},
     "output_type": "display_data"
    }
   ],
   "source": [
    "fig, ax = plt.subplots(figsize=(20,8))\n",
    "ax.plot(M_df['Date'], M_df['High'], color='Blue')\n",
    "ax.xaxis.set_major_locator(plt.MaxNLocator(15))\n",
    "ax.set_xlabel('Date', fontsize='11')\n",
    "ax.set_ylabel('Price in USD', fontsize='11')\n",
    "plt.title('Google Monthly Stock Prices')\n",
    "plt.grid()\n",
    "plt.show()"
   ]
  },
  {
   "cell_type": "markdown",
   "id": "bd692d5a",
   "metadata": {
    "papermill": {
     "duration": 0.007479,
     "end_time": "2023-05-07T11:14:39.960992",
     "exception": false,
     "start_time": "2023-05-07T11:14:39.953513",
     "status": "completed"
    },
    "tags": []
   },
   "source": [
    "## Now perform a regression analysis on monthly stock prices data using statsmodels"
   ]
  },
  {
   "cell_type": "markdown",
   "id": "87810ec9",
   "metadata": {
    "papermill": {
     "duration": 0.007511,
     "end_time": "2023-05-07T11:14:39.976364",
     "exception": false,
     "start_time": "2023-05-07T11:14:39.968853",
     "status": "completed"
    },
    "tags": []
   },
   "source": [
    "### Regression Analysis using sklearn"
   ]
  },
  {
   "cell_type": "code",
   "execution_count": 11,
   "id": "58331442",
   "metadata": {
    "execution": {
     "iopub.execute_input": "2023-05-07T11:14:39.994183Z",
     "iopub.status.busy": "2023-05-07T11:14:39.993376Z",
     "iopub.status.idle": "2023-05-07T11:14:40.359067Z",
     "shell.execute_reply": "2023-05-07T11:14:40.357827Z"
    },
    "papermill": {
     "duration": 0.377633,
     "end_time": "2023-05-07T11:14:40.361914",
     "exception": false,
     "start_time": "2023-05-07T11:14:39.984281",
     "status": "completed"
    },
    "tags": []
   },
   "outputs": [],
   "source": [
    "# Import necessary libraries\n",
    "\n",
    "import pandas as pd\n",
    "import seaborn as sns\n",
    "from sklearn.model_selection import train_test_split\n",
    "from sklearn.linear_model import LinearRegression\n",
    "from sklearn.metrics import mean_squared_error, r2_score\n"
   ]
  },
  {
   "cell_type": "code",
   "execution_count": 12,
   "id": "787c2cb0",
   "metadata": {
    "execution": {
     "iopub.execute_input": "2023-05-07T11:14:40.380747Z",
     "iopub.status.busy": "2023-05-07T11:14:40.379581Z",
     "iopub.status.idle": "2023-05-07T11:14:41.819103Z",
     "shell.execute_reply": "2023-05-07T11:14:41.818319Z"
    },
    "papermill": {
     "duration": 1.451011,
     "end_time": "2023-05-07T11:14:41.821237",
     "exception": false,
     "start_time": "2023-05-07T11:14:40.370226",
     "status": "completed"
    },
    "tags": []
   },
   "outputs": [
    {
     "data": {
      "text/plain": [
       "<seaborn.axisgrid.PairGrid at 0x7b0669989990>"
      ]
     },
     "execution_count": 12,
     "metadata": {},
     "output_type": "execute_result"
    },
    {
     "data": {
      "image/png": "[encoded data removed]",
      "text/plain": [
       "<Figure size 1250x250 with 5 Axes>"
      ]
     },
     "metadata": {},
     "output_type": "display_data"
    }
   ],
   "source": [
    "# Visualize the data\n",
    "\n",
    "sns.pairplot(M_df, x_vars=['High', 'Low', 'Close', 'Volume', 'Adj Close'], y_vars=['Price'], kind='reg')"
   ]
  },
  {
   "cell_type": "code",
   "execution_count": 13,
   "id": "312856ed",
   "metadata": {
    "execution": {
     "iopub.execute_input": "2023-05-07T11:14:41.841813Z",
     "iopub.status.busy": "2023-05-07T11:14:41.841425Z",
     "iopub.status.idle": "2023-05-07T11:14:41.848197Z",
     "shell.execute_reply": "2023-05-07T11:14:41.847237Z"
    },
    "papermill": {
     "duration": 0.020113,
     "end_time": "2023-05-07T11:14:41.850505",
     "exception": false,
     "start_time": "2023-05-07T11:14:41.830392",
     "status": "completed"
    },
    "tags": []
   },
   "outputs": [],
   "source": [
    "# Prepare the data (split into train/test sets, one-hot encode categorical variables, scale the data)\n",
    "\n",
    "X = M_df[['High', 'Low', 'Close', 'Volume', 'Adj Close']]\n",
    "y = M_df['Price']"
   ]
  },
  {
   "cell_type": "code",
   "execution_count": 14,
   "id": "fb2221af",
   "metadata": {
    "execution": {
     "iopub.execute_input": "2023-05-07T11:14:41.871321Z",
     "iopub.status.busy": "2023-05-07T11:14:41.870961Z",
     "iopub.status.idle": "2023-05-07T11:14:41.878642Z",
     "shell.execute_reply": "2023-05-07T11:14:41.877822Z"
    },
    "papermill": {
     "duration": 0.020806,
     "end_time": "2023-05-07T11:14:41.880958",
     "exception": false,
     "start_time": "2023-05-07T11:14:41.860152",
     "status": "completed"
    },
    "tags": []
   },
   "outputs": [],
   "source": [
    "X_train, X_test, y_train, y_test = train_test_split(X, y, test_size=0.3, random_state=42)"
   ]
  },
  {
   "cell_type": "code",
   "execution_count": 15,
   "id": "b56c1561",
   "metadata": {
    "execution": {
     "iopub.execute_input": "2023-05-07T11:14:41.900946Z",
     "iopub.status.busy": "2023-05-07T11:14:41.900557Z",
     "iopub.status.idle": "2023-05-07T11:14:41.935396Z",
     "shell.execute_reply": "2023-05-07T11:14:41.934214Z"
    },
    "papermill": {
     "duration": 0.047454,
     "end_time": "2023-05-07T11:14:41.937759",
     "exception": false,
     "start_time": "2023-05-07T11:14:41.890305",
     "status": "completed"
    },
    "tags": []
   },
   "outputs": [
    {
     "data": {
      "text/html": [
       "<style>#sk-container-id-1 {color: black;background-color: white;}#sk-container-id-1 pre{padding: 0;}#sk-container-id-1 div.sk-toggleable {background-color: white;}#sk-container-id-1 label.sk-toggleable__label {cursor: pointer;display: block;width: 100%;margin-bottom: 0;padding: 0.3em;box-sizing: border-box;text-align: center;}#sk-container-id-1 label.sk-toggleable__label-arrow:before {content: \"▸\";float: left;margin-right: 0.25em;color: #696969;}#sk-container-id-1 label.sk-toggleable__label-arrow:hover:before {color: black;}#sk-container-id-1 div.sk-estimator:hover label.sk-toggleable__label-arrow:before {color: black;}#sk-container-id-1 div.sk-toggleable__content {max-height: 0;max-width: 0;overflow: hidden;text-align: left;background-color: #f0f8ff;}#sk-container-id-1 div.sk-toggleable__content pre {margin: 0.2em;color: black;border-radius: 0.25em;background-color: #f0f8ff;}#sk-container-id-1 input.sk-toggleable__control:checked~div.sk-toggleable__content {max-height: 200px;max-width: 100%;overflow: auto;}#sk-container-id-1 input.sk-toggleable__control:checked~label.sk-toggleable__label-arrow:before {content: \"▾\";}#sk-container-id-1 div.sk-estimator input.sk-toggleable__control:checked~label.sk-toggleable__label {background-color: #d4ebff;}#sk-container-id-1 div.sk-label input.sk-toggleable__control:checked~label.sk-toggleable__label {background-color: #d4ebff;}#sk-container-id-1 input.sk-hidden--visually {border: 0;clip: rect(1px 1px 1px 1px);clip: rect(1px, 1px, 1px, 1px);height: 1px;margin: -1px;overflow: hidden;padding: 0;position: absolute;width: 1px;}#sk-container-id-1 div.sk-estimator {font-family: monospace;background-color: #f0f8ff;border: 1px dotted black;border-radius: 0.25em;box-sizing: border-box;margin-bottom: 0.5em;}#sk-container-id-1 div.sk-estimator:hover {background-color: #d4ebff;}#sk-container-id-1 div.sk-parallel-item::after {content: \"\";width: 100%;border-bottom: 1px solid gray;flex-grow: 1;}#sk-container-id-1 div.sk-label:hover label.sk-toggleable__label {background-color: #d4ebff;}#sk-container-id-1 div.sk-serial::before {content: \"\";position: absolute;border-left: 1px solid gray;box-sizing: border-box;top: 0;bottom: 0;left: 50%;z-index: 0;}#sk-container-id-1 div.sk-serial {display: flex;flex-direction: column;align-items: center;background-color: white;padding-right: 0.2em;padding-left: 0.2em;position: relative;}#sk-container-id-1 div.sk-item {position: relative;z-index: 1;}#sk-container-id-1 div.sk-parallel {display: flex;align-items: stretch;justify-content: center;background-color: white;position: relative;}#sk-container-id-1 div.sk-item::before, #sk-container-id-1 div.sk-parallel-item::before {content: \"\";position: absolute;border-left: 1px solid gray;box-sizing: border-box;top: 0;bottom: 0;left: 50%;z-index: -1;}#sk-container-id-1 div.sk-parallel-item {display: flex;flex-direction: column;z-index: 1;position: relative;background-color: white;}#sk-container-id-1 div.sk-parallel-item:first-child::after {align-self: flex-end;width: 50%;}#sk-container-id-1 div.sk-parallel-item:last-child::after {align-self: flex-start;width: 50%;}#sk-container-id-1 div.sk-parallel-item:only-child::after {width: 0;}#sk-container-id-1 div.sk-dashed-wrapped {border: 1px dashed gray;margin: 0 0.4em 0.5em 0.4em;box-sizing: border-box;padding-bottom: 0.4em;background-color: white;}#sk-container-id-1 div.sk-label label {font-family: monospace;font-weight: bold;display: inline-block;line-height: 1.2em;}#sk-container-id-1 div.sk-label-container {text-align: center;}#sk-container-id-1 div.sk-container {/* jupyter's `normalize.less` sets `[hidden] { display: none; }` but bootstrap.min.css set `[hidden] { display: none !important; }` so we also need the `!important` here to be able to override the default hidden behavior on the sphinx rendered scikit-learn.org. See: https://github.com/scikit-learn/scikit-learn/issues/21755 */display: inline-block !important;position: relative;}#sk-container-id-1 div.sk-text-repr-fallback {display: none;}</style><div id=\"sk-container-id-1\" class=\"sk-top-container\"><div class=\"sk-text-repr-fallback\"><pre>LinearRegression()</pre><b>In a Jupyter environment, please rerun this cell to show the HTML representation or trust the notebook. <br />On GitHub, the HTML representation is unable to render, please try loading this page with nbviewer.org.</b></div><div class=\"sk-container\" hidden><div class=\"sk-item\"><div class=\"sk-estimator sk-toggleable\"><input class=\"sk-toggleable__control sk-hidden--visually\" id=\"sk-estimator-id-1\" type=\"checkbox\" checked><label for=\"sk-estimator-id-1\" class=\"sk-toggleable__label sk-toggleable__label-arrow\">LinearRegression</label><div class=\"sk-toggleable__content\"><pre>LinearRegression()</pre></div></div></div></div></div>"
      ],
      "text/plain": [
       "LinearRegression()"
      ]
     },
     "execution_count": 15,
     "metadata": {},
     "output_type": "execute_result"
    }
   ],
   "source": [
    "# Build the model\n",
    "lin_reg = LinearRegression()\n",
    "lin_reg.fit(X_train, y_train)\n"
   ]
  },
  {
   "cell_type": "code",
   "execution_count": 16,
   "id": "85ed3c0a",
   "metadata": {
    "execution": {
     "iopub.execute_input": "2023-05-07T11:14:41.959122Z",
     "iopub.status.busy": "2023-05-07T11:14:41.958748Z",
     "iopub.status.idle": "2023-05-07T11:14:42.222567Z",
     "shell.execute_reply": "2023-05-07T11:14:42.221450Z"
    },
    "papermill": {
     "duration": 0.277533,
     "end_time": "2023-05-07T11:14:42.224866",
     "exception": false,
     "start_time": "2023-05-07T11:14:41.947333",
     "status": "completed"
    },
    "tags": []
   },
   "outputs": [
    {
     "name": "stdout",
     "output_type": "stream",
     "text": [
      "MSE: 7.773820413360785\n",
      "RMSE: 2.788157171567052\n",
      "R-squared: 0.9935389396688222\n",
      "Adjusted R-squared: 0.9924620962802926\n"
     ]
    },
    {
     "data": {
      "text/plain": [
       "<AxesSubplot: xlabel='Price'>"
      ]
     },
     "execution_count": 16,
     "metadata": {},
     "output_type": "execute_result"
    },
    {
     "data": {
      "image/png": "[encoded data removed]",
      "text/plain": [
       "<Figure size 640x480 with 1 Axes>"
      ]
     },
     "metadata": {},
     "output_type": "display_data"
    }
   ],
   "source": [
    "# Evaluate the model\n",
    "y_pred = lin_reg.predict(X_test)\n",
    "\n",
    "mse = mean_squared_error(y_test, y_pred)\n",
    "rmse = np.sqrt(mse)\n",
    "r2 = r2_score(y_test, y_pred)\n",
    "adj_r2 = 1 - ((1 - r2) * (len(y_test) - 1)) / (len(y_test) - X_test.shape[1] - 1)\n",
    "\n",
    "print('MSE:', mse)\n",
    "print('RMSE:', rmse)\n",
    "print('R-squared:', r2)\n",
    "print('Adjusted R-squared:', adj_r2)\n",
    "\n",
    "# Visualize the results\n",
    "sns.scatterplot(x=y_test, y=y_pred)"
   ]
  },
  {
   "cell_type": "code",
   "execution_count": null,
   "id": "9886668e",
   "metadata": {
    "execution": {
     "iopub.execute_input": "2023-05-07T10:01:20.358526Z",
     "iopub.status.busy": "2023-05-07T10:01:20.357714Z",
     "iopub.status.idle": "2023-05-07T10:01:20.379128Z",
     "shell.execute_reply": "2023-05-07T10:01:20.378015Z",
     "shell.execute_reply.started": "2023-05-07T10:01:20.358460Z"
    },
    "papermill": {
     "duration": 0.010332,
     "end_time": "2023-05-07T11:14:42.245383",
     "exception": false,
     "start_time": "2023-05-07T11:14:42.235051",
     "status": "completed"
    },
    "tags": []
   },
   "outputs": [],
   "source": []
  },
  {
   "cell_type": "code",
   "execution_count": null,
   "id": "4c70355a",
   "metadata": {
    "papermill": {
     "duration": 0.009427,
     "end_time": "2023-05-07T11:14:42.264537",
     "exception": false,
     "start_time": "2023-05-07T11:14:42.255110",
     "status": "completed"
    },
    "tags": []
   },
   "outputs": [],
   "source": []
  }
 ],
 "metadata": {
  "kernelspec": {
   "display_name": "Python 3",
   "language": "python",
   "name": "python3"
  },
  "language_info": {
   "codemirror_mode": {
    "name": "ipython",
    "version": 3
   },
   "file_extension": ".py",
   "mimetype": "text/x-python",
   "name": "python",
   "nbconvert_exporter": "python",
   "pygments_lexer": "ipython3",
   "version": "3.10.10"
  },
  "papermill": {
   "default_parameters": {},
   "duration": 17.322391,
   "end_time": "2023-05-07T11:14:43.397771",
   "environment_variables": {},
   "exception": null,
   "input_path": "__notebook__.ipynb",
   "output_path": "__notebook__.ipynb",
   "parameters": {},
   "start_time": "2023-05-07T11:14:26.075380",
   "version": "2.4.0"
  }
 },
 "nbformat": 4,
 "nbformat_minor": 5
}
