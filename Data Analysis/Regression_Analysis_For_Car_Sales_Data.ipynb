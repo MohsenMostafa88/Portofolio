{
  "cells": [
    {
      "cell_type": "markdown",
      "source": [
        "**Regression Analysis For Car Sales Data**"
      ],
      "metadata": {
        "id": "HGGAIOiaaAWs"
      },
      "id": "HGGAIOiaaAWs"
    },
    {
      "cell_type": "markdown",
      "source": [
        "**Import Necessary Library**"
      ],
      "metadata": {
        "id": "adTpKSOF-86u"
      },
      "id": "adTpKSOF-86u"
    },
    {
      "cell_type": "code",
      "execution_count": null,
      "id": "3c6e6e00",
      "metadata": {
        "id": "3c6e6e00"
      },
      "outputs": [],
      "source": [
        "import pandas as pd\n",
        "import numpy as np\n",
        "import matplotlib as plt\n",
        "import matplotlib as mpl\n",
        "import matplotlib.pyplot as plt\n",
        "import seaborn as sns\n",
        "import seaborn.objects as so"
      ]
    },
    {
      "cell_type": "code",
      "execution_count": null,
      "id": "0aad612b",
      "metadata": {
        "colab": {
          "base_uri": "https://localhost:8080/",
          "height": 75
        },
        "id": "0aad612b",
        "outputId": "104d815e-cb01-41a5-e85c-297f27e2ff64"
      },
      "outputs": [
        {
          "output_type": "display_data",
          "data": {
            "text/plain": [
              "<IPython.core.display.HTML object>"
            ],
            "text/html": [
              "\n",
              "     <input type=\"file\" id=\"files-e5d06861-feaa-4daf-a0f1-80b934b3bbf8\" name=\"files[]\" multiple disabled\n",
              "        style=\"border:none\" />\n",
              "     <output id=\"result-e5d06861-feaa-4daf-a0f1-80b934b3bbf8\">\n",
              "      Upload widget is only available when the cell has been executed in the\n",
              "      current browser session. Please rerun this cell to enable.\n",
              "      </output>\n",
              "      <script>// Copyright 2017 Google LLC\n",
              "//\n",
              "// Licensed under the Apache License, Version 2.0 (the \"License\");\n",
              "// you may not use this file except in compliance with the License.\n",
              "// You may obtain a copy of the License at\n",
              "//\n",
              "//      http://www.apache.org/licenses/LICENSE-2.0\n",
              "//\n",
              "// Unless required by applicable law or agreed to in writing, software\n",
              "// distributed under the License is distributed on an \"AS IS\" BASIS,\n",
              "// WITHOUT WARRANTIES OR CONDITIONS OF ANY KIND, either express or implied.\n",
              "// See the License for the specific language governing permissions and\n",
              "// limitations under the License.\n",
              "\n",
              "/**\n",
              " * @fileoverview Helpers for google.colab Python module.\n",
              " */\n",
              "(function(scope) {\n",
              "function span(text, styleAttributes = {}) {\n",
              "  const element = document.createElement('span');\n",
              "  element.textContent = text;\n",
              "  for (const key of Object.keys(styleAttributes)) {\n",
              "    element.style[key] = styleAttributes[key];\n",
              "  }\n",
              "  return element;\n",
              "}\n",
              "\n",
              "// Max number of bytes which will be uploaded at a time.\n",
              "const MAX_PAYLOAD_SIZE = 100 * 1024;\n",
              "\n",
              "function _uploadFiles(inputId, outputId) {\n",
              "  const steps = uploadFilesStep(inputId, outputId);\n",
              "  const outputElement = document.getElementById(outputId);\n",
              "  // Cache steps on the outputElement to make it available for the next call\n",
              "  // to uploadFilesContinue from Python.\n",
              "  outputElement.steps = steps;\n",
              "\n",
              "  return _uploadFilesContinue(outputId);\n",
              "}\n",
              "\n",
              "// This is roughly an async generator (not supported in the browser yet),\n",
              "// where there are multiple asynchronous steps and the Python side is going\n",
              "// to poll for completion of each step.\n",
              "// This uses a Promise to block the python side on completion of each step,\n",
              "// then passes the result of the previous step as the input to the next step.\n",
              "function _uploadFilesContinue(outputId) {\n",
              "  const outputElement = document.getElementById(outputId);\n",
              "  const steps = outputElement.steps;\n",
              "\n",
              "  const next = steps.next(outputElement.lastPromiseValue);\n",
              "  return Promise.resolve(next.value.promise).then((value) => {\n",
              "    // Cache the last promise value to make it available to the next\n",
              "    // step of the generator.\n",
              "    outputElement.lastPromiseValue = value;\n",
              "    return next.value.response;\n",
              "  });\n",
              "}\n",
              "\n",
              "/**\n",
              " * Generator function which is called between each async step of the upload\n",
              " * process.\n",
              " * @param {string} inputId Element ID of the input file picker element.\n",
              " * @param {string} outputId Element ID of the output display.\n",
              " * @return {!Iterable<!Object>} Iterable of next steps.\n",
              " */\n",
              "function* uploadFilesStep(inputId, outputId) {\n",
              "  const inputElement = document.getElementById(inputId);\n",
              "  inputElement.disabled = false;\n",
              "\n",
              "  const outputElement = document.getElementById(outputId);\n",
              "  outputElement.innerHTML = '';\n",
              "\n",
              "  const pickedPromise = new Promise((resolve) => {\n",
              "    inputElement.addEventListener('change', (e) => {\n",
              "      resolve(e.target.files);\n",
              "    });\n",
              "  });\n",
              "\n",
              "  const cancel = document.createElement('button');\n",
              "  inputElement.parentElement.appendChild(cancel);\n",
              "  cancel.textContent = 'Cancel upload';\n",
              "  const cancelPromise = new Promise((resolve) => {\n",
              "    cancel.onclick = () => {\n",
              "      resolve(null);\n",
              "    };\n",
              "  });\n",
              "\n",
              "  // Wait for the user to pick the files.\n",
              "  const files = yield {\n",
              "    promise: Promise.race([pickedPromise, cancelPromise]),\n",
              "    response: {\n",
              "      action: 'starting',\n",
              "    }\n",
              "  };\n",
              "\n",
              "  cancel.remove();\n",
              "\n",
              "  // Disable the input element since further picks are not allowed.\n",
              "  inputElement.disabled = true;\n",
              "\n",
              "  if (!files) {\n",
              "    return {\n",
              "      response: {\n",
              "        action: 'complete',\n",
              "      }\n",
              "    };\n",
              "  }\n",
              "\n",
              "  for (const file of files) {\n",
              "    const li = document.createElement('li');\n",
              "    li.append(span(file.name, {fontWeight: 'bold'}));\n",
              "    li.append(span(\n",
              "        `(${file.type || 'n/a'}) - ${file.size} bytes, ` +\n",
              "        `last modified: ${\n",
              "            file.lastModifiedDate ? file.lastModifiedDate.toLocaleDateString() :\n",
              "                                    'n/a'} - `));\n",
              "    const percent = span('0% done');\n",
              "    li.appendChild(percent);\n",
              "\n",
              "    outputElement.appendChild(li);\n",
              "\n",
              "    const fileDataPromise = new Promise((resolve) => {\n",
              "      const reader = new FileReader();\n",
              "      reader.onload = (e) => {\n",
              "        resolve(e.target.result);\n",
              "      };\n",
              "      reader.readAsArrayBuffer(file);\n",
              "    });\n",
              "    // Wait for the data to be ready.\n",
              "    let fileData = yield {\n",
              "      promise: fileDataPromise,\n",
              "      response: {\n",
              "        action: 'continue',\n",
              "      }\n",
              "    };\n",
              "\n",
              "    // Use a chunked sending to avoid message size limits. See b/62115660.\n",
              "    let position = 0;\n",
              "    do {\n",
              "      const length = Math.min(fileData.byteLength - position, MAX_PAYLOAD_SIZE);\n",
              "      const chunk = new Uint8Array(fileData, position, length);\n",
              "      position += length;\n",
              "\n",
              "      const base64 = btoa(String.fromCharCode.apply(null, chunk));\n",
              "      yield {\n",
              "        response: {\n",
              "          action: 'append',\n",
              "          file: file.name,\n",
              "          data: base64,\n",
              "        },\n",
              "      };\n",
              "\n",
              "      let percentDone = fileData.byteLength === 0 ?\n",
              "          100 :\n",
              "          Math.round((position / fileData.byteLength) * 100);\n",
              "      percent.textContent = `${percentDone}% done`;\n",
              "\n",
              "    } while (position < fileData.byteLength);\n",
              "  }\n",
              "\n",
              "  // All done.\n",
              "  yield {\n",
              "    response: {\n",
              "      action: 'complete',\n",
              "    }\n",
              "  };\n",
              "}\n",
              "\n",
              "scope.google = scope.google || {};\n",
              "scope.google.colab = scope.google.colab || {};\n",
              "scope.google.colab._files = {\n",
              "  _uploadFiles,\n",
              "  _uploadFilesContinue,\n",
              "};\n",
              "})(self);\n",
              "</script> "
            ]
          },
          "metadata": {}
        },
        {
          "output_type": "stream",
          "name": "stdout",
          "text": [
            "Saving car_sales_data.csv to car_sales_data.csv\n"
          ]
        }
      ],
      "source": [
        "from google.colab import files\n",
        "uploaded = files.upload()\n"
      ]
    },
    {
      "cell_type": "code",
      "execution_count": null,
      "id": "3c8cf9e8",
      "metadata": {
        "id": "3c8cf9e8"
      },
      "outputs": [],
      "source": [
        "import io\n",
        "df = pd.read_csv(io.BytesIO(uploaded['car_sales_data.csv']))"
      ]
    },
    {
      "cell_type": "code",
      "execution_count": null,
      "id": "74936319",
      "metadata": {
        "id": "74936319"
      },
      "outputs": [],
      "source": [
        "# Check NAN Values"
      ]
    },
    {
      "cell_type": "code",
      "execution_count": null,
      "id": "9b6a238b",
      "metadata": {
        "scrolled": true,
        "colab": {
          "base_uri": "https://localhost:8080/"
        },
        "id": "9b6a238b",
        "outputId": "0d32d126-7e1a-4241-b054-599e506e3a0a"
      },
      "outputs": [
        {
          "output_type": "execute_result",
          "data": {
            "text/plain": [
              "Date                 0\n",
              "Salesperson          0\n",
              "Customer Name        0\n",
              "Car Make             0\n",
              "Car Model            0\n",
              "Car Year             0\n",
              "Sale Price           0\n",
              "Commission Rate      0\n",
              "Commission Earned    0\n",
              "dtype: int64"
            ]
          },
          "metadata": {},
          "execution_count": 6
        }
      ],
      "source": [
        "df.isnull().sum()"
      ]
    },
    {
      "cell_type": "code",
      "execution_count": null,
      "id": "79c34bab",
      "metadata": {
        "id": "79c34bab"
      },
      "outputs": [],
      "source": []
    },
    {
      "cell_type": "code",
      "execution_count": null,
      "id": "e4e5843d",
      "metadata": {
        "colab": {
          "base_uri": "https://localhost:8080/"
        },
        "id": "e4e5843d",
        "outputId": "f4a0b02d-4faf-42bf-8727-98773dc99ce5"
      },
      "outputs": [
        {
          "output_type": "stream",
          "name": "stdout",
          "text": [
            "<class 'pandas.core.frame.DataFrame'>\n",
            "RangeIndex: 1048575 entries, 0 to 1048574\n",
            "Data columns (total 9 columns):\n",
            " #   Column             Non-Null Count    Dtype  \n",
            "---  ------             --------------    -----  \n",
            " 0   Date               1048575 non-null  object \n",
            " 1   Salesperson        1048575 non-null  object \n",
            " 2   Customer Name      1048575 non-null  object \n",
            " 3   Car Make           1048575 non-null  object \n",
            " 4   Car Model          1048575 non-null  object \n",
            " 5   Car Year           1048575 non-null  int64  \n",
            " 6   Sale Price         1048575 non-null  int64  \n",
            " 7   Commission Rate    1048575 non-null  float64\n",
            " 8   Commission Earned  1048575 non-null  float64\n",
            "dtypes: float64(2), int64(2), object(5)\n",
            "memory usage: 72.0+ MB\n"
          ]
        }
      ],
      "source": [
        "df.info()"
      ]
    },
    {
      "cell_type": "code",
      "execution_count": null,
      "id": "e83111e4",
      "metadata": {
        "colab": {
          "base_uri": "https://localhost:8080/",
          "height": 300
        },
        "id": "e83111e4",
        "outputId": "ed0b3917-c148-4fe8-9985-d812fe1dfc74"
      },
      "outputs": [
        {
          "output_type": "execute_result",
          "data": {
            "text/plain": [
              "           Car Year    Sale Price  Commission Rate  Commission Earned\n",
              "count  1.048575e+06  1.048575e+06     1.048575e+06       1.048575e+06\n",
              "mean   2.015995e+03  3.001837e+04     9.995861e-02       3.000824e+03\n",
              "std    3.740360e+00  1.154381e+04     2.886096e-02       1.480912e+03\n",
              "min    2.010000e+03  1.000000e+04     5.000014e-02       5.013400e+02\n",
              "25%    2.013000e+03  2.003000e+04     7.493990e-02       1.822280e+03\n",
              "50%    2.016000e+03  3.000900e+04     9.996744e-02       2.741750e+03\n",
              "75%    2.019000e+03  4.003200e+04     1.249475e-01       3.978925e+03\n",
              "max    2.022000e+03  5.000000e+04     1.500000e-01       7.494530e+03"
            ],
            "text/html": [
              "\n",
              "  <div id=\"df-7636aaf7-aa6e-4891-9ed4-ed80a3b153ac\">\n",
              "    <div class=\"colab-df-container\">\n",
              "      <div>\n",
              "<style scoped>\n",
              "    .dataframe tbody tr th:only-of-type {\n",
              "        vertical-align: middle;\n",
              "    }\n",
              "\n",
              "    .dataframe tbody tr th {\n",
              "        vertical-align: top;\n",
              "    }\n",
              "\n",
              "    .dataframe thead th {\n",
              "        text-align: right;\n",
              "    }\n",
              "</style>\n",
              "<table border=\"1\" class=\"dataframe\">\n",
              "  <thead>\n",
              "    <tr style=\"text-align: right;\">\n",
              "      <th></th>\n",
              "      <th>Car Year</th>\n",
              "      <th>Sale Price</th>\n",
              "      <th>Commission Rate</th>\n",
              "      <th>Commission Earned</th>\n",
              "    </tr>\n",
              "  </thead>\n",
              "  <tbody>\n",
              "    <tr>\n",
              "      <th>count</th>\n",
              "      <td>1.048575e+06</td>\n",
              "      <td>1.048575e+06</td>\n",
              "      <td>1.048575e+06</td>\n",
              "      <td>1.048575e+06</td>\n",
              "    </tr>\n",
              "    <tr>\n",
              "      <th>mean</th>\n",
              "      <td>2.015995e+03</td>\n",
              "      <td>3.001837e+04</td>\n",
              "      <td>9.995861e-02</td>\n",
              "      <td>3.000824e+03</td>\n",
              "    </tr>\n",
              "    <tr>\n",
              "      <th>std</th>\n",
              "      <td>3.740360e+00</td>\n",
              "      <td>1.154381e+04</td>\n",
              "      <td>2.886096e-02</td>\n",
              "      <td>1.480912e+03</td>\n",
              "    </tr>\n",
              "    <tr>\n",
              "      <th>min</th>\n",
              "      <td>2.010000e+03</td>\n",
              "      <td>1.000000e+04</td>\n",
              "      <td>5.000014e-02</td>\n",
              "      <td>5.013400e+02</td>\n",
              "    </tr>\n",
              "    <tr>\n",
              "      <th>25%</th>\n",
              "      <td>2.013000e+03</td>\n",
              "      <td>2.003000e+04</td>\n",
              "      <td>7.493990e-02</td>\n",
              "      <td>1.822280e+03</td>\n",
              "    </tr>\n",
              "    <tr>\n",
              "      <th>50%</th>\n",
              "      <td>2.016000e+03</td>\n",
              "      <td>3.000900e+04</td>\n",
              "      <td>9.996744e-02</td>\n",
              "      <td>2.741750e+03</td>\n",
              "    </tr>\n",
              "    <tr>\n",
              "      <th>75%</th>\n",
              "      <td>2.019000e+03</td>\n",
              "      <td>4.003200e+04</td>\n",
              "      <td>1.249475e-01</td>\n",
              "      <td>3.978925e+03</td>\n",
              "    </tr>\n",
              "    <tr>\n",
              "      <th>max</th>\n",
              "      <td>2.022000e+03</td>\n",
              "      <td>5.000000e+04</td>\n",
              "      <td>1.500000e-01</td>\n",
              "      <td>7.494530e+03</td>\n",
              "    </tr>\n",
              "  </tbody>\n",
              "</table>\n",
              "</div>\n",
              "      <button class=\"colab-df-convert\" onclick=\"convertToInteractive('df-7636aaf7-aa6e-4891-9ed4-ed80a3b153ac')\"\n",
              "              title=\"Convert this dataframe to an interactive table.\"\n",
              "              style=\"display:none;\">\n",
              "        \n",
              "  <svg xmlns=\"http://www.w3.org/2000/svg\" height=\"24px\"viewBox=\"0 0 24 24\"\n",
              "       width=\"24px\">\n",
              "    <path d=\"M0 0h24v24H0V0z\" fill=\"none\"/>\n",
              "    <path d=\"M18.56 5.44l.94 2.06.94-2.06 2.06-.94-2.06-.94-.94-2.06-.94 2.06-2.06.94zm-11 1L8.5 8.5l.94-2.06 2.06-.94-2.06-.94L8.5 2.5l-.94 2.06-2.06.94zm10 10l.94 2.06.94-2.06 2.06-.94-2.06-.94-.94-2.06-.94 2.06-2.06.94z\"/><path d=\"M17.41 7.96l-1.37-1.37c-.4-.4-.92-.59-1.43-.59-.52 0-1.04.2-1.43.59L10.3 9.45l-7.72 7.72c-.78.78-.78 2.05 0 2.83L4 21.41c.39.39.9.59 1.41.59.51 0 1.02-.2 1.41-.59l7.78-7.78 2.81-2.81c.8-.78.8-2.07 0-2.86zM5.41 20L4 18.59l7.72-7.72 1.47 1.35L5.41 20z\"/>\n",
              "  </svg>\n",
              "      </button>\n",
              "      \n",
              "  <style>\n",
              "    .colab-df-container {\n",
              "      display:flex;\n",
              "      flex-wrap:wrap;\n",
              "      gap: 12px;\n",
              "    }\n",
              "\n",
              "    .colab-df-convert {\n",
              "      background-color: #E8F0FE;\n",
              "      border: none;\n",
              "      border-radius: 50%;\n",
              "      cursor: pointer;\n",
              "      display: none;\n",
              "      fill: #1967D2;\n",
              "      height: 32px;\n",
              "      padding: 0 0 0 0;\n",
              "      width: 32px;\n",
              "    }\n",
              "\n",
              "    .colab-df-convert:hover {\n",
              "      background-color: #E2EBFA;\n",
              "      box-shadow: 0px 1px 2px rgba(60, 64, 67, 0.3), 0px 1px 3px 1px rgba(60, 64, 67, 0.15);\n",
              "      fill: #174EA6;\n",
              "    }\n",
              "\n",
              "    [theme=dark] .colab-df-convert {\n",
              "      background-color: #3B4455;\n",
              "      fill: #D2E3FC;\n",
              "    }\n",
              "\n",
              "    [theme=dark] .colab-df-convert:hover {\n",
              "      background-color: #434B5C;\n",
              "      box-shadow: 0px 1px 3px 1px rgba(0, 0, 0, 0.15);\n",
              "      filter: drop-shadow(0px 1px 2px rgba(0, 0, 0, 0.3));\n",
              "      fill: #FFFFFF;\n",
              "    }\n",
              "  </style>\n",
              "\n",
              "      <script>\n",
              "        const buttonEl =\n",
              "          document.querySelector('#df-7636aaf7-aa6e-4891-9ed4-ed80a3b153ac button.colab-df-convert');\n",
              "        buttonEl.style.display =\n",
              "          google.colab.kernel.accessAllowed ? 'block' : 'none';\n",
              "\n",
              "        async function convertToInteractive(key) {\n",
              "          const element = document.querySelector('#df-7636aaf7-aa6e-4891-9ed4-ed80a3b153ac');\n",
              "          const dataTable =\n",
              "            await google.colab.kernel.invokeFunction('convertToInteractive',\n",
              "                                                     [key], {});\n",
              "          if (!dataTable) return;\n",
              "\n",
              "          const docLinkHtml = 'Like what you see? Visit the ' +\n",
              "            '<a target=\"_blank\" href=https://colab.research.google.com/notebooks/data_table.ipynb>data table notebook</a>'\n",
              "            + ' to learn more about interactive tables.';\n",
              "          element.innerHTML = '';\n",
              "          dataTable['output_type'] = 'display_data';\n",
              "          await google.colab.output.renderOutput(dataTable, element);\n",
              "          const docLink = document.createElement('div');\n",
              "          docLink.innerHTML = docLinkHtml;\n",
              "          element.appendChild(docLink);\n",
              "        }\n",
              "      </script>\n",
              "    </div>\n",
              "  </div>\n",
              "  "
            ]
          },
          "metadata": {},
          "execution_count": 8
        }
      ],
      "source": [
        "df.describe()"
      ]
    },
    {
      "cell_type": "code",
      "execution_count": null,
      "id": "5e08732a",
      "metadata": {
        "id": "5e08732a"
      },
      "outputs": [],
      "source": []
    },
    {
      "cell_type": "markdown",
      "source": [
        "**Calculate the average sale price for each car make**"
      ],
      "metadata": {
        "id": "GWhU9VPL-wiU"
      },
      "id": "GWhU9VPL-wiU"
    },
    {
      "cell_type": "code",
      "execution_count": null,
      "id": "c4fd4fe2",
      "metadata": {
        "id": "c4fd4fe2"
      },
      "outputs": [],
      "source": [
        "avg_sale_price = df.groupby('Car Make')['Sale Price'].mean()"
      ]
    },
    {
      "cell_type": "markdown",
      "source": [
        "Define a higher price of car make as the car make with the highest average sale price\n",
        "**bold text**"
      ],
      "metadata": {
        "id": "skLDufG6-2iO"
      },
      "id": "skLDufG6-2iO"
    },
    {
      "cell_type": "code",
      "execution_count": null,
      "id": "ba32538a",
      "metadata": {
        "id": "ba32538a"
      },
      "outputs": [],
      "source": [
        "higher_price_make = avg_sale_price.idxmax()"
      ]
    },
    {
      "cell_type": "code",
      "execution_count": null,
      "id": "81ce785f",
      "metadata": {
        "id": "81ce785f",
        "outputId": "f62fccfc-67b2-4a82-8eea-81622b178d23",
        "colab": {
          "base_uri": "https://localhost:8080/",
          "height": 472
        }
      },
      "outputs": [
        {
          "output_type": "display_data",
          "data": {
            "text/plain": [
              "<Figure size 640x480 with 1 Axes>"
            ],
            "image/png": "[encoded data removed]"
          },
          "metadata": {}
        }
      ],
      "source": [
        "# Visualize the results \n",
        "plt.plot(avg_sale_price, 'b-', label='Average Sale Price')\n",
        "plt.xlabel('Car Make')\n",
        "plt.ylabel('Average Sale Price')\n",
        "plt.title('Average Sale Price by Car Make')\n",
        "plt.show()"
      ]
    },
    {
      "cell_type": "code",
      "execution_count": null,
      "id": "9f637f03",
      "metadata": {
        "id": "9f637f03",
        "outputId": "1b4964cb-ea79-4d6e-e2f4-1634c7eedc8b",
        "colab": {
          "base_uri": "https://localhost:8080/"
        }
      },
      "outputs": [
        {
          "output_type": "stream",
          "name": "stdout",
          "text": [
            "The higher price of car make is Honda\n"
          ]
        }
      ],
      "source": [
        "print(f'The higher price of car make is {higher_price_make}')"
      ]
    },
    {
      "cell_type": "markdown",
      "source": [
        "**Calculate the commission earned for each customer name**"
      ],
      "metadata": {
        "id": "viPxmeKE-OsO"
      },
      "id": "viPxmeKE-OsO"
    },
    {
      "cell_type": "code",
      "execution_count": null,
      "id": "2b805acf",
      "metadata": {
        "id": "2b805acf"
      },
      "outputs": [],
      "source": [
        "\n",
        "commission_earned = df.groupby('Customer Name')['Commission Earned'].sum()"
      ]
    },
    {
      "cell_type": "markdown",
      "source": [
        "**Define the best five commission earned as the top five customer names with the highest commission earned**"
      ],
      "metadata": {
        "id": "BNrkKwpb-Vto"
      },
      "id": "BNrkKwpb-Vto"
    },
    {
      "cell_type": "code",
      "execution_count": null,
      "id": "9dbe8102",
      "metadata": {
        "id": "9dbe8102"
      },
      "outputs": [],
      "source": [
        "best_five_commission_earned = commission_earned.nlargest(5)"
      ]
    },
    {
      "cell_type": "code",
      "execution_count": null,
      "id": "58fec4c2",
      "metadata": {
        "id": "58fec4c2",
        "outputId": "0d230911-ecfb-40a5-97b9-5545d8f76adb",
        "colab": {
          "base_uri": "https://localhost:8080/",
          "height": 570
        }
      },
      "outputs": [
        {
          "output_type": "display_data",
          "data": {
            "text/plain": [
              "<Figure size 640x480 with 1 Axes>"
            ],
            "image/png": "[encoded data removed]"
          },
          "metadata": {}
        }
      ],
      "source": [
        "# Visualize the results\n",
        "sns.barplot(x=best_five_commission_earned.index, y=best_five_commission_earned.values, palette='Blues')\n",
        "plt.xlabel('Customer Name')\n",
        "plt.ylabel('Commission Earned')\n",
        "plt.title('Top 5 Commission Earned by Customer Name')\n",
        "plt.xticks(rotation=90)\n",
        "plt.show()"
      ]
    },
    {
      "cell_type": "code",
      "execution_count": null,
      "id": "05a2444e",
      "metadata": {
        "id": "05a2444e",
        "outputId": "c0720f5c-3f9b-4353-c0f9-11d8d1942b5f",
        "colab": {
          "base_uri": "https://localhost:8080/"
        }
      },
      "outputs": [
        {
          "output_type": "stream",
          "name": "stdout",
          "text": [
            "The best five commission earned are Customer Name\n",
            "Michael Smith      1471043.86\n",
            "Michael Johnson    1113566.21\n",
            "James Smith        1050118.43\n",
            "Michael Jones       964482.04\n",
            "John Smith          964031.85\n",
            "Name: Commission Earned, dtype: float64\n"
          ]
        }
      ],
      "source": [
        "print(f'The best five commission earned are {best_five_commission_earned}')"
      ]
    },
    {
      "cell_type": "markdown",
      "source": [
        "**Convert the Date column to a Pandas DatetimeIndex object**"
      ],
      "metadata": {
        "id": "SwOiru1g9_X-"
      },
      "id": "SwOiru1g9_X-"
    },
    {
      "cell_type": "code",
      "execution_count": null,
      "id": "e2dbbd81",
      "metadata": {
        "id": "e2dbbd81"
      },
      "outputs": [],
      "source": [
        "df['Date'] = pd.to_datetime(df['Date'])"
      ]
    },
    {
      "cell_type": "markdown",
      "source": [
        "**Extract the month from the Date column and convert it to a string**"
      ],
      "metadata": {
        "id": "A0R7oYuj-DFa"
      },
      "id": "A0R7oYuj-DFa"
    },
    {
      "cell_type": "code",
      "execution_count": null,
      "id": "d4afc54d",
      "metadata": {
        "id": "d4afc54d",
        "outputId": "2e84240f-cb92-4a32-b627-b960b0f8a6ca",
        "colab": {
          "base_uri": "https://localhost:8080/",
          "height": 250
        }
      },
      "outputs": [
        {
          "output_type": "execute_result",
          "data": {
            "text/plain": [
              "        Date      Salesperson   Customer Name Car Make  Car Model  Car Year  \\\n",
              "0 2022-08-01  Monica Moore MD     Mary Butler   Nissan     Altima      2018   \n",
              "1 2023-03-15     Roberto Rose  Richard Pierce   Nissan      F-150      2016   \n",
              "2 2023-04-29     Ashley Ramos    Sandra Moore     Ford      Civic      2016   \n",
              "3 2022-09-04   Patrick Harris    Johnny Scott     Ford     Altima      2013   \n",
              "4 2022-06-16       Eric Lopez   Vanessa Jones    Honda  Silverado      2022   \n",
              "\n",
              "   Sale Price  Commission Rate  Commission Earned Month  \n",
              "0       15983         0.070495            1126.73     8  \n",
              "1       38474         0.134439            5172.40     3  \n",
              "2       33340         0.114536            3818.63     4  \n",
              "3       41937         0.092191            3866.20     9  \n",
              "4       20256         0.113490            2298.85     6  "
            ],
            "text/html": [
              "\n",
              "  <div id=\"df-7bd7195b-855e-41c5-a7ca-1760fdb701c1\">\n",
              "    <div class=\"colab-df-container\">\n",
              "      <div>\n",
              "<style scoped>\n",
              "    .dataframe tbody tr th:only-of-type {\n",
              "        vertical-align: middle;\n",
              "    }\n",
              "\n",
              "    .dataframe tbody tr th {\n",
              "        vertical-align: top;\n",
              "    }\n",
              "\n",
              "    .dataframe thead th {\n",
              "        text-align: right;\n",
              "    }\n",
              "</style>\n",
              "<table border=\"1\" class=\"dataframe\">\n",
              "  <thead>\n",
              "    <tr style=\"text-align: right;\">\n",
              "      <th></th>\n",
              "      <th>Date</th>\n",
              "      <th>Salesperson</th>\n",
              "      <th>Customer Name</th>\n",
              "      <th>Car Make</th>\n",
              "      <th>Car Model</th>\n",
              "      <th>Car Year</th>\n",
              "      <th>Sale Price</th>\n",
              "      <th>Commission Rate</th>\n",
              "      <th>Commission Earned</th>\n",
              "      <th>Month</th>\n",
              "    </tr>\n",
              "  </thead>\n",
              "  <tbody>\n",
              "    <tr>\n",
              "      <th>0</th>\n",
              "      <td>2022-08-01</td>\n",
              "      <td>Monica Moore MD</td>\n",
              "      <td>Mary Butler</td>\n",
              "      <td>Nissan</td>\n",
              "      <td>Altima</td>\n",
              "      <td>2018</td>\n",
              "      <td>15983</td>\n",
              "      <td>0.070495</td>\n",
              "      <td>1126.73</td>\n",
              "      <td>8</td>\n",
              "    </tr>\n",
              "    <tr>\n",
              "      <th>1</th>\n",
              "      <td>2023-03-15</td>\n",
              "      <td>Roberto Rose</td>\n",
              "      <td>Richard Pierce</td>\n",
              "      <td>Nissan</td>\n",
              "      <td>F-150</td>\n",
              "      <td>2016</td>\n",
              "      <td>38474</td>\n",
              "      <td>0.134439</td>\n",
              "      <td>5172.40</td>\n",
              "      <td>3</td>\n",
              "    </tr>\n",
              "    <tr>\n",
              "      <th>2</th>\n",
              "      <td>2023-04-29</td>\n",
              "      <td>Ashley Ramos</td>\n",
              "      <td>Sandra Moore</td>\n",
              "      <td>Ford</td>\n",
              "      <td>Civic</td>\n",
              "      <td>2016</td>\n",
              "      <td>33340</td>\n",
              "      <td>0.114536</td>\n",
              "      <td>3818.63</td>\n",
              "      <td>4</td>\n",
              "    </tr>\n",
              "    <tr>\n",
              "      <th>3</th>\n",
              "      <td>2022-09-04</td>\n",
              "      <td>Patrick Harris</td>\n",
              "      <td>Johnny Scott</td>\n",
              "      <td>Ford</td>\n",
              "      <td>Altima</td>\n",
              "      <td>2013</td>\n",
              "      <td>41937</td>\n",
              "      <td>0.092191</td>\n",
              "      <td>3866.20</td>\n",
              "      <td>9</td>\n",
              "    </tr>\n",
              "    <tr>\n",
              "      <th>4</th>\n",
              "      <td>2022-06-16</td>\n",
              "      <td>Eric Lopez</td>\n",
              "      <td>Vanessa Jones</td>\n",
              "      <td>Honda</td>\n",
              "      <td>Silverado</td>\n",
              "      <td>2022</td>\n",
              "      <td>20256</td>\n",
              "      <td>0.113490</td>\n",
              "      <td>2298.85</td>\n",
              "      <td>6</td>\n",
              "    </tr>\n",
              "  </tbody>\n",
              "</table>\n",
              "</div>\n",
              "      <button class=\"colab-df-convert\" onclick=\"convertToInteractive('df-7bd7195b-855e-41c5-a7ca-1760fdb701c1')\"\n",
              "              title=\"Convert this dataframe to an interactive table.\"\n",
              "              style=\"display:none;\">\n",
              "        \n",
              "  <svg xmlns=\"http://www.w3.org/2000/svg\" height=\"24px\"viewBox=\"0 0 24 24\"\n",
              "       width=\"24px\">\n",
              "    <path d=\"M0 0h24v24H0V0z\" fill=\"none\"/>\n",
              "    <path d=\"M18.56 5.44l.94 2.06.94-2.06 2.06-.94-2.06-.94-.94-2.06-.94 2.06-2.06.94zm-11 1L8.5 8.5l.94-2.06 2.06-.94-2.06-.94L8.5 2.5l-.94 2.06-2.06.94zm10 10l.94 2.06.94-2.06 2.06-.94-2.06-.94-.94-2.06-.94 2.06-2.06.94z\"/><path d=\"M17.41 7.96l-1.37-1.37c-.4-.4-.92-.59-1.43-.59-.52 0-1.04.2-1.43.59L10.3 9.45l-7.72 7.72c-.78.78-.78 2.05 0 2.83L4 21.41c.39.39.9.59 1.41.59.51 0 1.02-.2 1.41-.59l7.78-7.78 2.81-2.81c.8-.78.8-2.07 0-2.86zM5.41 20L4 18.59l7.72-7.72 1.47 1.35L5.41 20z\"/>\n",
              "  </svg>\n",
              "      </button>\n",
              "      \n",
              "  <style>\n",
              "    .colab-df-container {\n",
              "      display:flex;\n",
              "      flex-wrap:wrap;\n",
              "      gap: 12px;\n",
              "    }\n",
              "\n",
              "    .colab-df-convert {\n",
              "      background-color: #E8F0FE;\n",
              "      border: none;\n",
              "      border-radius: 50%;\n",
              "      cursor: pointer;\n",
              "      display: none;\n",
              "      fill: #1967D2;\n",
              "      height: 32px;\n",
              "      padding: 0 0 0 0;\n",
              "      width: 32px;\n",
              "    }\n",
              "\n",
              "    .colab-df-convert:hover {\n",
              "      background-color: #E2EBFA;\n",
              "      box-shadow: 0px 1px 2px rgba(60, 64, 67, 0.3), 0px 1px 3px 1px rgba(60, 64, 67, 0.15);\n",
              "      fill: #174EA6;\n",
              "    }\n",
              "\n",
              "    [theme=dark] .colab-df-convert {\n",
              "      background-color: #3B4455;\n",
              "      fill: #D2E3FC;\n",
              "    }\n",
              "\n",
              "    [theme=dark] .colab-df-convert:hover {\n",
              "      background-color: #434B5C;\n",
              "      box-shadow: 0px 1px 3px 1px rgba(0, 0, 0, 0.15);\n",
              "      filter: drop-shadow(0px 1px 2px rgba(0, 0, 0, 0.3));\n",
              "      fill: #FFFFFF;\n",
              "    }\n",
              "  </style>\n",
              "\n",
              "      <script>\n",
              "        const buttonEl =\n",
              "          document.querySelector('#df-7bd7195b-855e-41c5-a7ca-1760fdb701c1 button.colab-df-convert');\n",
              "        buttonEl.style.display =\n",
              "          google.colab.kernel.accessAllowed ? 'block' : 'none';\n",
              "\n",
              "        async function convertToInteractive(key) {\n",
              "          const element = document.querySelector('#df-7bd7195b-855e-41c5-a7ca-1760fdb701c1');\n",
              "          const dataTable =\n",
              "            await google.colab.kernel.invokeFunction('convertToInteractive',\n",
              "                                                     [key], {});\n",
              "          if (!dataTable) return;\n",
              "\n",
              "          const docLinkHtml = 'Like what you see? Visit the ' +\n",
              "            '<a target=\"_blank\" href=https://colab.research.google.com/notebooks/data_table.ipynb>data table notebook</a>'\n",
              "            + ' to learn more about interactive tables.';\n",
              "          element.innerHTML = '';\n",
              "          dataTable['output_type'] = 'display_data';\n",
              "          await google.colab.output.renderOutput(dataTable, element);\n",
              "          const docLink = document.createElement('div');\n",
              "          docLink.innerHTML = docLinkHtml;\n",
              "          element.appendChild(docLink);\n",
              "        }\n",
              "      </script>\n",
              "    </div>\n",
              "  </div>\n",
              "  "
            ]
          },
          "metadata": {},
          "execution_count": 18
        }
      ],
      "source": [
        "\n",
        "df['Month'] = df['Date'].dt.month.astype(str)\n",
        "df.head()"
      ]
    },
    {
      "cell_type": "markdown",
      "source": [
        "**Group the DataFrame by month and calculate the average sale price   **"
      ],
      "metadata": {
        "id": "ITmSZ8zi9gpH"
      },
      "id": "ITmSZ8zi9gpH"
    },
    {
      "cell_type": "code",
      "execution_count": null,
      "id": "cc4c0c71",
      "metadata": {
        "id": "cc4c0c71"
      },
      "outputs": [],
      "source": [
        "df = df.groupby('Month').agg({'Sale Price': 'mean'})"
      ]
    },
    {
      "cell_type": "code",
      "execution_count": null,
      "id": "f8ac8d7c",
      "metadata": {
        "id": "f8ac8d7c",
        "outputId": "4499e7db-60d3-4aa8-d856-504c2da081bf",
        "colab": {
          "base_uri": "https://localhost:8080/"
        }
      },
      "outputs": [
        {
          "output_type": "stream",
          "name": "stdout",
          "text": [
            "         Sale Price\n",
            "Month              \n",
            "8      30114.552856\n",
            "4      30059.314335\n",
            "11     30054.150646\n",
            "2      30029.932380\n",
            "7      30027.307681\n"
          ]
        }
      ],
      "source": [
        "df = df.sort_values('Sale Price', ascending=False)\n",
        "\n",
        "best_months = df.head(5)\n",
        "print(best_months)"
      ]
    },
    {
      "cell_type": "code",
      "execution_count": null,
      "id": "d957594b",
      "metadata": {
        "id": "d957594b"
      },
      "outputs": [],
      "source": []
    },
    {
      "cell_type": "markdown",
      "source": [
        "**Now We Want To Make a prediction for this data so we have over more 1048000 rows that lead us to build a regression of deep learning model using Relu Function and Mini_Batch to divide dataset **"
      ],
      "metadata": {
        "id": "B_DvaX0d7Nvq"
      },
      "id": "B_DvaX0d7Nvq"
    },
    {
      "cell_type": "code",
      "source": [
        "uploaded = files.upload()"
      ],
      "metadata": {
        "colab": {
          "base_uri": "https://localhost:8080/",
          "height": 75
        },
        "id": "mR2MxjBWAUas",
        "outputId": "13533704-2316-43d2-ef56-5b775c987d60"
      },
      "id": "mR2MxjBWAUas",
      "execution_count": 63,
      "outputs": [
        {
          "output_type": "display_data",
          "data": {
            "text/plain": [
              "<IPython.core.display.HTML object>"
            ],
            "text/html": [
              "\n",
              "     <input type=\"file\" id=\"files-a5d30875-a36e-4887-beae-bb2bdc87fccf\" name=\"files[]\" multiple disabled\n",
              "        style=\"border:none\" />\n",
              "     <output id=\"result-a5d30875-a36e-4887-beae-bb2bdc87fccf\">\n",
              "      Upload widget is only available when the cell has been executed in the\n",
              "      current browser session. Please rerun this cell to enable.\n",
              "      </output>\n",
              "      <script>// Copyright 2017 Google LLC\n",
              "//\n",
              "// Licensed under the Apache License, Version 2.0 (the \"License\");\n",
              "// you may not use this file except in compliance with the License.\n",
              "// You may obtain a copy of the License at\n",
              "//\n",
              "//      http://www.apache.org/licenses/LICENSE-2.0\n",
              "//\n",
              "// Unless required by applicable law or agreed to in writing, software\n",
              "// distributed under the License is distributed on an \"AS IS\" BASIS,\n",
              "// WITHOUT WARRANTIES OR CONDITIONS OF ANY KIND, either express or implied.\n",
              "// See the License for the specific language governing permissions and\n",
              "// limitations under the License.\n",
              "\n",
              "/**\n",
              " * @fileoverview Helpers for google.colab Python module.\n",
              " */\n",
              "(function(scope) {\n",
              "function span(text, styleAttributes = {}) {\n",
              "  const element = document.createElement('span');\n",
              "  element.textContent = text;\n",
              "  for (const key of Object.keys(styleAttributes)) {\n",
              "    element.style[key] = styleAttributes[key];\n",
              "  }\n",
              "  return element;\n",
              "}\n",
              "\n",
              "// Max number of bytes which will be uploaded at a time.\n",
              "const MAX_PAYLOAD_SIZE = 100 * 1024;\n",
              "\n",
              "function _uploadFiles(inputId, outputId) {\n",
              "  const steps = uploadFilesStep(inputId, outputId);\n",
              "  const outputElement = document.getElementById(outputId);\n",
              "  // Cache steps on the outputElement to make it available for the next call\n",
              "  // to uploadFilesContinue from Python.\n",
              "  outputElement.steps = steps;\n",
              "\n",
              "  return _uploadFilesContinue(outputId);\n",
              "}\n",
              "\n",
              "// This is roughly an async generator (not supported in the browser yet),\n",
              "// where there are multiple asynchronous steps and the Python side is going\n",
              "// to poll for completion of each step.\n",
              "// This uses a Promise to block the python side on completion of each step,\n",
              "// then passes the result of the previous step as the input to the next step.\n",
              "function _uploadFilesContinue(outputId) {\n",
              "  const outputElement = document.getElementById(outputId);\n",
              "  const steps = outputElement.steps;\n",
              "\n",
              "  const next = steps.next(outputElement.lastPromiseValue);\n",
              "  return Promise.resolve(next.value.promise).then((value) => {\n",
              "    // Cache the last promise value to make it available to the next\n",
              "    // step of the generator.\n",
              "    outputElement.lastPromiseValue = value;\n",
              "    return next.value.response;\n",
              "  });\n",
              "}\n",
              "\n",
              "/**\n",
              " * Generator function which is called between each async step of the upload\n",
              " * process.\n",
              " * @param {string} inputId Element ID of the input file picker element.\n",
              " * @param {string} outputId Element ID of the output display.\n",
              " * @return {!Iterable<!Object>} Iterable of next steps.\n",
              " */\n",
              "function* uploadFilesStep(inputId, outputId) {\n",
              "  const inputElement = document.getElementById(inputId);\n",
              "  inputElement.disabled = false;\n",
              "\n",
              "  const outputElement = document.getElementById(outputId);\n",
              "  outputElement.innerHTML = '';\n",
              "\n",
              "  const pickedPromise = new Promise((resolve) => {\n",
              "    inputElement.addEventListener('change', (e) => {\n",
              "      resolve(e.target.files);\n",
              "    });\n",
              "  });\n",
              "\n",
              "  const cancel = document.createElement('button');\n",
              "  inputElement.parentElement.appendChild(cancel);\n",
              "  cancel.textContent = 'Cancel upload';\n",
              "  const cancelPromise = new Promise((resolve) => {\n",
              "    cancel.onclick = () => {\n",
              "      resolve(null);\n",
              "    };\n",
              "  });\n",
              "\n",
              "  // Wait for the user to pick the files.\n",
              "  const files = yield {\n",
              "    promise: Promise.race([pickedPromise, cancelPromise]),\n",
              "    response: {\n",
              "      action: 'starting',\n",
              "    }\n",
              "  };\n",
              "\n",
              "  cancel.remove();\n",
              "\n",
              "  // Disable the input element since further picks are not allowed.\n",
              "  inputElement.disabled = true;\n",
              "\n",
              "  if (!files) {\n",
              "    return {\n",
              "      response: {\n",
              "        action: 'complete',\n",
              "      }\n",
              "    };\n",
              "  }\n",
              "\n",
              "  for (const file of files) {\n",
              "    const li = document.createElement('li');\n",
              "    li.append(span(file.name, {fontWeight: 'bold'}));\n",
              "    li.append(span(\n",
              "        `(${file.type || 'n/a'}) - ${file.size} bytes, ` +\n",
              "        `last modified: ${\n",
              "            file.lastModifiedDate ? file.lastModifiedDate.toLocaleDateString() :\n",
              "                                    'n/a'} - `));\n",
              "    const percent = span('0% done');\n",
              "    li.appendChild(percent);\n",
              "\n",
              "    outputElement.appendChild(li);\n",
              "\n",
              "    const fileDataPromise = new Promise((resolve) => {\n",
              "      const reader = new FileReader();\n",
              "      reader.onload = (e) => {\n",
              "        resolve(e.target.result);\n",
              "      };\n",
              "      reader.readAsArrayBuffer(file);\n",
              "    });\n",
              "    // Wait for the data to be ready.\n",
              "    let fileData = yield {\n",
              "      promise: fileDataPromise,\n",
              "      response: {\n",
              "        action: 'continue',\n",
              "      }\n",
              "    };\n",
              "\n",
              "    // Use a chunked sending to avoid message size limits. See b/62115660.\n",
              "    let position = 0;\n",
              "    do {\n",
              "      const length = Math.min(fileData.byteLength - position, MAX_PAYLOAD_SIZE);\n",
              "      const chunk = new Uint8Array(fileData, position, length);\n",
              "      position += length;\n",
              "\n",
              "      const base64 = btoa(String.fromCharCode.apply(null, chunk));\n",
              "      yield {\n",
              "        response: {\n",
              "          action: 'append',\n",
              "          file: file.name,\n",
              "          data: base64,\n",
              "        },\n",
              "      };\n",
              "\n",
              "      let percentDone = fileData.byteLength === 0 ?\n",
              "          100 :\n",
              "          Math.round((position / fileData.byteLength) * 100);\n",
              "      percent.textContent = `${percentDone}% done`;\n",
              "\n",
              "    } while (position < fileData.byteLength);\n",
              "  }\n",
              "\n",
              "  // All done.\n",
              "  yield {\n",
              "    response: {\n",
              "      action: 'complete',\n",
              "    }\n",
              "  };\n",
              "}\n",
              "\n",
              "scope.google = scope.google || {};\n",
              "scope.google.colab = scope.google.colab || {};\n",
              "scope.google.colab._files = {\n",
              "  _uploadFiles,\n",
              "  _uploadFilesContinue,\n",
              "};\n",
              "})(self);\n",
              "</script> "
            ]
          },
          "metadata": {}
        },
        {
          "output_type": "stream",
          "name": "stdout",
          "text": [
            "Saving car_sales_data.csv to car_sales_data.csv\n"
          ]
        }
      ]
    },
    {
      "cell_type": "code",
      "source": [
        "drive.mount('/content/drive')"
      ],
      "metadata": {
        "colab": {
          "base_uri": "https://localhost:8080/"
        },
        "id": "M1icvxBo5RQX",
        "outputId": "d559b6c9-2b60-4820-977f-6b886602c061"
      },
      "id": "M1icvxBo5RQX",
      "execution_count": 55,
      "outputs": [
        {
          "output_type": "stream",
          "name": "stdout",
          "text": [
            "Drive already mounted at /content/drive; to attempt to forcibly remount, call drive.mount(\"/content/drive\", force_remount=True).\n"
          ]
        }
      ]
    },
    {
      "cell_type": "code",
      "source": [
        "df = pd.read_csv('/content/drive/My Drive/car_sales_data.csv')"
      ],
      "metadata": {
        "id": "98nByDAj5dGw"
      },
      "id": "98nByDAj5dGw",
      "execution_count": 56,
      "outputs": []
    },
    {
      "cell_type": "markdown",
      "source": [
        "**Upload File and Import necessary Library**"
      ],
      "metadata": {
        "id": "GAhpDVWvC1Al"
      },
      "id": "GAhpDVWvC1Al"
    },
    {
      "cell_type": "code",
      "source": [
        "uploaded = files.upload()"
      ],
      "metadata": {
        "colab": {
          "base_uri": "https://localhost:8080/",
          "height": 75
        },
        "id": "0Qd6uWcMC1Ro",
        "outputId": "b3e3cc45-08c2-4af9-c0ad-2fe739d9e009"
      },
      "id": "0Qd6uWcMC1Ro",
      "execution_count": 95,
      "outputs": [
        {
          "output_type": "display_data",
          "data": {
            "text/plain": [
              "<IPython.core.display.HTML object>"
            ],
            "text/html": [
              "\n",
              "     <input type=\"file\" id=\"files-50967cb5-99a0-46be-98e5-3e403ea7adab\" name=\"files[]\" multiple disabled\n",
              "        style=\"border:none\" />\n",
              "     <output id=\"result-50967cb5-99a0-46be-98e5-3e403ea7adab\">\n",
              "      Upload widget is only available when the cell has been executed in the\n",
              "      current browser session. Please rerun this cell to enable.\n",
              "      </output>\n",
              "      <script>// Copyright 2017 Google LLC\n",
              "//\n",
              "// Licensed under the Apache License, Version 2.0 (the \"License\");\n",
              "// you may not use this file except in compliance with the License.\n",
              "// You may obtain a copy of the License at\n",
              "//\n",
              "//      http://www.apache.org/licenses/LICENSE-2.0\n",
              "//\n",
              "// Unless required by applicable law or agreed to in writing, software\n",
              "// distributed under the License is distributed on an \"AS IS\" BASIS,\n",
              "// WITHOUT WARRANTIES OR CONDITIONS OF ANY KIND, either express or implied.\n",
              "// See the License for the specific language governing permissions and\n",
              "// limitations under the License.\n",
              "\n",
              "/**\n",
              " * @fileoverview Helpers for google.colab Python module.\n",
              " */\n",
              "(function(scope) {\n",
              "function span(text, styleAttributes = {}) {\n",
              "  const element = document.createElement('span');\n",
              "  element.textContent = text;\n",
              "  for (const key of Object.keys(styleAttributes)) {\n",
              "    element.style[key] = styleAttributes[key];\n",
              "  }\n",
              "  return element;\n",
              "}\n",
              "\n",
              "// Max number of bytes which will be uploaded at a time.\n",
              "const MAX_PAYLOAD_SIZE = 100 * 1024;\n",
              "\n",
              "function _uploadFiles(inputId, outputId) {\n",
              "  const steps = uploadFilesStep(inputId, outputId);\n",
              "  const outputElement = document.getElementById(outputId);\n",
              "  // Cache steps on the outputElement to make it available for the next call\n",
              "  // to uploadFilesContinue from Python.\n",
              "  outputElement.steps = steps;\n",
              "\n",
              "  return _uploadFilesContinue(outputId);\n",
              "}\n",
              "\n",
              "// This is roughly an async generator (not supported in the browser yet),\n",
              "// where there are multiple asynchronous steps and the Python side is going\n",
              "// to poll for completion of each step.\n",
              "// This uses a Promise to block the python side on completion of each step,\n",
              "// then passes the result of the previous step as the input to the next step.\n",
              "function _uploadFilesContinue(outputId) {\n",
              "  const outputElement = document.getElementById(outputId);\n",
              "  const steps = outputElement.steps;\n",
              "\n",
              "  const next = steps.next(outputElement.lastPromiseValue);\n",
              "  return Promise.resolve(next.value.promise).then((value) => {\n",
              "    // Cache the last promise value to make it available to the next\n",
              "    // step of the generator.\n",
              "    outputElement.lastPromiseValue = value;\n",
              "    return next.value.response;\n",
              "  });\n",
              "}\n",
              "\n",
              "/**\n",
              " * Generator function which is called between each async step of the upload\n",
              " * process.\n",
              " * @param {string} inputId Element ID of the input file picker element.\n",
              " * @param {string} outputId Element ID of the output display.\n",
              " * @return {!Iterable<!Object>} Iterable of next steps.\n",
              " */\n",
              "function* uploadFilesStep(inputId, outputId) {\n",
              "  const inputElement = document.getElementById(inputId);\n",
              "  inputElement.disabled = false;\n",
              "\n",
              "  const outputElement = document.getElementById(outputId);\n",
              "  outputElement.innerHTML = '';\n",
              "\n",
              "  const pickedPromise = new Promise((resolve) => {\n",
              "    inputElement.addEventListener('change', (e) => {\n",
              "      resolve(e.target.files);\n",
              "    });\n",
              "  });\n",
              "\n",
              "  const cancel = document.createElement('button');\n",
              "  inputElement.parentElement.appendChild(cancel);\n",
              "  cancel.textContent = 'Cancel upload';\n",
              "  const cancelPromise = new Promise((resolve) => {\n",
              "    cancel.onclick = () => {\n",
              "      resolve(null);\n",
              "    };\n",
              "  });\n",
              "\n",
              "  // Wait for the user to pick the files.\n",
              "  const files = yield {\n",
              "    promise: Promise.race([pickedPromise, cancelPromise]),\n",
              "    response: {\n",
              "      action: 'starting',\n",
              "    }\n",
              "  };\n",
              "\n",
              "  cancel.remove();\n",
              "\n",
              "  // Disable the input element since further picks are not allowed.\n",
              "  inputElement.disabled = true;\n",
              "\n",
              "  if (!files) {\n",
              "    return {\n",
              "      response: {\n",
              "        action: 'complete',\n",
              "      }\n",
              "    };\n",
              "  }\n",
              "\n",
              "  for (const file of files) {\n",
              "    const li = document.createElement('li');\n",
              "    li.append(span(file.name, {fontWeight: 'bold'}));\n",
              "    li.append(span(\n",
              "        `(${file.type || 'n/a'}) - ${file.size} bytes, ` +\n",
              "        `last modified: ${\n",
              "            file.lastModifiedDate ? file.lastModifiedDate.toLocaleDateString() :\n",
              "                                    'n/a'} - `));\n",
              "    const percent = span('0% done');\n",
              "    li.appendChild(percent);\n",
              "\n",
              "    outputElement.appendChild(li);\n",
              "\n",
              "    const fileDataPromise = new Promise((resolve) => {\n",
              "      const reader = new FileReader();\n",
              "      reader.onload = (e) => {\n",
              "        resolve(e.target.result);\n",
              "      };\n",
              "      reader.readAsArrayBuffer(file);\n",
              "    });\n",
              "    // Wait for the data to be ready.\n",
              "    let fileData = yield {\n",
              "      promise: fileDataPromise,\n",
              "      response: {\n",
              "        action: 'continue',\n",
              "      }\n",
              "    };\n",
              "\n",
              "    // Use a chunked sending to avoid message size limits. See b/62115660.\n",
              "    let position = 0;\n",
              "    do {\n",
              "      const length = Math.min(fileData.byteLength - position, MAX_PAYLOAD_SIZE);\n",
              "      const chunk = new Uint8Array(fileData, position, length);\n",
              "      position += length;\n",
              "\n",
              "      const base64 = btoa(String.fromCharCode.apply(null, chunk));\n",
              "      yield {\n",
              "        response: {\n",
              "          action: 'append',\n",
              "          file: file.name,\n",
              "          data: base64,\n",
              "        },\n",
              "      };\n",
              "\n",
              "      let percentDone = fileData.byteLength === 0 ?\n",
              "          100 :\n",
              "          Math.round((position / fileData.byteLength) * 100);\n",
              "      percent.textContent = `${percentDone}% done`;\n",
              "\n",
              "    } while (position < fileData.byteLength);\n",
              "  }\n",
              "\n",
              "  // All done.\n",
              "  yield {\n",
              "    response: {\n",
              "      action: 'complete',\n",
              "    }\n",
              "  };\n",
              "}\n",
              "\n",
              "scope.google = scope.google || {};\n",
              "scope.google.colab = scope.google.colab || {};\n",
              "scope.google.colab._files = {\n",
              "  _uploadFiles,\n",
              "  _uploadFilesContinue,\n",
              "};\n",
              "})(self);\n",
              "</script> "
            ]
          },
          "metadata": {}
        },
        {
          "output_type": "stream",
          "name": "stdout",
          "text": [
            "Saving car_sales_data.csv to car_sales_data (1).csv\n"
          ]
        }
      ]
    },
    {
      "cell_type": "code",
      "execution_count": 109,
      "id": "71a3a076",
      "metadata": {
        "id": "71a3a076"
      },
      "outputs": [],
      "source": [
        "import pandas as pd\n",
        "import numpy as np\n",
        "from sklearn.model_selection import train_test_split\n",
        "from sklearn.preprocessing import StandardScaler\n",
        "from tensorflow import keras\n",
        "from tensorflow.keras import layers\n",
        "import tensorflow as tf\n",
        "import io\n",
        "dataset = pd.read_csv(io.BytesIO(uploaded['car_sales_data.csv']))"
      ]
    },
    {
      "cell_type": "markdown",
      "source": [
        "**Load and preprocess the data**"
      ],
      "metadata": {
        "id": "MTELbWumWpI8"
      },
      "id": "MTELbWumWpI8"
    },
    {
      "cell_type": "code",
      "source": [
        "dataset = pd.read_csv('car_sales_data.csv') # Replace 'your_dataset.csv' with your actual dataset file\n",
        "selected_columns = ['Sale Price', 'Commission Earned']  # Specify the columns you want to use\n",
        "dataset = dataset[selected_columns].dropna()"
      ],
      "metadata": {
        "id": "tC5Z09YpDLfW"
      },
      "id": "tC5Z09YpDLfW",
      "execution_count": 110,
      "outputs": []
    },
    {
      "cell_type": "markdown",
      "source": [
        "**Split the dataset into train and test sets**"
      ],
      "metadata": {
        "id": "mnRwd2fXDyD7"
      },
      "id": "mnRwd2fXDyD7"
    },
    {
      "cell_type": "code",
      "source": [
        "train_dataset = dataset.sample(frac=0.8, random_state=42)\n",
        "test_dataset = dataset.drop(train_dataset.index)"
      ],
      "metadata": {
        "id": "-i60WwFhDyS_"
      },
      "id": "-i60WwFhDyS_",
      "execution_count": 111,
      "outputs": []
    },
    {
      "cell_type": "markdown",
      "source": [
        "**Define the features and labels**"
      ],
      "metadata": {
        "id": "nFOvNKpvGowY"
      },
      "id": "nFOvNKpvGowY"
    },
    {
      "cell_type": "code",
      "source": [
        "features = train_dataset.drop('Commission Earned', axis=1)\n",
        "labels = train_dataset['Commission Earned']"
      ],
      "metadata": {
        "id": "AECc4n8YGo9G"
      },
      "id": "AECc4n8YGo9G",
      "execution_count": 112,
      "outputs": []
    },
    {
      "cell_type": "markdown",
      "source": [],
      "metadata": {
        "id": "r0gA6bIaFxY-"
      },
      "id": "r0gA6bIaFxY-"
    },
    {
      "cell_type": "code",
      "source": [
        "features = features.astype(float)"
      ],
      "metadata": {
        "id": "S7GkjTy5Fxkt"
      },
      "id": "S7GkjTy5Fxkt",
      "execution_count": 113,
      "outputs": []
    },
    {
      "cell_type": "markdown",
      "source": [
        "**Build the neural network model**"
      ],
      "metadata": {
        "id": "I7EzoQLzB7oP"
      },
      "id": "I7EzoQLzB7oP"
    },
    {
      "cell_type": "code",
      "source": [
        "model = tf.keras.models.Sequential([\n",
        "  tf.keras.layers.Dense(128, activation='relu'),\n",
        "  tf.keras.layers.Dense(64, activation='relu'),\n",
        "  tf.keras.layers.Dense(1, activation='linear')\n",
        "])"
      ],
      "metadata": {
        "id": "E4y6zzVCB74s"
      },
      "id": "E4y6zzVCB74s",
      "execution_count": 114,
      "outputs": []
    },
    {
      "cell_type": "markdown",
      "source": [
        "**Compile the model**"
      ],
      "metadata": {
        "id": "eWg-UgWoCWY8"
      },
      "id": "eWg-UgWoCWY8"
    },
    {
      "cell_type": "code",
      "source": [
        "model.compile(optimizer='adam', loss='mse', metrics=['mae'])"
      ],
      "metadata": {
        "id": "_DEG38QbCWkH"
      },
      "id": "_DEG38QbCWkH",
      "execution_count": 115,
      "outputs": []
    },
    {
      "cell_type": "markdown",
      "source": [
        "**Train the model**"
      ],
      "metadata": {
        "id": "tdrMC8XVCagk"
      },
      "id": "tdrMC8XVCagk"
    },
    {
      "cell_type": "code",
      "source": [
        "model.fit(features, labels, epochs=10)"
      ],
      "metadata": {
        "colab": {
          "base_uri": "https://localhost:8080/"
        },
        "id": "oLQXeOVuCau0",
        "outputId": "b3f7f603-6fad-4527-f5fc-e6e24de36820"
      },
      "id": "oLQXeOVuCau0",
      "execution_count": 116,
      "outputs": [
        {
          "output_type": "stream",
          "name": "stdout",
          "text": [
            "Epoch 1/10\n",
            "26215/26215 [==============================] - 62s 2ms/step - loss: 871199.2500 - mae: 753.2317\n",
            "Epoch 2/10\n",
            "26215/26215 [==============================] - 55s 2ms/step - loss: 866191.9375 - mae: 751.7922\n",
            "Epoch 3/10\n",
            "26215/26215 [==============================] - 56s 2ms/step - loss: 864956.3750 - mae: 751.3786\n",
            "Epoch 4/10\n",
            "26215/26215 [==============================] - 56s 2ms/step - loss: 864606.6875 - mae: 751.3354\n",
            "Epoch 5/10\n",
            "26215/26215 [==============================] - 56s 2ms/step - loss: 864572.3125 - mae: 751.3142\n",
            "Epoch 6/10\n",
            "26215/26215 [==============================] - 56s 2ms/step - loss: 864551.4375 - mae: 751.2648\n",
            "Epoch 7/10\n",
            "26215/26215 [==============================] - 56s 2ms/step - loss: 864476.5000 - mae: 751.2566\n",
            "Epoch 8/10\n",
            "26215/26215 [==============================] - 56s 2ms/step - loss: 864381.8125 - mae: 751.3098\n",
            "Epoch 9/10\n",
            "26215/26215 [==============================] - 55s 2ms/step - loss: 864217.3125 - mae: 751.2745\n",
            "Epoch 10/10\n",
            "26215/26215 [==============================] - 56s 2ms/step - loss: 863850.3750 - mae: 751.0888\n"
          ]
        },
        {
          "output_type": "execute_result",
          "data": {
            "text/plain": [
              "<keras.callbacks.History at 0x7ff50db0c700>"
            ]
          },
          "metadata": {},
          "execution_count": 116
        }
      ]
    },
    {
      "cell_type": "markdown",
      "source": [
        "**Evaluate the model**"
      ],
      "metadata": {
        "id": "Z5KbC0ffCejl"
      },
      "id": "Z5KbC0ffCejl"
    },
    {
      "cell_type": "code",
      "source": [
        "model.evaluate(features, labels)"
      ],
      "metadata": {
        "colab": {
          "base_uri": "https://localhost:8080/"
        },
        "id": "u1ZebZh8Cev-",
        "outputId": "435fd2d8-8676-4c08-a565-880cc6c0e088"
      },
      "id": "u1ZebZh8Cev-",
      "execution_count": 117,
      "outputs": [
        {
          "output_type": "stream",
          "name": "stdout",
          "text": [
            "26215/26215 [==============================] - 42s 2ms/step - loss: 872979.8750 - mae: 753.7247\n"
          ]
        },
        {
          "output_type": "execute_result",
          "data": {
            "text/plain": [
              "[872979.875, 753.7247314453125]"
            ]
          },
          "metadata": {},
          "execution_count": 117
        }
      ]
    },
    {
      "cell_type": "markdown",
      "source": [
        "**Convert the test data to a NumPy array**"
      ],
      "metadata": {
        "id": "GOC7l2foU-_8"
      },
      "id": "GOC7l2foU-_8"
    },
    {
      "cell_type": "code",
      "source": [
        "test_dataset = test_dataset.to_numpy()"
      ],
      "metadata": {
        "id": "561VfQ8tU_ck"
      },
      "id": "561VfQ8tU_ck",
      "execution_count": 120,
      "outputs": []
    },
    {
      "cell_type": "markdown",
      "source": [
        "**Reshape the test data**"
      ],
      "metadata": {
        "id": "VXAV9yr2VBO0"
      },
      "id": "VXAV9yr2VBO0"
    },
    {
      "cell_type": "code",
      "source": [
        "test_dataset = test_dataset.reshape(-1, 1)"
      ],
      "metadata": {
        "id": "gxNmUhcGRjdk"
      },
      "id": "gxNmUhcGRjdk",
      "execution_count": 122,
      "outputs": []
    },
    {
      "cell_type": "markdown",
      "source": [
        "**Make predictions**"
      ],
      "metadata": {
        "id": "xD8P36oSRkKA"
      },
      "id": "xD8P36oSRkKA"
    },
    {
      "cell_type": "code",
      "source": [
        "predictions = model.predict(test_dataset)"
      ],
      "metadata": {
        "colab": {
          "base_uri": "https://localhost:8080/"
        },
        "id": "oMAaKLohOL4b",
        "outputId": "9a612e9e-9638-4366-e59d-f0b88aa85f3a"
      },
      "id": "oMAaKLohOL4b",
      "execution_count": 123,
      "outputs": [
        {
          "output_type": "stream",
          "name": "stdout",
          "text": [
            "13108/13108 [==============================] - 19s 1ms/step\n"
          ]
        }
      ]
    },
    {
      "cell_type": "code",
      "source": [
        "print(predictions)"
      ],
      "metadata": {
        "colab": {
          "base_uri": "https://localhost:8080/"
        },
        "id": "DpDSPq6QRHSm",
        "outputId": "5e38011b-8aba-41ac-e259-ca57660f92f1"
      },
      "id": "DpDSPq6QRHSm",
      "execution_count": 124,
      "outputs": [
        {
          "output_type": "stream",
          "name": "stdout",
          "text": [
            "[[4048.2114 ]\n",
            " [ 373.7903 ]\n",
            " [1426.0791 ]\n",
            " ...\n",
            " [ 362.81558]\n",
            " [2312.9597 ]\n",
            " [ 156.88246]]\n"
          ]
        }
      ]
    },
    {
      "cell_type": "markdown",
      "source": [
        "Ploting The Result"
      ],
      "metadata": {
        "id": "_MgWaKA4Vepc"
      },
      "id": "_MgWaKA4Vepc"
    },
    {
      "cell_type": "code",
      "source": [
        "import matplotlib.pyplot as plt"
      ],
      "metadata": {
        "id": "xeT0ln_kVe24"
      },
      "id": "xeT0ln_kVe24",
      "execution_count": 125,
      "outputs": []
    },
    {
      "cell_type": "markdown",
      "source": [],
      "metadata": {
        "id": "D_ZFc2fTVkM_"
      },
      "id": "D_ZFc2fTVkM_"
    },
    {
      "cell_type": "code",
      "source": [
        "plt.plot(test_dataset, predictions)\n",
        "plt.xlabel('Test Data')\n",
        "plt.ylabel('Predictions')\n",
        "plt.title('Predictions')\n",
        "plt.show()"
      ],
      "metadata": {
        "colab": {
          "base_uri": "https://localhost:8080/",
          "height": 472
        },
        "id": "g4TXN6gUVkl5",
        "outputId": "16ffe283-7e3a-4e70-a6ea-06093db9e39c"
      },
      "id": "g4TXN6gUVkl5",
      "execution_count": 126,
      "outputs": [
        {
          "output_type": "display_data",
          "data": {
            "text/plain": [
              "<Figure size 640x480 with 1 Axes>"
            ],
            "image/png": "[encoded data removed]"
          },
          "metadata": {}
        }
      ]
    }
  ],
  "metadata": {
    "kernelspec": {
      "display_name": "Python 3 (ipykernel)",
      "language": "python",
      "name": "python3"
    },
    "language_info": {
      "codemirror_mode": {
        "name": "ipython",
        "version": 3
      },
      "file_extension": ".py",
      "mimetype": "text/x-python",
      "name": "python",
      "nbconvert_exporter": "python",
      "pygments_lexer": "ipython3",
      "version": "3.10.6"
    },
    "colab": {
      "provenance": []
    }
  },
  "nbformat": 4,
  "nbformat_minor": 5
}