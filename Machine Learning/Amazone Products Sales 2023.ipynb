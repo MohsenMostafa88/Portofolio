{
 "cells": [
  {
   "cell_type": "markdown",
   "id": "0b853da1",
   "metadata": {},
   "source": [
    "# Amazon Products Sales Dataset 2023"
   ]
  },
  {
   "cell_type": "code",
   "execution_count": null,
   "id": "a82dfb3a",
   "metadata": {},
   "outputs": [],
   "source": []
  },
  {
   "cell_type": "markdown",
   "id": "ddaae89f",
   "metadata": {},
   "source": [
    "### Merging Files into one file "
   ]
  },
  {
   "cell_type": "code",
   "execution_count": 1,
   "id": "c47eb8da",
   "metadata": {},
   "outputs": [],
   "source": [
    "import os\n",
    "import pandas as pd\n",
    "\n",
    "# Directory containing CSV files\n",
    "input_dir = 'Amazon Products Sales Dataset 2023/'\n",
    "\n",
    "# Get a list of all CSV files in the input directory\n",
    "csv_files = [f for f in os.listdir(input_dir) if f.endswith('Air_Conditioners.csv')]\n",
    "\n",
    "# Read each CSV file and append its contents to a DataFrame\n",
    "df = pd.DataFrame()\n",
    "for file in csv_files:\n",
    "    temp_df = pd.read_csv(os.path.join(input_dir, file))\n",
    "    df = pd.concat([df, temp_df])\n",
    "\n",
    "# Save the concatenated DataFrame to a new CSV file\n",
    "output_file = 'Amazon_Products.csv'\n",
    "df.to_csv(output_file, index=False)\n"
   ]
  },
  {
   "cell_type": "code",
   "execution_count": 8,
   "id": "fe1f3b33",
   "metadata": {},
   "outputs": [
    {
     "data": {
      "text/html": [
       "<div>\n",
       "<style scoped>\n",
       "    .dataframe tbody tr th:only-of-type {\n",
       "        vertical-align: middle;\n",
       "    }\n",
       "\n",
       "    .dataframe tbody tr th {\n",
       "        vertical-align: top;\n",
       "    }\n",
       "\n",
       "    .dataframe thead th {\n",
       "        text-align: right;\n",
       "    }\n",
       "</style>\n",
       "<table border=\"1\" class=\"dataframe\">\n",
       "  <thead>\n",
       "    <tr style=\"text-align: right;\">\n",
       "      <th></th>\n",
       "      <th>name</th>\n",
       "      <th>main_category</th>\n",
       "      <th>sub_category</th>\n",
       "      <th>image</th>\n",
       "      <th>link</th>\n",
       "      <th>ratings</th>\n",
       "      <th>no_of_ratings</th>\n",
       "      <th>discount_price</th>\n",
       "      <th>actual_price</th>\n",
       "    </tr>\n",
       "  </thead>\n",
       "  <tbody>\n",
       "    <tr>\n",
       "      <th>0</th>\n",
       "      <td>Lloyd 1.5 Ton 3 Star Inverter Split Ac (5 In 1...</td>\n",
       "      <td>appliances</td>\n",
       "      <td>Air Conditioners</td>\n",
       "      <td>https://m.media-amazon.com/images/I/31UISB90sY...</td>\n",
       "      <td>https://www.amazon.in/Lloyd-Inverter-Convertib...</td>\n",
       "      <td>4.2</td>\n",
       "      <td>2,255</td>\n",
       "      <td>₹32,999</td>\n",
       "      <td>₹58,990</td>\n",
       "    </tr>\n",
       "    <tr>\n",
       "      <th>1</th>\n",
       "      <td>LG 1.5 Ton 5 Star AI DUAL Inverter Split AC (C...</td>\n",
       "      <td>appliances</td>\n",
       "      <td>Air Conditioners</td>\n",
       "      <td>https://m.media-amazon.com/images/I/51JFb7FctD...</td>\n",
       "      <td>https://www.amazon.in/LG-Convertible-Anti-Viru...</td>\n",
       "      <td>4.2</td>\n",
       "      <td>2,948</td>\n",
       "      <td>₹46,490</td>\n",
       "      <td>₹75,990</td>\n",
       "    </tr>\n",
       "    <tr>\n",
       "      <th>2</th>\n",
       "      <td>LG 1 Ton 4 Star Ai Dual Inverter Split Ac (Cop...</td>\n",
       "      <td>appliances</td>\n",
       "      <td>Air Conditioners</td>\n",
       "      <td>https://m.media-amazon.com/images/I/51JFb7FctD...</td>\n",
       "      <td>https://www.amazon.in/LG-Inverter-Convertible-...</td>\n",
       "      <td>4.2</td>\n",
       "      <td>1,206</td>\n",
       "      <td>₹34,490</td>\n",
       "      <td>₹61,990</td>\n",
       "    </tr>\n",
       "    <tr>\n",
       "      <th>3</th>\n",
       "      <td>LG 1.5 Ton 3 Star AI DUAL Inverter Split AC (C...</td>\n",
       "      <td>appliances</td>\n",
       "      <td>Air Conditioners</td>\n",
       "      <td>https://m.media-amazon.com/images/I/51JFb7FctD...</td>\n",
       "      <td>https://www.amazon.in/LG-Convertible-Anti-Viru...</td>\n",
       "      <td>4.0</td>\n",
       "      <td>69</td>\n",
       "      <td>₹37,990</td>\n",
       "      <td>₹68,990</td>\n",
       "    </tr>\n",
       "    <tr>\n",
       "      <th>4</th>\n",
       "      <td>Carrier 1.5 Ton 3 Star Inverter Split AC (Copp...</td>\n",
       "      <td>appliances</td>\n",
       "      <td>Air Conditioners</td>\n",
       "      <td>https://m.media-amazon.com/images/I/41lrtqXPiW...</td>\n",
       "      <td>https://www.amazon.in/Carrier-Inverter-Split-C...</td>\n",
       "      <td>4.1</td>\n",
       "      <td>630</td>\n",
       "      <td>₹34,490</td>\n",
       "      <td>₹67,790</td>\n",
       "    </tr>\n",
       "  </tbody>\n",
       "</table>\n",
       "</div>"
      ],
      "text/plain": [
       "                                                name main_category  \\\n",
       "0  Lloyd 1.5 Ton 3 Star Inverter Split Ac (5 In 1...    appliances   \n",
       "1  LG 1.5 Ton 5 Star AI DUAL Inverter Split AC (C...    appliances   \n",
       "2  LG 1 Ton 4 Star Ai Dual Inverter Split Ac (Cop...    appliances   \n",
       "3  LG 1.5 Ton 3 Star AI DUAL Inverter Split AC (C...    appliances   \n",
       "4  Carrier 1.5 Ton 3 Star Inverter Split AC (Copp...    appliances   \n",
       "\n",
       "       sub_category                                              image  \\\n",
       "0  Air Conditioners  https://m.media-amazon.com/images/I/31UISB90sY...   \n",
       "1  Air Conditioners  https://m.media-amazon.com/images/I/51JFb7FctD...   \n",
       "2  Air Conditioners  https://m.media-amazon.com/images/I/51JFb7FctD...   \n",
       "3  Air Conditioners  https://m.media-amazon.com/images/I/51JFb7FctD...   \n",
       "4  Air Conditioners  https://m.media-amazon.com/images/I/41lrtqXPiW...   \n",
       "\n",
       "                                                link ratings no_of_ratings  \\\n",
       "0  https://www.amazon.in/Lloyd-Inverter-Convertib...     4.2         2,255   \n",
       "1  https://www.amazon.in/LG-Convertible-Anti-Viru...     4.2         2,948   \n",
       "2  https://www.amazon.in/LG-Inverter-Convertible-...     4.2         1,206   \n",
       "3  https://www.amazon.in/LG-Convertible-Anti-Viru...     4.0            69   \n",
       "4  https://www.amazon.in/Carrier-Inverter-Split-C...     4.1           630   \n",
       "\n",
       "  discount_price actual_price  \n",
       "0        ₹32,999      ₹58,990  \n",
       "1        ₹46,490      ₹75,990  \n",
       "2        ₹34,490      ₹61,990  \n",
       "3        ₹37,990      ₹68,990  \n",
       "4        ₹34,490      ₹67,790  "
      ]
     },
     "execution_count": 8,
     "metadata": {},
     "output_type": "execute_result"
    }
   ],
   "source": [
    "df = pd.read_csv('Amazon_Products.csv')\n",
    "df.head()"
   ]
  },
  {
   "cell_type": "markdown",
   "id": "f0e3e039",
   "metadata": {},
   "source": [
    "to use Multiple Imputation by Chained Equations (MICE) for imputing missing values in a dataset, let's install the fancyimpute library  "
   ]
  },
  {
   "cell_type": "code",
   "execution_count": 3,
   "id": "bac4a6ca",
   "metadata": {},
   "outputs": [
    {
     "name": "stdout",
     "output_type": "stream",
     "text": [
      "Defaulting to user installation because normal site-packages is not writeable\n",
      "Requirement already satisfied: fancyimpute in ./.local/lib/python3.10/site-packages (0.7.0)\n",
      "Requirement already satisfied: nose in ./.local/lib/python3.10/site-packages (from fancyimpute) (1.3.7)\n",
      "Requirement already satisfied: cvxpy in ./.local/lib/python3.10/site-packages (from fancyimpute) (1.3.1)\n",
      "Requirement already satisfied: scikit-learn>=0.24.2 in ./.local/lib/python3.10/site-packages (from fancyimpute) (1.2.2)\n",
      "Requirement already satisfied: pytest in /usr/lib/python3/dist-packages (from fancyimpute) (6.2.5)\n",
      "Requirement already satisfied: cvxopt in ./.local/lib/python3.10/site-packages (from fancyimpute) (1.3.0)\n",
      "Requirement already satisfied: knnimpute>=0.1.0 in ./.local/lib/python3.10/site-packages (from fancyimpute) (0.1.0)\n",
      "Requirement already satisfied: numpy>=1.10 in ./.local/lib/python3.10/site-packages (from knnimpute>=0.1.0->fancyimpute) (1.24.2)\n",
      "Requirement already satisfied: six in /usr/lib/python3/dist-packages (from knnimpute>=0.1.0->fancyimpute) (1.16.0)\n",
      "Requirement already satisfied: joblib>=1.1.1 in ./.local/lib/python3.10/site-packages (from scikit-learn>=0.24.2->fancyimpute) (1.2.0)\n",
      "Requirement already satisfied: scipy>=1.3.2 in ./.local/lib/python3.10/site-packages (from scikit-learn>=0.24.2->fancyimpute) (1.10.1)\n",
      "Requirement already satisfied: threadpoolctl>=2.0.0 in ./.local/lib/python3.10/site-packages (from scikit-learn>=0.24.2->fancyimpute) (3.1.0)\n",
      "Requirement already satisfied: setuptools>65.5.1 in ./.local/lib/python3.10/site-packages (from cvxpy->fancyimpute) (67.7.2)\n",
      "Requirement already satisfied: scs>=1.1.6 in ./.local/lib/python3.10/site-packages (from cvxpy->fancyimpute) (3.2.3)\n",
      "Requirement already satisfied: ecos>=2 in ./.local/lib/python3.10/site-packages (from cvxpy->fancyimpute) (2.0.12)\n",
      "Requirement already satisfied: osqp>=0.4.1 in ./.local/lib/python3.10/site-packages (from cvxpy->fancyimpute) (0.6.2.post9)\n",
      "Requirement already satisfied: qdldl in ./.local/lib/python3.10/site-packages (from osqp>=0.4.1->cvxpy->fancyimpute) (0.1.7)\n",
      "\n",
      "\u001b[1m[\u001b[0m\u001b[34;49mnotice\u001b[0m\u001b[1;39;49m]\u001b[0m\u001b[39;49m A new release of pip is available: \u001b[0m\u001b[31;49m23.0.1\u001b[0m\u001b[39;49m -> \u001b[0m\u001b[32;49m23.1.2\u001b[0m\n",
      "\u001b[1m[\u001b[0m\u001b[34;49mnotice\u001b[0m\u001b[1;39;49m]\u001b[0m\u001b[39;49m To update, run: \u001b[0m\u001b[32;49mpython3 -m pip install --upgrade pip\u001b[0m\n",
      "Defaulting to user installation because normal site-packages is not writeable\n",
      "Requirement already satisfied: missingno in ./.local/lib/python3.10/site-packages (0.5.2)\n",
      "Requirement already satisfied: scipy in ./.local/lib/python3.10/site-packages (from missingno) (1.10.1)\n",
      "Requirement already satisfied: matplotlib in ./.local/lib/python3.10/site-packages (from missingno) (3.7.1)\n",
      "Requirement already satisfied: numpy in ./.local/lib/python3.10/site-packages (from missingno) (1.24.2)\n",
      "Requirement already satisfied: seaborn in ./.local/lib/python3.10/site-packages (from missingno) (0.12.2)\n",
      "Requirement already satisfied: pyparsing>=2.3.1 in /usr/lib/python3/dist-packages (from matplotlib->missingno) (2.4.7)\n",
      "Requirement already satisfied: kiwisolver>=1.0.1 in ./.local/lib/python3.10/site-packages (from matplotlib->missingno) (1.4.4)\n",
      "Requirement already satisfied: python-dateutil>=2.7 in /usr/local/lib/python3.10/dist-packages (from matplotlib->missingno) (2.8.2)\n",
      "Requirement already satisfied: cycler>=0.10 in ./.local/lib/python3.10/site-packages (from matplotlib->missingno) (0.11.0)\n",
      "Requirement already satisfied: packaging>=20.0 in /usr/lib/python3/dist-packages (from matplotlib->missingno) (21.3)\n",
      "Requirement already satisfied: fonttools>=4.22.0 in ./.local/lib/python3.10/site-packages (from matplotlib->missingno) (4.39.3)\n",
      "Requirement already satisfied: contourpy>=1.0.1 in ./.local/lib/python3.10/site-packages (from matplotlib->missingno) (1.0.7)\n",
      "Requirement already satisfied: pillow>=6.2.0 in /usr/lib/python3/dist-packages (from matplotlib->missingno) (9.0.1)\n",
      "Requirement already satisfied: pandas>=0.25 in ./.local/lib/python3.10/site-packages (from seaborn->missingno) (1.5.3)\n",
      "Requirement already satisfied: pytz>=2020.1 in /usr/lib/python3/dist-packages (from pandas>=0.25->seaborn->missingno) (2022.1)\n",
      "Requirement already satisfied: six>=1.5 in /usr/lib/python3/dist-packages (from python-dateutil>=2.7->matplotlib->missingno) (1.16.0)\n",
      "\n",
      "\u001b[1m[\u001b[0m\u001b[34;49mnotice\u001b[0m\u001b[1;39;49m]\u001b[0m\u001b[39;49m A new release of pip is available: \u001b[0m\u001b[31;49m23.0.1\u001b[0m\u001b[39;49m -> \u001b[0m\u001b[32;49m23.1.2\u001b[0m\n",
      "\u001b[1m[\u001b[0m\u001b[34;49mnotice\u001b[0m\u001b[1;39;49m]\u001b[0m\u001b[39;49m To update, run: \u001b[0m\u001b[32;49mpython3 -m pip install --upgrade pip\u001b[0m\n"
     ]
    }
   ],
   "source": [
    "!pip install fancyimpute\n",
    "!pip install missingno"
   ]
  },
  {
   "cell_type": "markdown",
   "id": "881776bc",
   "metadata": {},
   "source": [
    " import the necessary libraries and load a sample dataset with some missing values"
   ]
  },
  {
   "cell_type": "code",
   "execution_count": 4,
   "id": "ecfeee74",
   "metadata": {},
   "outputs": [],
   "source": [
    "import pandas as pd\n",
    "import numpy as np\n",
    "import seaborn as sns\n",
    "from fancyimpute import IterativeImputer\n",
    "\n",
    "# Load sample dataset with missing values\n",
    "df = pd.read_csv(\"Amazon_Products.csv\")\n"
   ]
  },
  {
   "cell_type": "markdown",
   "id": "c626ca2d",
   "metadata": {},
   "source": [
    "Then we check how many missing values we have in the dataset"
   ]
  },
  {
   "cell_type": "code",
   "execution_count": 5,
   "id": "da4f70d3",
   "metadata": {},
   "outputs": [
    {
     "name": "stdout",
     "output_type": "stream",
     "text": [
      "name                0\n",
      "main_category       0\n",
      "sub_category        0\n",
      "image               0\n",
      "link                0\n",
      "ratings           287\n",
      "no_of_ratings     287\n",
      "discount_price    263\n",
      "actual_price      220\n",
      "dtype: int64\n"
     ]
    }
   ],
   "source": [
    "print(df.isnull().sum())"
   ]
  },
  {
   "cell_type": "code",
   "execution_count": null,
   "id": "427a3d43",
   "metadata": {},
   "outputs": [],
   "source": [
    "\n"
   ]
  },
  {
   "cell_type": "code",
   "execution_count": 6,
   "id": "105d8bab",
   "metadata": {},
   "outputs": [
    {
     "name": "stdout",
     "output_type": "stream",
     "text": [
      "           name\n",
      "0  1.535125e+13\n",
      "1  1.551850e+05\n",
      "2  1.535125e+13\n"
     ]
    }
   ],
   "source": [
    "# a sample DataFrame\n",
    "data = {'name': ['Lloyd 1.5 Ton 3 Star Inverter Split Ac (5 In 1 Convertible, Copper, Anti-Viral + Pm 2.5 Filter, 2023 Model, White, Gls18I3...',\n",
    "                 'Samsung 1.5 Ton 5 Star Inverter Split AC (Alloy, AR18TY5QAWKNNA, White)',\n",
    "                 '1.53512.52023183...']}\n",
    "df = pd.DataFrame(data)\n",
    "\n",
    "# define a function to convert a string to float\n",
    "def string_to_float(x):\n",
    "    # remove all non-numeric characters and spaces from the string\n",
    "    cleaned_string = ''.join(filter(str.isdigit, x.replace('.', '', 1)))\n",
    "    # replace any remaining dots with a single dot\n",
    "    cleaned_string = cleaned_string.replace('.', '', cleaned_string.count('.') - 1)\n",
    "    # convert to float\n",
    "    return float(cleaned_string)\n",
    "\n",
    "# apply the function to the 'name' column\n",
    "df['name'] = df['name'].apply(string_to_float)\n",
    "\n",
    "# print the updated DataFrame\n",
    "print(df)\n"
   ]
  },
  {
   "cell_type": "code",
   "execution_count": null,
   "id": "9725c803",
   "metadata": {},
   "outputs": [],
   "source": []
  },
  {
   "cell_type": "code",
   "execution_count": null,
   "id": "83a6e477",
   "metadata": {},
   "outputs": [],
   "source": []
  },
  {
   "cell_type": "code",
   "execution_count": null,
   "id": "135f0f42",
   "metadata": {},
   "outputs": [],
   "source": []
  },
  {
   "cell_type": "markdown",
   "id": "ce1c1341",
   "metadata": {},
   "source": [
    "We can see that several columns have missing values. Now, let's impute the missing values using MICE"
   ]
  },
  {
   "cell_type": "code",
   "execution_count": null,
   "id": "22b89fc8",
   "metadata": {},
   "outputs": [],
   "source": []
  },
  {
   "cell_type": "code",
   "execution_count": 9,
   "id": "63628b99",
   "metadata": {},
   "outputs": [
    {
     "data": {
      "image/png": "[encoded data removed]",
      "text/plain": [
       "<Figure size 640x480 with 1 Axes>"
      ]
     },
     "metadata": {},
     "output_type": "display_data"
    },
    {
     "name": "stdout",
     "output_type": "stream",
     "text": [
      "Imputing row 1/150 with 0 missing, elapsed time: 0.005\n",
      "Imputing row 101/150 with 1 missing, elapsed time: 0.006\n"
     ]
    },
    {
     "data": {
      "image/png": "[encoded data removed]",
      "text/plain": [
       "<Figure size 640x480 with 1 Axes>"
      ]
     },
     "metadata": {},
     "output_type": "display_data"
    }
   ],
   "source": [
    "# Import necessary libraries\n",
    "import pandas as pd\n",
    "import numpy as np\n",
    "import seaborn as sns\n",
    "import matplotlib.pyplot as plt\n",
    "from fancyimpute import KNN # For imputing missing values\n",
    "from sklearn.datasets import load_iris # For loading iris dataset\n",
    "\n",
    "# Load iris dataset\n",
    "iris = load_iris()\n",
    "df = pd.DataFrame(iris.data, columns=iris.feature_names)\n",
    "\n",
    "# Introduce missing values\n",
    "np.random.seed(0)\n",
    "mask = np.random.choice([True, False], size=df.shape, p=[0.2, 0.8])\n",
    "df = pd.DataFrame(np.where(mask, np.nan, df), columns=df.columns)\n",
    "\n",
    "# Visualize missingness\n",
    "sns.heatmap(df.isnull(), cmap='viridis', cbar=False)\n",
    "plt.title('Missing Values')\n",
    "plt.show()\n",
    "\n",
    "# Impute missing values using KNN\n",
    "imputed_df = KNN(k=3).fit_transform(df)\n",
    "\n",
    "# Visualize missingness after imputation\n",
    "sns.heatmap(pd.DataFrame(imputed_df).isnull(), cmap='viridis', cbar=False)\n",
    "plt.title('Missing Values After Imputation')\n",
    "plt.show()\n"
   ]
  },
  {
   "cell_type": "code",
   "execution_count": 10,
   "id": "4f30cb5a",
   "metadata": {},
   "outputs": [
    {
     "data": {
      "text/html": [
       "<div>\n",
       "<style scoped>\n",
       "    .dataframe tbody tr th:only-of-type {\n",
       "        vertical-align: middle;\n",
       "    }\n",
       "\n",
       "    .dataframe tbody tr th {\n",
       "        vertical-align: top;\n",
       "    }\n",
       "\n",
       "    .dataframe thead th {\n",
       "        text-align: right;\n",
       "    }\n",
       "</style>\n",
       "<table border=\"1\" class=\"dataframe\">\n",
       "  <thead>\n",
       "    <tr style=\"text-align: right;\">\n",
       "      <th></th>\n",
       "      <th>sepal length (cm)</th>\n",
       "      <th>sepal width (cm)</th>\n",
       "      <th>petal length (cm)</th>\n",
       "      <th>petal width (cm)</th>\n",
       "    </tr>\n",
       "  </thead>\n",
       "  <tbody>\n",
       "    <tr>\n",
       "      <th>0</th>\n",
       "      <td>5.1</td>\n",
       "      <td>3.5</td>\n",
       "      <td>1.4</td>\n",
       "      <td>0.2</td>\n",
       "    </tr>\n",
       "    <tr>\n",
       "      <th>1</th>\n",
       "      <td>4.9</td>\n",
       "      <td>3.0</td>\n",
       "      <td>1.4</td>\n",
       "      <td>0.2</td>\n",
       "    </tr>\n",
       "    <tr>\n",
       "      <th>2</th>\n",
       "      <td>4.7</td>\n",
       "      <td>3.2</td>\n",
       "      <td>1.3</td>\n",
       "      <td>0.2</td>\n",
       "    </tr>\n",
       "    <tr>\n",
       "      <th>3</th>\n",
       "      <td>4.6</td>\n",
       "      <td>3.1</td>\n",
       "      <td>NaN</td>\n",
       "      <td>NaN</td>\n",
       "    </tr>\n",
       "    <tr>\n",
       "      <th>4</th>\n",
       "      <td>NaN</td>\n",
       "      <td>3.6</td>\n",
       "      <td>1.4</td>\n",
       "      <td>0.2</td>\n",
       "    </tr>\n",
       "    <tr>\n",
       "      <th>...</th>\n",
       "      <td>...</td>\n",
       "      <td>...</td>\n",
       "      <td>...</td>\n",
       "      <td>...</td>\n",
       "    </tr>\n",
       "    <tr>\n",
       "      <th>145</th>\n",
       "      <td>NaN</td>\n",
       "      <td>3.0</td>\n",
       "      <td>5.2</td>\n",
       "      <td>NaN</td>\n",
       "    </tr>\n",
       "    <tr>\n",
       "      <th>146</th>\n",
       "      <td>6.3</td>\n",
       "      <td>2.5</td>\n",
       "      <td>NaN</td>\n",
       "      <td>NaN</td>\n",
       "    </tr>\n",
       "    <tr>\n",
       "      <th>147</th>\n",
       "      <td>NaN</td>\n",
       "      <td>3.0</td>\n",
       "      <td>5.2</td>\n",
       "      <td>2.0</td>\n",
       "    </tr>\n",
       "    <tr>\n",
       "      <th>148</th>\n",
       "      <td>6.2</td>\n",
       "      <td>3.4</td>\n",
       "      <td>5.4</td>\n",
       "      <td>2.3</td>\n",
       "    </tr>\n",
       "    <tr>\n",
       "      <th>149</th>\n",
       "      <td>5.9</td>\n",
       "      <td>3.0</td>\n",
       "      <td>5.1</td>\n",
       "      <td>1.8</td>\n",
       "    </tr>\n",
       "  </tbody>\n",
       "</table>\n",
       "<p>150 rows × 4 columns</p>\n",
       "</div>"
      ],
      "text/plain": [
       "     sepal length (cm)  sepal width (cm)  petal length (cm)  petal width (cm)\n",
       "0                  5.1               3.5                1.4               0.2\n",
       "1                  4.9               3.0                1.4               0.2\n",
       "2                  4.7               3.2                1.3               0.2\n",
       "3                  4.6               3.1                NaN               NaN\n",
       "4                  NaN               3.6                1.4               0.2\n",
       "..                 ...               ...                ...               ...\n",
       "145                NaN               3.0                5.2               NaN\n",
       "146                6.3               2.5                NaN               NaN\n",
       "147                NaN               3.0                5.2               2.0\n",
       "148                6.2               3.4                5.4               2.3\n",
       "149                5.9               3.0                5.1               1.8\n",
       "\n",
       "[150 rows x 4 columns]"
      ]
     },
     "execution_count": 10,
     "metadata": {},
     "output_type": "execute_result"
    }
   ],
   "source": [
    "df"
   ]
  },
  {
   "cell_type": "code",
   "execution_count": null,
   "id": "1d6606cb",
   "metadata": {},
   "outputs": [],
   "source": []
  }
 ],
 "metadata": {
  "kernelspec": {
   "display_name": "Python 3 (ipykernel)",
   "language": "python",
   "name": "python3"
  },
  "language_info": {
   "codemirror_mode": {
    "name": "ipython",
    "version": 3
   },
   "file_extension": ".py",
   "mimetype": "text/x-python",
   "name": "python",
   "nbconvert_exporter": "python",
   "pygments_lexer": "ipython3",
   "version": "3.10.6"
  }
 },
 "nbformat": 4,
 "nbformat_minor": 5
}
