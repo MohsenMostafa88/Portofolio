{
 "cells": [
  {
   "cell_type": "code",
   "execution_count": 1,
   "id": "35633c8f",
   "metadata": {
    "_cell_guid": "b1076dfc-b9ad-4769-8c92-a6c4dae69d19",
    "_uuid": "8f2839f25d086af736a60e9eeb907d3b93b6e0e5",
    "execution": {
     "iopub.execute_input": "2023-05-15T13:58:05.741921Z",
     "iopub.status.busy": "2023-05-15T13:58:05.741412Z",
     "iopub.status.idle": "2023-05-15T13:58:07.666093Z",
     "shell.execute_reply": "2023-05-15T13:58:07.664778Z"
    },
    "papermill": {
     "duration": 1.935614,
     "end_time": "2023-05-15T13:58:07.668851",
     "exception": false,
     "start_time": "2023-05-15T13:58:05.733237",
     "status": "completed"
    },
    "tags": []
   },
   "outputs": [
    {
     "name": "stderr",
     "output_type": "stream",
     "text": [
      "/opt/conda/lib/python3.10/site-packages/scipy/__init__.py:146: UserWarning: A NumPy version >=1.16.5 and <1.23.0 is required for this version of SciPy (detected version 1.23.5\n",
      "  warnings.warn(f\"A NumPy version >={np_minversion} and <{np_maxversion}\"\n"
     ]
    },
    {
     "name": "stdout",
     "output_type": "stream",
     "text": [
      "/kaggle/input/salary-dataset-simple-linear-regression/Salary_dataset.csv\n"
     ]
    },
    {
     "data": {
      "text/html": [
       "<div>\n",
       "<style scoped>\n",
       "    .dataframe tbody tr th:only-of-type {\n",
       "        vertical-align: middle;\n",
       "    }\n",
       "\n",
       "    .dataframe tbody tr th {\n",
       "        vertical-align: top;\n",
       "    }\n",
       "\n",
       "    .dataframe thead th {\n",
       "        text-align: right;\n",
       "    }\n",
       "</style>\n",
       "<table border=\"1\" class=\"dataframe\">\n",
       "  <thead>\n",
       "    <tr style=\"text-align: right;\">\n",
       "      <th></th>\n",
       "      <th>YearsExperience</th>\n",
       "      <th>Salary</th>\n",
       "    </tr>\n",
       "  </thead>\n",
       "  <tbody>\n",
       "    <tr>\n",
       "      <th>0</th>\n",
       "      <td>1.2</td>\n",
       "      <td>39344.0</td>\n",
       "    </tr>\n",
       "    <tr>\n",
       "      <th>1</th>\n",
       "      <td>1.4</td>\n",
       "      <td>46206.0</td>\n",
       "    </tr>\n",
       "    <tr>\n",
       "      <th>2</th>\n",
       "      <td>1.6</td>\n",
       "      <td>37732.0</td>\n",
       "    </tr>\n",
       "    <tr>\n",
       "      <th>3</th>\n",
       "      <td>2.1</td>\n",
       "      <td>43526.0</td>\n",
       "    </tr>\n",
       "    <tr>\n",
       "      <th>4</th>\n",
       "      <td>2.3</td>\n",
       "      <td>39892.0</td>\n",
       "    </tr>\n",
       "  </tbody>\n",
       "</table>\n",
       "</div>"
      ],
      "text/plain": [
       "   YearsExperience   Salary\n",
       "0              1.2  39344.0\n",
       "1              1.4  46206.0\n",
       "2              1.6  37732.0\n",
       "3              2.1  43526.0\n",
       "4              2.3  39892.0"
      ]
     },
     "execution_count": 1,
     "metadata": {},
     "output_type": "execute_result"
    }
   ],
   "source": [
    "# import the necessary libraries and load data\n",
    "\n",
    "import pandas as pd\n",
    "import numpy as np\n",
    "from sklearn.linear_model import LinearRegression\n",
    "from sklearn.ensemble import GradientBoostingRegressor\n",
    "from matplotlib import pyplot as plt\n",
    "\n",
    "\n",
    "\n",
    "\n",
    "import os\n",
    "for dirname, _, filenames in os.walk('/kaggle/input'):\n",
    "    for filename in filenames:\n",
    "        print(os.path.join(dirname, filename))\n",
    "\n",
    "df = pd.read_csv(\"/kaggle/input/salary-dataset-simple-linear-regression/Salary_dataset.csv\",sep=\",\",index_col=0)\n",
    "df.head()"
   ]
  },
  {
   "cell_type": "markdown",
   "id": "8f2208f9",
   "metadata": {
    "papermill": {
     "duration": 0.005807,
     "end_time": "2023-05-15T13:58:07.681028",
     "exception": false,
     "start_time": "2023-05-15T13:58:07.675221",
     "status": "completed"
    },
    "tags": []
   },
   "source": [
    "split the data into a training set and a test set"
   ]
  },
  {
   "cell_type": "code",
   "execution_count": 2,
   "id": "f158e196",
   "metadata": {
    "execution": {
     "iopub.execute_input": "2023-05-15T13:58:07.696152Z",
     "iopub.status.busy": "2023-05-15T13:58:07.694841Z",
     "iopub.status.idle": "2023-05-15T13:58:07.704875Z",
     "shell.execute_reply": "2023-05-15T13:58:07.703964Z"
    },
    "papermill": {
     "duration": 0.020434,
     "end_time": "2023-05-15T13:58:07.707556",
     "exception": false,
     "start_time": "2023-05-15T13:58:07.687122",
     "status": "completed"
    },
    "tags": []
   },
   "outputs": [],
   "source": [
    "X_train = df[['YearsExperience']]\n",
    "y_train = df['Salary']\n",
    "\n",
    "X_test = df[['YearsExperience']]\n",
    "y_test = df['Salary']\n"
   ]
  },
  {
   "cell_type": "markdown",
   "id": "e67320d2",
   "metadata": {
    "papermill": {
     "duration": 0.005717,
     "end_time": "2023-05-15T13:58:07.719369",
     "exception": false,
     "start_time": "2023-05-15T13:58:07.713652",
     "status": "completed"
    },
    "tags": []
   },
   "source": [
    "train a linear regression model"
   ]
  },
  {
   "cell_type": "code",
   "execution_count": 3,
   "id": "d3497cb0",
   "metadata": {
    "execution": {
     "iopub.execute_input": "2023-05-15T13:58:07.733823Z",
     "iopub.status.busy": "2023-05-15T13:58:07.733161Z",
     "iopub.status.idle": "2023-05-15T13:58:07.763845Z",
     "shell.execute_reply": "2023-05-15T13:58:07.762855Z"
    },
    "papermill": {
     "duration": 0.041676,
     "end_time": "2023-05-15T13:58:07.767088",
     "exception": false,
     "start_time": "2023-05-15T13:58:07.725412",
     "status": "completed"
    },
    "tags": []
   },
   "outputs": [
    {
     "data": {
      "text/html": [
       "<style>#sk-container-id-1 {color: black;background-color: white;}#sk-container-id-1 pre{padding: 0;}#sk-container-id-1 div.sk-toggleable {background-color: white;}#sk-container-id-1 label.sk-toggleable__label {cursor: pointer;display: block;width: 100%;margin-bottom: 0;padding: 0.3em;box-sizing: border-box;text-align: center;}#sk-container-id-1 label.sk-toggleable__label-arrow:before {content: \"▸\";float: left;margin-right: 0.25em;color: #696969;}#sk-container-id-1 label.sk-toggleable__label-arrow:hover:before {color: black;}#sk-container-id-1 div.sk-estimator:hover label.sk-toggleable__label-arrow:before {color: black;}#sk-container-id-1 div.sk-toggleable__content {max-height: 0;max-width: 0;overflow: hidden;text-align: left;background-color: #f0f8ff;}#sk-container-id-1 div.sk-toggleable__content pre {margin: 0.2em;color: black;border-radius: 0.25em;background-color: #f0f8ff;}#sk-container-id-1 input.sk-toggleable__control:checked~div.sk-toggleable__content {max-height: 200px;max-width: 100%;overflow: auto;}#sk-container-id-1 input.sk-toggleable__control:checked~label.sk-toggleable__label-arrow:before {content: \"▾\";}#sk-container-id-1 div.sk-estimator input.sk-toggleable__control:checked~label.sk-toggleable__label {background-color: #d4ebff;}#sk-container-id-1 div.sk-label input.sk-toggleable__control:checked~label.sk-toggleable__label {background-color: #d4ebff;}#sk-container-id-1 input.sk-hidden--visually {border: 0;clip: rect(1px 1px 1px 1px);clip: rect(1px, 1px, 1px, 1px);height: 1px;margin: -1px;overflow: hidden;padding: 0;position: absolute;width: 1px;}#sk-container-id-1 div.sk-estimator {font-family: monospace;background-color: #f0f8ff;border: 1px dotted black;border-radius: 0.25em;box-sizing: border-box;margin-bottom: 0.5em;}#sk-container-id-1 div.sk-estimator:hover {background-color: #d4ebff;}#sk-container-id-1 div.sk-parallel-item::after {content: \"\";width: 100%;border-bottom: 1px solid gray;flex-grow: 1;}#sk-container-id-1 div.sk-label:hover label.sk-toggleable__label {background-color: #d4ebff;}#sk-container-id-1 div.sk-serial::before {content: \"\";position: absolute;border-left: 1px solid gray;box-sizing: border-box;top: 0;bottom: 0;left: 50%;z-index: 0;}#sk-container-id-1 div.sk-serial {display: flex;flex-direction: column;align-items: center;background-color: white;padding-right: 0.2em;padding-left: 0.2em;position: relative;}#sk-container-id-1 div.sk-item {position: relative;z-index: 1;}#sk-container-id-1 div.sk-parallel {display: flex;align-items: stretch;justify-content: center;background-color: white;position: relative;}#sk-container-id-1 div.sk-item::before, #sk-container-id-1 div.sk-parallel-item::before {content: \"\";position: absolute;border-left: 1px solid gray;box-sizing: border-box;top: 0;bottom: 0;left: 50%;z-index: -1;}#sk-container-id-1 div.sk-parallel-item {display: flex;flex-direction: column;z-index: 1;position: relative;background-color: white;}#sk-container-id-1 div.sk-parallel-item:first-child::after {align-self: flex-end;width: 50%;}#sk-container-id-1 div.sk-parallel-item:last-child::after {align-self: flex-start;width: 50%;}#sk-container-id-1 div.sk-parallel-item:only-child::after {width: 0;}#sk-container-id-1 div.sk-dashed-wrapped {border: 1px dashed gray;margin: 0 0.4em 0.5em 0.4em;box-sizing: border-box;padding-bottom: 0.4em;background-color: white;}#sk-container-id-1 div.sk-label label {font-family: monospace;font-weight: bold;display: inline-block;line-height: 1.2em;}#sk-container-id-1 div.sk-label-container {text-align: center;}#sk-container-id-1 div.sk-container {/* jupyter's `normalize.less` sets `[hidden] { display: none; }` but bootstrap.min.css set `[hidden] { display: none !important; }` so we also need the `!important` here to be able to override the default hidden behavior on the sphinx rendered scikit-learn.org. See: https://github.com/scikit-learn/scikit-learn/issues/21755 */display: inline-block !important;position: relative;}#sk-container-id-1 div.sk-text-repr-fallback {display: none;}</style><div id=\"sk-container-id-1\" class=\"sk-top-container\"><div class=\"sk-text-repr-fallback\"><pre>LinearRegression()</pre><b>In a Jupyter environment, please rerun this cell to show the HTML representation or trust the notebook. <br />On GitHub, the HTML representation is unable to render, please try loading this page with nbviewer.org.</b></div><div class=\"sk-container\" hidden><div class=\"sk-item\"><div class=\"sk-estimator sk-toggleable\"><input class=\"sk-toggleable__control sk-hidden--visually\" id=\"sk-estimator-id-1\" type=\"checkbox\" checked><label for=\"sk-estimator-id-1\" class=\"sk-toggleable__label sk-toggleable__label-arrow\">LinearRegression</label><div class=\"sk-toggleable__content\"><pre>LinearRegression()</pre></div></div></div></div></div>"
      ],
      "text/plain": [
       "LinearRegression()"
      ]
     },
     "execution_count": 3,
     "metadata": {},
     "output_type": "execute_result"
    }
   ],
   "source": [
    "model = LinearRegression()\n",
    "model.fit(X_train, y_train)"
   ]
  },
  {
   "cell_type": "markdown",
   "id": "2d590f0d",
   "metadata": {
    "papermill": {
     "duration": 0.006201,
     "end_time": "2023-05-15T13:58:07.779762",
     "exception": false,
     "start_time": "2023-05-15T13:58:07.773561",
     "status": "completed"
    },
    "tags": []
   },
   "source": [
    "now predict the salaries for the test set"
   ]
  },
  {
   "cell_type": "code",
   "execution_count": 4,
   "id": "490c6b90",
   "metadata": {
    "execution": {
     "iopub.execute_input": "2023-05-15T13:58:07.795164Z",
     "iopub.status.busy": "2023-05-15T13:58:07.794384Z",
     "iopub.status.idle": "2023-05-15T13:58:07.800863Z",
     "shell.execute_reply": "2023-05-15T13:58:07.799983Z"
    },
    "papermill": {
     "duration": 0.017199,
     "end_time": "2023-05-15T13:58:07.803525",
     "exception": false,
     "start_time": "2023-05-15T13:58:07.786326",
     "status": "completed"
    },
    "tags": []
   },
   "outputs": [],
   "source": [
    "y_pred = model.predict(X_test)"
   ]
  },
  {
   "cell_type": "markdown",
   "id": "ee667821",
   "metadata": {
    "papermill": {
     "duration": 0.005978,
     "end_time": "2023-05-15T13:58:07.815934",
     "exception": false,
     "start_time": "2023-05-15T13:58:07.809956",
     "status": "completed"
    },
    "tags": []
   },
   "source": [
    "evaluate the model's performance"
   ]
  },
  {
   "cell_type": "code",
   "execution_count": 5,
   "id": "8f677ac5",
   "metadata": {
    "execution": {
     "iopub.execute_input": "2023-05-15T13:58:07.831140Z",
     "iopub.status.busy": "2023-05-15T13:58:07.830722Z",
     "iopub.status.idle": "2023-05-15T13:58:07.841061Z",
     "shell.execute_reply": "2023-05-15T13:58:07.839066Z"
    },
    "papermill": {
     "duration": 0.021598,
     "end_time": "2023-05-15T13:58:07.843904",
     "exception": false,
     "start_time": "2023-05-15T13:58:07.822306",
     "status": "completed"
    },
    "tags": []
   },
   "outputs": [
    {
     "name": "stdout",
     "output_type": "stream",
     "text": [
      "Mean squared error: 31270951.722280953\n",
      "R-squared: 0.9569566641435086\n"
     ]
    }
   ],
   "source": [
    "print('Mean squared error:', np.mean((y_pred - y_test)**2))\n",
    "print('R-squared:', model.score(X_test, y_test))"
   ]
  },
  {
   "cell_type": "markdown",
   "id": "267a4f14",
   "metadata": {
    "papermill": {
     "duration": 0.006762,
     "end_time": "2023-05-15T13:58:07.857426",
     "exception": false,
     "start_time": "2023-05-15T13:58:07.850664",
     "status": "completed"
    },
    "tags": []
   },
   "source": [
    "[ MSE] for the dataset that you provided is much larger than the mean squared error for the dataset that I used. This means that the model is not able to fit the data as well for the dataset that you provided. The R-squared value is also lower for the dataset that you provided, which means that the model is able to explain less of the variation in the data."
   ]
  },
  {
   "cell_type": "markdown",
   "id": "3693c369",
   "metadata": {
    "papermill": {
     "duration": 0.006515,
     "end_time": "2023-05-15T13:58:07.870309",
     "exception": false,
     "start_time": "2023-05-15T13:58:07.863794",
     "status": "completed"
    },
    "tags": []
   },
   "source": [
    " now visualize the results"
   ]
  },
  {
   "cell_type": "code",
   "execution_count": 6,
   "id": "23eb398e",
   "metadata": {
    "execution": {
     "iopub.execute_input": "2023-05-15T13:58:07.885321Z",
     "iopub.status.busy": "2023-05-15T13:58:07.884838Z",
     "iopub.status.idle": "2023-05-15T13:58:08.178420Z",
     "shell.execute_reply": "2023-05-15T13:58:08.177414Z"
    },
    "papermill": {
     "duration": 0.303863,
     "end_time": "2023-05-15T13:58:08.180684",
     "exception": false,
     "start_time": "2023-05-15T13:58:07.876821",
     "status": "completed"
    },
    "tags": []
   },
   "outputs": [
    {
     "data": {
      "image/png": "[encoded data removed]",
      "text/plain": [
       "<Figure size 640x480 with 1 Axes>"
      ]
     },
     "metadata": {},
     "output_type": "display_data"
    }
   ],
   "source": [
    "plt.scatter(X_train, y_train, color='red')\n",
    "plt.plot(X_test, y_pred, color='blue')\n",
    "plt.xlabel('YearsExperience')\n",
    "plt.ylabel('Salary')\n",
    "plt.title('Linear Regression Model')\n",
    "plt.show()\n"
   ]
  },
  {
   "cell_type": "markdown",
   "id": "9443554a",
   "metadata": {
    "papermill": {
     "duration": 0.006735,
     "end_time": "2023-05-15T13:58:08.194206",
     "exception": false,
     "start_time": "2023-05-15T13:58:08.187471",
     "status": "completed"
    },
    "tags": []
   },
   "source": [
    "The graph shows that the linear regression model is able to fit the data well.\n",
    "\n",
    "Now improve the model's performance by using a gradient boosting regressor."
   ]
  },
  {
   "cell_type": "code",
   "execution_count": 7,
   "id": "45aa3841",
   "metadata": {
    "execution": {
     "iopub.execute_input": "2023-05-15T13:58:08.210896Z",
     "iopub.status.busy": "2023-05-15T13:58:08.210054Z",
     "iopub.status.idle": "2023-05-15T13:58:08.276698Z",
     "shell.execute_reply": "2023-05-15T13:58:08.274956Z"
    },
    "papermill": {
     "duration": 0.078875,
     "end_time": "2023-05-15T13:58:08.279950",
     "exception": false,
     "start_time": "2023-05-15T13:58:08.201075",
     "status": "completed"
    },
    "tags": []
   },
   "outputs": [
    {
     "name": "stdout",
     "output_type": "stream",
     "text": [
      "Mean squared error: 1871922.2069719473\n",
      "R-squared: 0.9974233666769243\n"
     ]
    }
   ],
   "source": [
    "model = GradientBoostingRegressor()\n",
    "model.fit(X_train, y_train)\n",
    "\n",
    "y_pred = model.predict(X_test)\n",
    "\n",
    "print('Mean squared error:', np.mean((y_pred - y_test)**2))\n",
    "print('R-squared:', model.score(X_test, y_test))\n"
   ]
  },
  {
   "cell_type": "markdown",
   "id": "cf312cb5",
   "metadata": {
    "papermill": {
     "duration": 0.007693,
     "end_time": "2023-05-15T13:58:08.295350",
     "exception": false,
     "start_time": "2023-05-15T13:58:08.287657",
     "status": "completed"
    },
    "tags": []
   },
   "source": [
    "\n",
    "\n",
    "[MSE] and R-squared are both lower for the new values that you provided. This means that the model is able to fit the data better for the new dataset. The R-squared value is very close to 1, which means that the model is able to explain almost all of the variation in the data."
   ]
  },
  {
   "cell_type": "markdown",
   "id": "138e4ad4",
   "metadata": {
    "papermill": {
     "duration": 0.007179,
     "end_time": "2023-05-15T13:58:08.309797",
     "exception": false,
     "start_time": "2023-05-15T13:58:08.302618",
     "status": "completed"
    },
    "tags": []
   },
   "source": [
    "visualize the results"
   ]
  },
  {
   "cell_type": "code",
   "execution_count": 8,
   "id": "2d775a04",
   "metadata": {
    "execution": {
     "iopub.execute_input": "2023-05-15T13:58:08.327066Z",
     "iopub.status.busy": "2023-05-15T13:58:08.326577Z",
     "iopub.status.idle": "2023-05-15T13:58:08.527741Z",
     "shell.execute_reply": "2023-05-15T13:58:08.526316Z"
    },
    "papermill": {
     "duration": 0.213239,
     "end_time": "2023-05-15T13:58:08.530612",
     "exception": false,
     "start_time": "2023-05-15T13:58:08.317373",
     "status": "completed"
    },
    "tags": []
   },
   "outputs": [
    {
     "data": {
      "image/png": "[encoded data removed]",
      "text/plain": [
       "<Figure size 640x480 with 1 Axes>"
      ]
     },
     "metadata": {},
     "output_type": "display_data"
    }
   ],
   "source": [
    "plt.scatter(X_train, y_train, color='red')\n",
    "plt.plot(X_test, y_pred, color='blue')\n",
    "plt.xlabel('YearsExperience')\n",
    "plt.ylabel('Salary')\n",
    "plt.title('Gradient Boosting Regressor')\n",
    "plt.show()\n"
   ]
  }
 ],
 "metadata": {
  "kernelspec": {
   "display_name": "Python 3",
   "language": "python",
   "name": "python3"
  },
  "language_info": {
   "codemirror_mode": {
    "name": "ipython",
    "version": 3
   },
   "file_extension": ".py",
   "mimetype": "text/x-python",
   "name": "python",
   "nbconvert_exporter": "python",
   "pygments_lexer": "ipython3",
   "version": "3.10.10"
  },
  "papermill": {
   "default_parameters": {},
   "duration": 17.29086,
   "end_time": "2023-05-15T13:58:09.965047",
   "environment_variables": {},
   "exception": null,
   "input_path": "__notebook__.ipynb",
   "output_path": "__notebook__.ipynb",
   "parameters": {},
   "start_time": "2023-05-15T13:57:52.674187",
   "version": "2.4.0"
  }
 },
 "nbformat": 4,
 "nbformat_minor": 5
}
