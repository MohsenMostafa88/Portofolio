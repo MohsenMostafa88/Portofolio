{
 "cells": [
  {
   "cell_type": "markdown",
   "id": "4c8ba13c",
   "metadata": {},
   "source": [
    "# Apple Stock Prices  "
   ]
  },
  {
   "cell_type": "markdown",
   "id": "f6d7bf86",
   "metadata": {},
   "source": [
    "### Import necessary Liberaries that we using it "
   ]
  },
  {
   "cell_type": "code",
   "execution_count": 9,
   "id": "c2b0ef90",
   "metadata": {},
   "outputs": [],
   "source": [
    "import pandas as pd\n",
    "import pylab as pl\n",
    "import numpy as np\n",
    "import seaborn as sns\n",
    "import random as rnd\n",
    "import scipy.optimize as opt\n",
    "from sklearn import preprocessing\n",
    "from sklearn import datasets, linear_model\n",
    "from sklearn.linear_model import LinearRegression\n",
    "from sklearn.model_selection import train_test_split\n",
    "from sklearn.preprocessing import PolynomialFeatures\n",
    "from sklearn.feature_selection import RFE\n",
    "%matplotlib inline \n",
    "import matplotlib.pyplot as plt\n",
    "import plotly.express as px"
   ]
  },
  {
   "cell_type": "markdown",
   "id": "c4e02794",
   "metadata": {},
   "source": [
    "### Loading the head of DataFrame"
   ]
  },
  {
   "cell_type": "code",
   "execution_count": 11,
   "id": "40c7f092",
   "metadata": {},
   "outputs": [
    {
     "data": {
      "text/html": [
       "<div>\n",
       "<style scoped>\n",
       "    .dataframe tbody tr th:only-of-type {\n",
       "        vertical-align: middle;\n",
       "    }\n",
       "\n",
       "    .dataframe tbody tr th {\n",
       "        vertical-align: top;\n",
       "    }\n",
       "\n",
       "    .dataframe thead th {\n",
       "        text-align: right;\n",
       "    }\n",
       "</style>\n",
       "<table border=\"1\" class=\"dataframe\">\n",
       "  <thead>\n",
       "    <tr style=\"text-align: right;\">\n",
       "      <th></th>\n",
       "      <th>Date</th>\n",
       "      <th>High</th>\n",
       "      <th>Low</th>\n",
       "      <th>Open</th>\n",
       "      <th>Close</th>\n",
       "      <th>Volume</th>\n",
       "      <th>Adj Close</th>\n",
       "    </tr>\n",
       "  </thead>\n",
       "  <tbody>\n",
       "    <tr>\n",
       "      <th>0</th>\n",
       "      <td>1980-12-12</td>\n",
       "      <td>0.128906</td>\n",
       "      <td>0.128348</td>\n",
       "      <td>0.128348</td>\n",
       "      <td>0.128348</td>\n",
       "      <td>469033600</td>\n",
       "      <td>0.100039</td>\n",
       "    </tr>\n",
       "    <tr>\n",
       "      <th>1</th>\n",
       "      <td>1980-12-15</td>\n",
       "      <td>0.122210</td>\n",
       "      <td>0.121652</td>\n",
       "      <td>0.122210</td>\n",
       "      <td>0.121652</td>\n",
       "      <td>175884800</td>\n",
       "      <td>0.094820</td>\n",
       "    </tr>\n",
       "    <tr>\n",
       "      <th>2</th>\n",
       "      <td>1980-12-16</td>\n",
       "      <td>0.113281</td>\n",
       "      <td>0.112723</td>\n",
       "      <td>0.113281</td>\n",
       "      <td>0.112723</td>\n",
       "      <td>105728000</td>\n",
       "      <td>0.087861</td>\n",
       "    </tr>\n",
       "    <tr>\n",
       "      <th>3</th>\n",
       "      <td>1980-12-17</td>\n",
       "      <td>0.116071</td>\n",
       "      <td>0.115513</td>\n",
       "      <td>0.115513</td>\n",
       "      <td>0.115513</td>\n",
       "      <td>86441600</td>\n",
       "      <td>0.090035</td>\n",
       "    </tr>\n",
       "    <tr>\n",
       "      <th>4</th>\n",
       "      <td>1980-12-18</td>\n",
       "      <td>0.119420</td>\n",
       "      <td>0.118862</td>\n",
       "      <td>0.118862</td>\n",
       "      <td>0.118862</td>\n",
       "      <td>73449600</td>\n",
       "      <td>0.092646</td>\n",
       "    </tr>\n",
       "  </tbody>\n",
       "</table>\n",
       "</div>"
      ],
      "text/plain": [
       "         Date      High       Low      Open     Close     Volume  Adj Close\n",
       "0  1980-12-12  0.128906  0.128348  0.128348  0.128348  469033600   0.100039\n",
       "1  1980-12-15  0.122210  0.121652  0.122210  0.121652  175884800   0.094820\n",
       "2  1980-12-16  0.113281  0.112723  0.113281  0.112723  105728000   0.087861\n",
       "3  1980-12-17  0.116071  0.115513  0.115513  0.115513   86441600   0.090035\n",
       "4  1980-12-18  0.119420  0.118862  0.118862  0.118862   73449600   0.092646"
      ]
     },
     "execution_count": 11,
     "metadata": {},
     "output_type": "execute_result"
    }
   ],
   "source": [
    "Apple = pd.read_csv('APPL_DATA.csv')\n",
    "Apple.head()"
   ]
  },
  {
   "cell_type": "markdown",
   "id": "fcb147d9",
   "metadata": {},
   "source": [
    "### using info() to find which the objects in DataFrame"
   ]
  },
  {
   "cell_type": "code",
   "execution_count": 12,
   "id": "8e69b68e",
   "metadata": {},
   "outputs": [
    {
     "name": "stdout",
     "output_type": "stream",
     "text": [
      "<class 'pandas.core.frame.DataFrame'>\n",
      "RangeIndex: 10564 entries, 0 to 10563\n",
      "Data columns (total 7 columns):\n",
      " #   Column     Non-Null Count  Dtype  \n",
      "---  ------     --------------  -----  \n",
      " 0   Date       10564 non-null  object \n",
      " 1   High       10564 non-null  float64\n",
      " 2   Low        10564 non-null  float64\n",
      " 3   Open       10564 non-null  float64\n",
      " 4   Close      10564 non-null  float64\n",
      " 5   Volume     10564 non-null  int64  \n",
      " 6   Adj Close  10564 non-null  float64\n",
      "dtypes: float64(5), int64(1), object(1)\n",
      "memory usage: 577.8+ KB\n"
     ]
    }
   ],
   "source": [
    "Apple.info()"
   ]
  },
  {
   "cell_type": "markdown",
   "id": "b283247a",
   "metadata": {},
   "source": [
    "### Converting all Objects into integer"
   ]
  },
  {
   "cell_type": "code",
   "execution_count": 13,
   "id": "6be3af0a",
   "metadata": {},
   "outputs": [
    {
     "data": {
      "text/plain": [
       "1980-12-12    1\n",
       "2008-10-31    1\n",
       "2008-11-04    1\n",
       "2008-11-05    1\n",
       "2008-11-06    1\n",
       "             ..\n",
       "1994-11-15    1\n",
       "1994-11-16    1\n",
       "1994-11-17    1\n",
       "1994-11-18    1\n",
       "2022-11-03    1\n",
       "Name: Date, Length: 10564, dtype: int64"
      ]
     },
     "execution_count": 13,
     "metadata": {},
     "output_type": "execute_result"
    }
   ],
   "source": [
    "Apple['Date'].value_counts()"
   ]
  },
  {
   "cell_type": "markdown",
   "id": "2063ae75",
   "metadata": {},
   "source": [
    "### Descriping DataFrame"
   ]
  },
  {
   "cell_type": "code",
   "execution_count": 14,
   "id": "2476e4dc",
   "metadata": {},
   "outputs": [
    {
     "data": {
      "text/html": [
       "<div>\n",
       "<style scoped>\n",
       "    .dataframe tbody tr th:only-of-type {\n",
       "        vertical-align: middle;\n",
       "    }\n",
       "\n",
       "    .dataframe tbody tr th {\n",
       "        vertical-align: top;\n",
       "    }\n",
       "\n",
       "    .dataframe thead th {\n",
       "        text-align: right;\n",
       "    }\n",
       "</style>\n",
       "<table border=\"1\" class=\"dataframe\">\n",
       "  <thead>\n",
       "    <tr style=\"text-align: right;\">\n",
       "      <th></th>\n",
       "      <th>High</th>\n",
       "      <th>Low</th>\n",
       "      <th>Open</th>\n",
       "      <th>Close</th>\n",
       "      <th>Volume</th>\n",
       "      <th>Adj Close</th>\n",
       "    </tr>\n",
       "  </thead>\n",
       "  <tbody>\n",
       "    <tr>\n",
       "      <th>count</th>\n",
       "      <td>10564.000000</td>\n",
       "      <td>10564.000000</td>\n",
       "      <td>10564.000000</td>\n",
       "      <td>10564.000000</td>\n",
       "      <td>1.056400e+04</td>\n",
       "      <td>10564.000000</td>\n",
       "    </tr>\n",
       "    <tr>\n",
       "      <th>mean</th>\n",
       "      <td>16.187715</td>\n",
       "      <td>15.828358</td>\n",
       "      <td>16.006351</td>\n",
       "      <td>16.014432</td>\n",
       "      <td>3.285773e+08</td>\n",
       "      <td>15.367037</td>\n",
       "    </tr>\n",
       "    <tr>\n",
       "      <th>std</th>\n",
       "      <td>34.769193</td>\n",
       "      <td>33.956052</td>\n",
       "      <td>34.354195</td>\n",
       "      <td>34.377804</td>\n",
       "      <td>3.381379e+08</td>\n",
       "      <td>34.090069</td>\n",
       "    </tr>\n",
       "    <tr>\n",
       "      <th>min</th>\n",
       "      <td>0.049665</td>\n",
       "      <td>0.049107</td>\n",
       "      <td>0.049665</td>\n",
       "      <td>0.049107</td>\n",
       "      <td>0.000000e+00</td>\n",
       "      <td>0.038276</td>\n",
       "    </tr>\n",
       "    <tr>\n",
       "      <th>25%</th>\n",
       "      <td>0.292411</td>\n",
       "      <td>0.279018</td>\n",
       "      <td>0.285714</td>\n",
       "      <td>0.285714</td>\n",
       "      <td>1.220100e+08</td>\n",
       "      <td>0.236919</td>\n",
       "    </tr>\n",
       "    <tr>\n",
       "      <th>50%</th>\n",
       "      <td>0.491071</td>\n",
       "      <td>0.474330</td>\n",
       "      <td>0.482690</td>\n",
       "      <td>0.483236</td>\n",
       "      <td>2.158618e+08</td>\n",
       "      <td>0.399397</td>\n",
       "    </tr>\n",
       "    <tr>\n",
       "      <th>75%</th>\n",
       "      <td>15.917679</td>\n",
       "      <td>15.549732</td>\n",
       "      <td>15.720536</td>\n",
       "      <td>15.762946</td>\n",
       "      <td>4.076800e+08</td>\n",
       "      <td>13.661840</td>\n",
       "    </tr>\n",
       "    <tr>\n",
       "      <th>max</th>\n",
       "      <td>182.940002</td>\n",
       "      <td>179.119995</td>\n",
       "      <td>182.630005</td>\n",
       "      <td>182.009995</td>\n",
       "      <td>7.421641e+09</td>\n",
       "      <td>181.259918</td>\n",
       "    </tr>\n",
       "  </tbody>\n",
       "</table>\n",
       "</div>"
      ],
      "text/plain": [
       "               High           Low          Open         Close        Volume  \\\n",
       "count  10564.000000  10564.000000  10564.000000  10564.000000  1.056400e+04   \n",
       "mean      16.187715     15.828358     16.006351     16.014432  3.285773e+08   \n",
       "std       34.769193     33.956052     34.354195     34.377804  3.381379e+08   \n",
       "min        0.049665      0.049107      0.049665      0.049107  0.000000e+00   \n",
       "25%        0.292411      0.279018      0.285714      0.285714  1.220100e+08   \n",
       "50%        0.491071      0.474330      0.482690      0.483236  2.158618e+08   \n",
       "75%       15.917679     15.549732     15.720536     15.762946  4.076800e+08   \n",
       "max      182.940002    179.119995    182.630005    182.009995  7.421641e+09   \n",
       "\n",
       "          Adj Close  \n",
       "count  10564.000000  \n",
       "mean      15.367037  \n",
       "std       34.090069  \n",
       "min        0.038276  \n",
       "25%        0.236919  \n",
       "50%        0.399397  \n",
       "75%       13.661840  \n",
       "max      181.259918  "
      ]
     },
     "execution_count": 14,
     "metadata": {},
     "output_type": "execute_result"
    }
   ],
   "source": [
    "Apple.describe()"
   ]
  },
  {
   "cell_type": "markdown",
   "id": "c04af0cf",
   "metadata": {},
   "source": [
    "### Ploting historical data from matplotlib liberarary"
   ]
  },
  {
   "cell_type": "code",
   "execution_count": 15,
   "id": "4c79e412",
   "metadata": {},
   "outputs": [
    {
     "data": {
      "image/png": "[encoded data removed]",
      "text/plain": [
       "<Figure size 2000x1500 with 6 Axes>"
      ]
     },
     "metadata": {},
     "output_type": "display_data"
    }
   ],
   "source": [
    "Apple.hist(bins=50, figsize=(20,15))\n",
    "plt.show()"
   ]
  },
  {
   "cell_type": "markdown",
   "id": "51fb7fca",
   "metadata": {},
   "source": [
    "#### testing set by using numpy notes that not testing by numpy gives you the actual result for data but here it works well"
   ]
  },
  {
   "cell_type": "code",
   "execution_count": 16,
   "id": "f577a921",
   "metadata": {},
   "outputs": [],
   "source": [
    "def split_train_test(data, test_ratio):\n",
    "    shuffled_indices = np.random.permutation(len(data))\n",
    "    test_set_size = int(len(data) * test_ratio)\n",
    "    test_indices = shuffled_indices[:test_set_size]\n",
    "    train_indices = shuffled_indices[test_set_size:]\n",
    "    return data.iloc[train_indices], data.iloc[test_indices]"
   ]
  },
  {
   "cell_type": "code",
   "execution_count": 17,
   "id": "727e5ca1",
   "metadata": {},
   "outputs": [
    {
     "data": {
      "text/plain": [
       "8452"
      ]
     },
     "execution_count": 17,
     "metadata": {},
     "output_type": "execute_result"
    }
   ],
   "source": [
    "train_set, test_set = split_train_test(Apple, 0.2)\n",
    "len(train_set)\n"
   ]
  },
  {
   "cell_type": "code",
   "execution_count": 18,
   "id": "e931ffa2",
   "metadata": {},
   "outputs": [
    {
     "data": {
      "text/plain": [
       "2112"
      ]
     },
     "execution_count": 18,
     "metadata": {},
     "output_type": "execute_result"
    }
   ],
   "source": [
    "len(test_set)"
   ]
  },
  {
   "cell_type": "markdown",
   "id": "eb50c349",
   "metadata": {},
   "source": [
    "### Using Test Set by using sklearn"
   ]
  },
  {
   "cell_type": "code",
   "execution_count": 19,
   "id": "a66a44f6",
   "metadata": {},
   "outputs": [
    {
     "data": {
      "text/html": [
       "<div>\n",
       "<style scoped>\n",
       "    .dataframe tbody tr th:only-of-type {\n",
       "        vertical-align: middle;\n",
       "    }\n",
       "\n",
       "    .dataframe tbody tr th {\n",
       "        vertical-align: top;\n",
       "    }\n",
       "\n",
       "    .dataframe thead th {\n",
       "        text-align: right;\n",
       "    }\n",
       "</style>\n",
       "<table border=\"1\" class=\"dataframe\">\n",
       "  <thead>\n",
       "    <tr style=\"text-align: right;\">\n",
       "      <th></th>\n",
       "      <th>Date</th>\n",
       "      <th>High</th>\n",
       "      <th>Low</th>\n",
       "      <th>Open</th>\n",
       "      <th>Close</th>\n",
       "      <th>Volume</th>\n",
       "      <th>Adj Close</th>\n",
       "    </tr>\n",
       "  </thead>\n",
       "  <tbody>\n",
       "    <tr>\n",
       "      <th>9329</th>\n",
       "      <td>2017-12-08</td>\n",
       "      <td>42.750000</td>\n",
       "      <td>42.205002</td>\n",
       "      <td>42.622501</td>\n",
       "      <td>42.342499</td>\n",
       "      <td>93420800</td>\n",
       "      <td>40.330261</td>\n",
       "    </tr>\n",
       "    <tr>\n",
       "      <th>9802</th>\n",
       "      <td>2019-10-28</td>\n",
       "      <td>62.312500</td>\n",
       "      <td>61.680000</td>\n",
       "      <td>61.855000</td>\n",
       "      <td>62.262501</td>\n",
       "      <td>96572800</td>\n",
       "      <td>60.915478</td>\n",
       "    </tr>\n",
       "    <tr>\n",
       "      <th>334</th>\n",
       "      <td>1982-04-12</td>\n",
       "      <td>0.078683</td>\n",
       "      <td>0.077567</td>\n",
       "      <td>0.078125</td>\n",
       "      <td>0.077567</td>\n",
       "      <td>44307200</td>\n",
       "      <td>0.060459</td>\n",
       "    </tr>\n",
       "    <tr>\n",
       "      <th>1613</th>\n",
       "      <td>1987-05-01</td>\n",
       "      <td>0.357143</td>\n",
       "      <td>0.351563</td>\n",
       "      <td>0.354911</td>\n",
       "      <td>0.357143</td>\n",
       "      <td>132720000</td>\n",
       "      <td>0.278371</td>\n",
       "    </tr>\n",
       "    <tr>\n",
       "      <th>5526</th>\n",
       "      <td>2002-10-31</td>\n",
       "      <td>0.293571</td>\n",
       "      <td>0.284286</td>\n",
       "      <td>0.285536</td>\n",
       "      <td>0.286964</td>\n",
       "      <td>295836800</td>\n",
       "      <td>0.245019</td>\n",
       "    </tr>\n",
       "    <tr>\n",
       "      <th>...</th>\n",
       "      <td>...</td>\n",
       "      <td>...</td>\n",
       "      <td>...</td>\n",
       "      <td>...</td>\n",
       "      <td>...</td>\n",
       "      <td>...</td>\n",
       "      <td>...</td>\n",
       "    </tr>\n",
       "    <tr>\n",
       "      <th>5734</th>\n",
       "      <td>2003-08-29</td>\n",
       "      <td>0.408036</td>\n",
       "      <td>0.393750</td>\n",
       "      <td>0.396429</td>\n",
       "      <td>0.403750</td>\n",
       "      <td>263155200</td>\n",
       "      <td>0.344735</td>\n",
       "    </tr>\n",
       "    <tr>\n",
       "      <th>5191</th>\n",
       "      <td>2001-06-28</td>\n",
       "      <td>0.426964</td>\n",
       "      <td>0.409643</td>\n",
       "      <td>0.411607</td>\n",
       "      <td>0.420357</td>\n",
       "      <td>348409600</td>\n",
       "      <td>0.358914</td>\n",
       "    </tr>\n",
       "    <tr>\n",
       "      <th>5390</th>\n",
       "      <td>2002-04-19</td>\n",
       "      <td>0.455179</td>\n",
       "      <td>0.445179</td>\n",
       "      <td>0.455179</td>\n",
       "      <td>0.446071</td>\n",
       "      <td>375407200</td>\n",
       "      <td>0.380870</td>\n",
       "    </tr>\n",
       "    <tr>\n",
       "      <th>860</th>\n",
       "      <td>1984-05-08</td>\n",
       "      <td>0.147879</td>\n",
       "      <td>0.139509</td>\n",
       "      <td>0.139509</td>\n",
       "      <td>0.146763</td>\n",
       "      <td>255001600</td>\n",
       "      <td>0.114393</td>\n",
       "    </tr>\n",
       "    <tr>\n",
       "      <th>7270</th>\n",
       "      <td>2009-10-06</td>\n",
       "      <td>6.786071</td>\n",
       "      <td>6.689286</td>\n",
       "      <td>6.705000</td>\n",
       "      <td>6.786071</td>\n",
       "      <td>605085600</td>\n",
       "      <td>5.794164</td>\n",
       "    </tr>\n",
       "  </tbody>\n",
       "</table>\n",
       "<p>8451 rows × 7 columns</p>\n",
       "</div>"
      ],
      "text/plain": [
       "            Date       High        Low       Open      Close     Volume  \\\n",
       "9329  2017-12-08  42.750000  42.205002  42.622501  42.342499   93420800   \n",
       "9802  2019-10-28  62.312500  61.680000  61.855000  62.262501   96572800   \n",
       "334   1982-04-12   0.078683   0.077567   0.078125   0.077567   44307200   \n",
       "1613  1987-05-01   0.357143   0.351563   0.354911   0.357143  132720000   \n",
       "5526  2002-10-31   0.293571   0.284286   0.285536   0.286964  295836800   \n",
       "...          ...        ...        ...        ...        ...        ...   \n",
       "5734  2003-08-29   0.408036   0.393750   0.396429   0.403750  263155200   \n",
       "5191  2001-06-28   0.426964   0.409643   0.411607   0.420357  348409600   \n",
       "5390  2002-04-19   0.455179   0.445179   0.455179   0.446071  375407200   \n",
       "860   1984-05-08   0.147879   0.139509   0.139509   0.146763  255001600   \n",
       "7270  2009-10-06   6.786071   6.689286   6.705000   6.786071  605085600   \n",
       "\n",
       "      Adj Close  \n",
       "9329  40.330261  \n",
       "9802  60.915478  \n",
       "334    0.060459  \n",
       "1613   0.278371  \n",
       "5526   0.245019  \n",
       "...         ...  \n",
       "5734   0.344735  \n",
       "5191   0.358914  \n",
       "5390   0.380870  \n",
       "860    0.114393  \n",
       "7270   5.794164  \n",
       "\n",
       "[8451 rows x 7 columns]"
      ]
     },
     "execution_count": 19,
     "metadata": {},
     "output_type": "execute_result"
    }
   ],
   "source": [
    "train_set, test_set = train_test_split(Apple, test_size=0.2, random_state=42)\n",
    "train_set\n"
   ]
  },
  {
   "cell_type": "code",
   "execution_count": 20,
   "id": "1d5046c8",
   "metadata": {},
   "outputs": [
    {
     "data": {
      "text/html": [
       "<div>\n",
       "<style scoped>\n",
       "    .dataframe tbody tr th:only-of-type {\n",
       "        vertical-align: middle;\n",
       "    }\n",
       "\n",
       "    .dataframe tbody tr th {\n",
       "        vertical-align: top;\n",
       "    }\n",
       "\n",
       "    .dataframe thead th {\n",
       "        text-align: right;\n",
       "    }\n",
       "</style>\n",
       "<table border=\"1\" class=\"dataframe\">\n",
       "  <thead>\n",
       "    <tr style=\"text-align: right;\">\n",
       "      <th></th>\n",
       "      <th>Date</th>\n",
       "      <th>High</th>\n",
       "      <th>Low</th>\n",
       "      <th>Open</th>\n",
       "      <th>Close</th>\n",
       "      <th>Volume</th>\n",
       "      <th>Adj Close</th>\n",
       "    </tr>\n",
       "  </thead>\n",
       "  <tbody>\n",
       "    <tr>\n",
       "      <th>8946</th>\n",
       "      <td>2016-06-03</td>\n",
       "      <td>24.567499</td>\n",
       "      <td>24.362499</td>\n",
       "      <td>24.447500</td>\n",
       "      <td>24.480000</td>\n",
       "      <td>114019600</td>\n",
       "      <td>22.707394</td>\n",
       "    </tr>\n",
       "    <tr>\n",
       "      <th>2907</th>\n",
       "      <td>1992-06-12</td>\n",
       "      <td>0.491071</td>\n",
       "      <td>0.484375</td>\n",
       "      <td>0.486607</td>\n",
       "      <td>0.487723</td>\n",
       "      <td>96510400</td>\n",
       "      <td>0.399148</td>\n",
       "    </tr>\n",
       "    <tr>\n",
       "      <th>10479</th>\n",
       "      <td>2022-07-07</td>\n",
       "      <td>146.550003</td>\n",
       "      <td>143.279999</td>\n",
       "      <td>143.289993</td>\n",
       "      <td>146.350006</td>\n",
       "      <td>66253700</td>\n",
       "      <td>146.147003</td>\n",
       "    </tr>\n",
       "    <tr>\n",
       "      <th>8025</th>\n",
       "      <td>2012-10-03</td>\n",
       "      <td>23.995001</td>\n",
       "      <td>23.665358</td>\n",
       "      <td>23.745001</td>\n",
       "      <td>23.980356</td>\n",
       "      <td>424281200</td>\n",
       "      <td>20.563103</td>\n",
       "    </tr>\n",
       "    <tr>\n",
       "      <th>3963</th>\n",
       "      <td>1996-08-15</td>\n",
       "      <td>0.203125</td>\n",
       "      <td>0.198661</td>\n",
       "      <td>0.202009</td>\n",
       "      <td>0.198661</td>\n",
       "      <td>107620800</td>\n",
       "      <td>0.169623</td>\n",
       "    </tr>\n",
       "    <tr>\n",
       "      <th>...</th>\n",
       "      <td>...</td>\n",
       "      <td>...</td>\n",
       "      <td>...</td>\n",
       "      <td>...</td>\n",
       "      <td>...</td>\n",
       "      <td>...</td>\n",
       "      <td>...</td>\n",
       "    </tr>\n",
       "    <tr>\n",
       "      <th>7262</th>\n",
       "      <td>2009-09-24</td>\n",
       "      <td>6.703571</td>\n",
       "      <td>6.527500</td>\n",
       "      <td>6.685714</td>\n",
       "      <td>6.565000</td>\n",
       "      <td>550880400</td>\n",
       "      <td>5.605407</td>\n",
       "    </tr>\n",
       "    <tr>\n",
       "      <th>8573</th>\n",
       "      <td>2014-12-09</td>\n",
       "      <td>28.575001</td>\n",
       "      <td>27.337500</td>\n",
       "      <td>27.547501</td>\n",
       "      <td>28.530001</td>\n",
       "      <td>240832000</td>\n",
       "      <td>25.723724</td>\n",
       "    </tr>\n",
       "    <tr>\n",
       "      <th>323</th>\n",
       "      <td>1982-03-25</td>\n",
       "      <td>0.074219</td>\n",
       "      <td>0.073661</td>\n",
       "      <td>0.074219</td>\n",
       "      <td>0.073661</td>\n",
       "      <td>84112000</td>\n",
       "      <td>0.057414</td>\n",
       "    </tr>\n",
       "    <tr>\n",
       "      <th>9956</th>\n",
       "      <td>2020-06-09</td>\n",
       "      <td>86.402496</td>\n",
       "      <td>83.002502</td>\n",
       "      <td>83.035004</td>\n",
       "      <td>85.997498</td>\n",
       "      <td>147712400</td>\n",
       "      <td>84.818840</td>\n",
       "    </tr>\n",
       "    <tr>\n",
       "      <th>1097</th>\n",
       "      <td>1985-04-16</td>\n",
       "      <td>0.097098</td>\n",
       "      <td>0.096540</td>\n",
       "      <td>0.096540</td>\n",
       "      <td>0.096540</td>\n",
       "      <td>67648000</td>\n",
       "      <td>0.075247</td>\n",
       "    </tr>\n",
       "  </tbody>\n",
       "</table>\n",
       "<p>2113 rows × 7 columns</p>\n",
       "</div>"
      ],
      "text/plain": [
       "             Date        High         Low        Open       Close     Volume  \\\n",
       "8946   2016-06-03   24.567499   24.362499   24.447500   24.480000  114019600   \n",
       "2907   1992-06-12    0.491071    0.484375    0.486607    0.487723   96510400   \n",
       "10479  2022-07-07  146.550003  143.279999  143.289993  146.350006   66253700   \n",
       "8025   2012-10-03   23.995001   23.665358   23.745001   23.980356  424281200   \n",
       "3963   1996-08-15    0.203125    0.198661    0.202009    0.198661  107620800   \n",
       "...           ...         ...         ...         ...         ...        ...   \n",
       "7262   2009-09-24    6.703571    6.527500    6.685714    6.565000  550880400   \n",
       "8573   2014-12-09   28.575001   27.337500   27.547501   28.530001  240832000   \n",
       "323    1982-03-25    0.074219    0.073661    0.074219    0.073661   84112000   \n",
       "9956   2020-06-09   86.402496   83.002502   83.035004   85.997498  147712400   \n",
       "1097   1985-04-16    0.097098    0.096540    0.096540    0.096540   67648000   \n",
       "\n",
       "        Adj Close  \n",
       "8946    22.707394  \n",
       "2907     0.399148  \n",
       "10479  146.147003  \n",
       "8025    20.563103  \n",
       "3963     0.169623  \n",
       "...           ...  \n",
       "7262     5.605407  \n",
       "8573    25.723724  \n",
       "323      0.057414  \n",
       "9956    84.818840  \n",
       "1097     0.075247  \n",
       "\n",
       "[2113 rows x 7 columns]"
      ]
     },
     "execution_count": 20,
     "metadata": {},
     "output_type": "execute_result"
    }
   ],
   "source": [
    "test_set"
   ]
  },
  {
   "cell_type": "markdown",
   "id": "9b0ff770",
   "metadata": {},
   "source": [
    "### Vazulization Ploting Data By scatter plot"
   ]
  },
  {
   "cell_type": "code",
   "execution_count": 22,
   "id": "0015cffa",
   "metadata": {},
   "outputs": [
    {
     "data": {
      "text/plain": [
       "<AxesSubplot: xlabel='High', ylabel='Low'>"
      ]
     },
     "execution_count": 22,
     "metadata": {},
     "output_type": "execute_result"
    },
    {
     "data": {
      "image/png": "[encoded data removed]",
      "text/plain": [
       "<Figure size 640x480 with 1 Axes>"
      ]
     },
     "metadata": {},
     "output_type": "display_data"
    }
   ],
   "source": [
    "Apple.plot(kind=\"scatter\", x=\"High\", y=\"Low\", alpha=0.1)"
   ]
  },
  {
   "cell_type": "markdown",
   "id": "b3a347af",
   "metadata": {},
   "source": [
    "### In This Point Start to Train the Data"
   ]
  },
  {
   "cell_type": "code",
   "execution_count": 27,
   "id": "552ea48e",
   "metadata": {},
   "outputs": [
    {
     "name": "stdout",
     "output_type": "stream",
     "text": [
      "shape of x (10564, 6)\n",
      "shape of y (10564, 6)\n"
     ]
    }
   ],
   "source": [
    "x = Apple.drop('High', axis = 'columns')\n",
    "y = Apple.drop('Low', axis = 'columns')\n",
    "print('shape of x', x.shape)\n",
    "print('shape of y', y.shape)"
   ]
  },
  {
   "cell_type": "code",
   "execution_count": 28,
   "id": "3a21b69a",
   "metadata": {},
   "outputs": [],
   "source": [
    "X_train, X_test, Y_train, Y_test = train_test_split(x,y, test_size = 0.2, random_state = 51)"
   ]
  },
  {
   "cell_type": "code",
   "execution_count": 30,
   "id": "b84f1a7a",
   "metadata": {},
   "outputs": [
    {
     "name": "stdout",
     "output_type": "stream",
     "text": [
      "shape of x_train             Date        Low       Open      Close     Volume  Adj Close\n",
      "4874  2000-03-27   1.222098   1.228795   1.246094  279182400   1.063955\n",
      "6133  2005-04-01   1.448929   1.503214   1.460357  641284000   1.246899\n",
      "9620  2019-02-07  42.584999  43.099998  42.735001  126966800  41.315212\n",
      "5927  2004-06-07   0.514464   0.518571   0.532321  295876000   0.454513\n",
      "1714  1987-09-24   0.493304   0.493304   0.504464  182560000   0.394307\n",
      "...          ...        ...        ...        ...        ...        ...\n",
      "1460  1986-09-23   0.156808   0.157366   0.161272  338240000   0.125702\n",
      "1733  1987-10-21   0.339286   0.343750   0.361607  534240000   0.282645\n",
      "1760  1987-11-30   0.272321   0.301339   0.294643  416640000   0.230805\n",
      "485   1982-11-12   0.144531   0.147321   0.144531  131107200   0.112653\n",
      "2105  1989-04-12   0.338170   0.341518   0.343750  387912000   0.272311\n",
      "\n",
      "[8451 rows x 6 columns]\n",
      "shape of y_train             Date       High       Open      Close     Volume  Adj Close\n",
      "4874  2000-03-27   1.292411   1.228795   1.246094  279182400   1.063955\n",
      "6133  2005-04-01   1.506429   1.503214   1.460357  641284000   1.246899\n",
      "9620  2019-02-07  43.485001  43.099998  42.735001  126966800  41.315212\n",
      "5927  2004-06-07   0.535357   0.518571   0.532321  295876000   0.454513\n",
      "1714  1987-09-24   0.516741   0.493304   0.504464  182560000   0.394307\n",
      "...          ...        ...        ...        ...        ...        ...\n",
      "1460  1986-09-23   0.161830   0.157366   0.161272  338240000   0.125702\n",
      "1733  1987-10-21   0.375000   0.343750   0.361607  534240000   0.282645\n",
      "1760  1987-11-30   0.308036   0.301339   0.294643  416640000   0.230805\n",
      "485   1982-11-12   0.151786   0.147321   0.144531  131107200   0.112653\n",
      "2105  1989-04-12   0.350446   0.341518   0.343750  387912000   0.272311\n",
      "\n",
      "[8451 rows x 6 columns]\n",
      "shape of x_test             Date        Low       Open      Close     Volume  Adj Close\n",
      "3263  1993-11-08   0.272321   0.285714   0.274554  166992000   0.227739\n",
      "6502  2006-09-18   2.617857   2.635714   2.638929  705278000   2.253202\n",
      "8358  2014-02-03  17.832144  17.950357  17.911785  401464000  15.817078\n",
      "40    1981-02-10   0.121652   0.121652   0.121652   18345600   0.094820\n",
      "3544  1994-12-19   0.332589   0.332589   0.349330  332819200   0.294903\n",
      "...          ...        ...        ...        ...        ...        ...\n",
      "7479  2010-08-05   9.305357   9.347500   9.346429  289097200   7.980278\n",
      "1898  1988-06-16   0.395089   0.401786   0.397321  107374400   0.312468\n",
      "8975  2016-07-15  24.625000  24.730000  24.695000  120548000  22.906826\n",
      "4058  1996-12-31   0.185268   0.190848   0.186384  383745600   0.159141\n",
      "9769  2019-09-11  54.432499  54.517502  55.897499  177158400  54.688171\n",
      "\n",
      "[2113 rows x 6 columns]\n",
      "shape of y_test             Date       High       Open      Close     Volume  Adj Close\n",
      "3263  1993-11-08   0.286830   0.285714   0.274554  166992000   0.227739\n",
      "6502  2006-09-18   2.673571   2.635714   2.638929  705278000   2.253202\n",
      "8358  2014-02-03  18.133215  17.950357  17.911785  401464000  15.817078\n",
      "40    1981-02-10   0.122210   0.121652   0.121652   18345600   0.094820\n",
      "3544  1994-12-19   0.351563   0.332589   0.349330  332819200   0.294903\n",
      "...          ...        ...        ...        ...        ...        ...\n",
      "7479  2010-08-05   9.399286   9.347500   9.346429  289097200   7.980278\n",
      "1898  1988-06-16   0.404018   0.401786   0.397321  107374400   0.312468\n",
      "8975  2016-07-15  24.825001  24.730000  24.695000  120548000  22.906826\n",
      "4058  1996-12-31   0.191964   0.190848   0.186384  383745600   0.159141\n",
      "9769  2019-09-11  55.927502  54.517502  55.897499  177158400  54.688171\n",
      "\n",
      "[2113 rows x 6 columns]\n"
     ]
    }
   ],
   "source": [
    "print(\"shape of x_train\", X_train)\n",
    "print(\"shape of y_train\", Y_train)\n",
    "print(\"shape of x_test\", X_test)\n",
    "print(\"shape of y_test\", Y_test)"
   ]
  },
  {
   "cell_type": "code",
   "execution_count": 31,
   "id": "acc6acec",
   "metadata": {},
   "outputs": [],
   "source": [
    "lr = LinearRegression()"
   ]
  },
  {
   "cell_type": "code",
   "execution_count": 38,
   "id": "45a1d19b",
   "metadata": {},
   "outputs": [],
   "source": [
    "msk = np.random.rand(len(Apple)) < 0.8\n",
    "train = Apple[msk]\n",
    "test = Apple[~msk]"
   ]
  },
  {
   "cell_type": "code",
   "execution_count": 39,
   "id": "bcbd47be",
   "metadata": {},
   "outputs": [
    {
     "data": {
      "image/png": "[encoded data removed]",
      "text/plain": [
       "<Figure size 640x480 with 1 Axes>"
      ]
     },
     "metadata": {},
     "output_type": "display_data"
    }
   ],
   "source": [
    "plt.scatter(train.High, train.Low,  color='blue')\n",
    "plt.xlabel(\"High\")\n",
    "plt.ylabel(\"Low\")\n",
    "plt.show()"
   ]
  },
  {
   "cell_type": "markdown",
   "id": "3b357557",
   "metadata": {},
   "source": [
    "## Modeling Data"
   ]
  },
  {
   "cell_type": "markdown",
   "id": "23b791ac",
   "metadata": {},
   "source": [
    "### Using sklearn package to model data"
   ]
  },
  {
   "cell_type": "code",
   "execution_count": 40,
   "id": "a8c9597d",
   "metadata": {},
   "outputs": [
    {
     "name": "stdout",
     "output_type": "stream",
     "text": [
      "Coefficients:  [[0.97660496]]\n",
      "Intercept:  [0.02054341]\n"
     ]
    }
   ],
   "source": [
    "from sklearn import linear_model\n",
    "regr = linear_model.LinearRegression()\n",
    "train_x = np.asanyarray(train[['High']])\n",
    "train_y = np.asanyarray(train[['Low']])\n",
    "regr.fit(train_x, train_y)\n",
    "# The coefficients\n",
    "print ('Coefficients: ', regr.coef_)\n",
    "print ('Intercept: ',regr.intercept_)"
   ]
  },
  {
   "cell_type": "markdown",
   "id": "d295040a",
   "metadata": {},
   "source": [
    "### Plot outputs that plot the fit line over the data"
   ]
  },
  {
   "cell_type": "code",
   "execution_count": 41,
   "id": "18eb2d78",
   "metadata": {},
   "outputs": [
    {
     "data": {
      "text/plain": [
       "Text(0, 0.5, 'Low')"
      ]
     },
     "execution_count": 41,
     "metadata": {},
     "output_type": "execute_result"
    },
    {
     "data": {
      "image/png": "[encoded data removed]",
      "text/plain": [
       "<Figure size 640x480 with 1 Axes>"
      ]
     },
     "metadata": {},
     "output_type": "display_data"
    }
   ],
   "source": [
    "plt.scatter(train.High, train.Low,  color='blue')\n",
    "plt.plot(train_x, regr.coef_[0][0]*train_x + regr.intercept_[0], '-r')\n",
    "plt.xlabel(\"High\")\n",
    "plt.ylabel(\"Low\")"
   ]
  },
  {
   "cell_type": "markdown",
   "id": "b1e15bf5",
   "metadata": {},
   "source": [
    "## Evaluating Model"
   ]
  },
  {
   "cell_type": "markdown",
   "id": "df5c31bd",
   "metadata": {},
   "source": [
    "#### We compare the actual values and predicted values to calculate the accuracy of a regression model. Evaluation metrics provide a key role in the development of a model, as it provides insight to areas that require improvement by using MSE (Mean Square Error )"
   ]
  },
  {
   "cell_type": "code",
   "execution_count": 42,
   "id": "731f4626",
   "metadata": {},
   "outputs": [
    {
     "name": "stdout",
     "output_type": "stream",
     "text": [
      "Mean absolute error: 0.17\n",
      "Residual sum of squares (MSE): 0.22\n",
      "R2-score: 1.00\n"
     ]
    }
   ],
   "source": [
    "from sklearn.metrics import r2_score\n",
    "\n",
    "test_x = np.asanyarray(test[['High']])\n",
    "test_y = np.asanyarray(test[['Low']])\n",
    "test_y_ = regr.predict(test_x)\n",
    "\n",
    "print(\"Mean absolute error: %.2f\" % np.mean(np.absolute(test_y_ - test_y)))\n",
    "print(\"Residual sum of squares (MSE): %.2f\" % np.mean((test_y_ - test_y) ** 2))\n",
    "print(\"R2-score: %.2f\" % r2_score(test_y , test_y_) )"
   ]
  },
  {
   "cell_type": "code",
   "execution_count": null,
   "id": "261593b2",
   "metadata": {},
   "outputs": [],
   "source": []
  }
 ],
 "metadata": {
  "kernelspec": {
   "display_name": "Python 3 (ipykernel)",
   "language": "python",
   "name": "python3"
  },
  "language_info": {
   "codemirror_mode": {
    "name": "ipython",
    "version": 3
   },
   "file_extension": ".py",
   "mimetype": "text/x-python",
   "name": "python",
   "nbconvert_exporter": "python",
   "pygments_lexer": "ipython3",
   "version": "3.10.6"
  }
 },
 "nbformat": 4,
 "nbformat_minor": 5
}
