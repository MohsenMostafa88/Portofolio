{
 "cells": [
  {
   "cell_type": "markdown",
   "id": "22cff550",
   "metadata": {},
   "source": [
    "## A simple Task for distributions of US Birth "
   ]
  },
  {
   "cell_type": "markdown",
   "id": "02ea6029",
   "metadata": {},
   "source": [
    "### Import Necessary Library "
   ]
  },
  {
   "cell_type": "code",
   "execution_count": 1,
   "id": "3b6374a9",
   "metadata": {},
   "outputs": [
    {
     "data": {
      "text/html": [
       "<div>\n",
       "<style scoped>\n",
       "    .dataframe tbody tr th:only-of-type {\n",
       "        vertical-align: middle;\n",
       "    }\n",
       "\n",
       "    .dataframe tbody tr th {\n",
       "        vertical-align: top;\n",
       "    }\n",
       "\n",
       "    .dataframe thead th {\n",
       "        text-align: right;\n",
       "    }\n",
       "</style>\n",
       "<table border=\"1\" class=\"dataframe\">\n",
       "  <thead>\n",
       "    <tr style=\"text-align: right;\">\n",
       "      <th></th>\n",
       "      <th>State</th>\n",
       "      <th>State Abbreviation</th>\n",
       "      <th>Year</th>\n",
       "      <th>Gender</th>\n",
       "      <th>Education Level of Mother</th>\n",
       "      <th>Education Level Code</th>\n",
       "      <th>Number of Births</th>\n",
       "      <th>Average Age of Mother (years)</th>\n",
       "      <th>Average Birth Weight (g)</th>\n",
       "    </tr>\n",
       "  </thead>\n",
       "  <tbody>\n",
       "    <tr>\n",
       "      <th>0</th>\n",
       "      <td>Alabama</td>\n",
       "      <td>AL</td>\n",
       "      <td>2016</td>\n",
       "      <td>F</td>\n",
       "      <td>8th grade or less</td>\n",
       "      <td>1</td>\n",
       "      <td>1052</td>\n",
       "      <td>27.8</td>\n",
       "      <td>3116.9</td>\n",
       "    </tr>\n",
       "    <tr>\n",
       "      <th>1</th>\n",
       "      <td>Alabama</td>\n",
       "      <td>AL</td>\n",
       "      <td>2016</td>\n",
       "      <td>F</td>\n",
       "      <td>9th through 12th grade with no diploma</td>\n",
       "      <td>2</td>\n",
       "      <td>3436</td>\n",
       "      <td>24.1</td>\n",
       "      <td>3040.0</td>\n",
       "    </tr>\n",
       "    <tr>\n",
       "      <th>2</th>\n",
       "      <td>Alabama</td>\n",
       "      <td>AL</td>\n",
       "      <td>2016</td>\n",
       "      <td>F</td>\n",
       "      <td>High school graduate or GED completed</td>\n",
       "      <td>3</td>\n",
       "      <td>8777</td>\n",
       "      <td>25.4</td>\n",
       "      <td>3080.0</td>\n",
       "    </tr>\n",
       "    <tr>\n",
       "      <th>3</th>\n",
       "      <td>Alabama</td>\n",
       "      <td>AL</td>\n",
       "      <td>2016</td>\n",
       "      <td>F</td>\n",
       "      <td>Some college credit, but not a degree</td>\n",
       "      <td>4</td>\n",
       "      <td>6453</td>\n",
       "      <td>26.7</td>\n",
       "      <td>3121.9</td>\n",
       "    </tr>\n",
       "    <tr>\n",
       "      <th>4</th>\n",
       "      <td>Alabama</td>\n",
       "      <td>AL</td>\n",
       "      <td>2016</td>\n",
       "      <td>F</td>\n",
       "      <td>Associate degree (AA, AS)</td>\n",
       "      <td>5</td>\n",
       "      <td>2227</td>\n",
       "      <td>28.9</td>\n",
       "      <td>3174.3</td>\n",
       "    </tr>\n",
       "  </tbody>\n",
       "</table>\n",
       "</div>"
      ],
      "text/plain": [
       "     State State Abbreviation  Year Gender   \n",
       "0  Alabama                 AL  2016      F  \\\n",
       "1  Alabama                 AL  2016      F   \n",
       "2  Alabama                 AL  2016      F   \n",
       "3  Alabama                 AL  2016      F   \n",
       "4  Alabama                 AL  2016      F   \n",
       "\n",
       "                Education Level of Mother  Education Level Code   \n",
       "0                       8th grade or less                     1  \\\n",
       "1  9th through 12th grade with no diploma                     2   \n",
       "2   High school graduate or GED completed                     3   \n",
       "3   Some college credit, but not a degree                     4   \n",
       "4               Associate degree (AA, AS)                     5   \n",
       "\n",
       "   Number of Births  Average Age of Mother (years)  Average Birth Weight (g)  \n",
       "0              1052                           27.8                    3116.9  \n",
       "1              3436                           24.1                    3040.0  \n",
       "2              8777                           25.4                    3080.0  \n",
       "3              6453                           26.7                    3121.9  \n",
       "4              2227                           28.9                    3174.3  "
      ]
     },
     "execution_count": 1,
     "metadata": {},
     "output_type": "execute_result"
    }
   ],
   "source": [
    "import pandas as pd\n",
    "import matplotlib.pyplot as plt\n",
    "\n",
    "df = pd.read_csv(\"us_births_2016_2021.csv\")\n",
    "df.head()"
   ]
  },
  {
   "cell_type": "markdown",
   "id": "bcc85a0c",
   "metadata": {},
   "source": [
    "### Check NAN Values"
   ]
  },
  {
   "cell_type": "code",
   "execution_count": 2,
   "id": "24e4b0cb",
   "metadata": {},
   "outputs": [
    {
     "data": {
      "text/html": [
       "<div>\n",
       "<style scoped>\n",
       "    .dataframe tbody tr th:only-of-type {\n",
       "        vertical-align: middle;\n",
       "    }\n",
       "\n",
       "    .dataframe tbody tr th {\n",
       "        vertical-align: top;\n",
       "    }\n",
       "\n",
       "    .dataframe thead th {\n",
       "        text-align: right;\n",
       "    }\n",
       "</style>\n",
       "<table border=\"1\" class=\"dataframe\">\n",
       "  <thead>\n",
       "    <tr style=\"text-align: right;\">\n",
       "      <th></th>\n",
       "      <th>State</th>\n",
       "      <th>State Abbreviation</th>\n",
       "      <th>Year</th>\n",
       "      <th>Gender</th>\n",
       "      <th>Education Level of Mother</th>\n",
       "      <th>Education Level Code</th>\n",
       "      <th>Number of Births</th>\n",
       "      <th>Average Age of Mother (years)</th>\n",
       "      <th>Average Birth Weight (g)</th>\n",
       "    </tr>\n",
       "  </thead>\n",
       "  <tbody>\n",
       "    <tr>\n",
       "      <th>0</th>\n",
       "      <td>False</td>\n",
       "      <td>False</td>\n",
       "      <td>False</td>\n",
       "      <td>False</td>\n",
       "      <td>False</td>\n",
       "      <td>False</td>\n",
       "      <td>False</td>\n",
       "      <td>False</td>\n",
       "      <td>False</td>\n",
       "    </tr>\n",
       "    <tr>\n",
       "      <th>1</th>\n",
       "      <td>False</td>\n",
       "      <td>False</td>\n",
       "      <td>False</td>\n",
       "      <td>False</td>\n",
       "      <td>False</td>\n",
       "      <td>False</td>\n",
       "      <td>False</td>\n",
       "      <td>False</td>\n",
       "      <td>False</td>\n",
       "    </tr>\n",
       "    <tr>\n",
       "      <th>2</th>\n",
       "      <td>False</td>\n",
       "      <td>False</td>\n",
       "      <td>False</td>\n",
       "      <td>False</td>\n",
       "      <td>False</td>\n",
       "      <td>False</td>\n",
       "      <td>False</td>\n",
       "      <td>False</td>\n",
       "      <td>False</td>\n",
       "    </tr>\n",
       "    <tr>\n",
       "      <th>3</th>\n",
       "      <td>False</td>\n",
       "      <td>False</td>\n",
       "      <td>False</td>\n",
       "      <td>False</td>\n",
       "      <td>False</td>\n",
       "      <td>False</td>\n",
       "      <td>False</td>\n",
       "      <td>False</td>\n",
       "      <td>False</td>\n",
       "    </tr>\n",
       "    <tr>\n",
       "      <th>4</th>\n",
       "      <td>False</td>\n",
       "      <td>False</td>\n",
       "      <td>False</td>\n",
       "      <td>False</td>\n",
       "      <td>False</td>\n",
       "      <td>False</td>\n",
       "      <td>False</td>\n",
       "      <td>False</td>\n",
       "      <td>False</td>\n",
       "    </tr>\n",
       "    <tr>\n",
       "      <th>...</th>\n",
       "      <td>...</td>\n",
       "      <td>...</td>\n",
       "      <td>...</td>\n",
       "      <td>...</td>\n",
       "      <td>...</td>\n",
       "      <td>...</td>\n",
       "      <td>...</td>\n",
       "      <td>...</td>\n",
       "      <td>...</td>\n",
       "    </tr>\n",
       "    <tr>\n",
       "      <th>5491</th>\n",
       "      <td>False</td>\n",
       "      <td>False</td>\n",
       "      <td>False</td>\n",
       "      <td>False</td>\n",
       "      <td>False</td>\n",
       "      <td>False</td>\n",
       "      <td>False</td>\n",
       "      <td>False</td>\n",
       "      <td>False</td>\n",
       "    </tr>\n",
       "    <tr>\n",
       "      <th>5492</th>\n",
       "      <td>False</td>\n",
       "      <td>False</td>\n",
       "      <td>False</td>\n",
       "      <td>False</td>\n",
       "      <td>False</td>\n",
       "      <td>False</td>\n",
       "      <td>False</td>\n",
       "      <td>False</td>\n",
       "      <td>False</td>\n",
       "    </tr>\n",
       "    <tr>\n",
       "      <th>5493</th>\n",
       "      <td>False</td>\n",
       "      <td>False</td>\n",
       "      <td>False</td>\n",
       "      <td>False</td>\n",
       "      <td>False</td>\n",
       "      <td>False</td>\n",
       "      <td>False</td>\n",
       "      <td>False</td>\n",
       "      <td>False</td>\n",
       "    </tr>\n",
       "    <tr>\n",
       "      <th>5494</th>\n",
       "      <td>False</td>\n",
       "      <td>False</td>\n",
       "      <td>False</td>\n",
       "      <td>False</td>\n",
       "      <td>False</td>\n",
       "      <td>False</td>\n",
       "      <td>False</td>\n",
       "      <td>False</td>\n",
       "      <td>False</td>\n",
       "    </tr>\n",
       "    <tr>\n",
       "      <th>5495</th>\n",
       "      <td>False</td>\n",
       "      <td>False</td>\n",
       "      <td>False</td>\n",
       "      <td>False</td>\n",
       "      <td>False</td>\n",
       "      <td>False</td>\n",
       "      <td>False</td>\n",
       "      <td>False</td>\n",
       "      <td>False</td>\n",
       "    </tr>\n",
       "  </tbody>\n",
       "</table>\n",
       "<p>5496 rows × 9 columns</p>\n",
       "</div>"
      ],
      "text/plain": [
       "      State  State Abbreviation   Year  Gender  Education Level of Mother   \n",
       "0     False               False  False   False                      False  \\\n",
       "1     False               False  False   False                      False   \n",
       "2     False               False  False   False                      False   \n",
       "3     False               False  False   False                      False   \n",
       "4     False               False  False   False                      False   \n",
       "...     ...                 ...    ...     ...                        ...   \n",
       "5491  False               False  False   False                      False   \n",
       "5492  False               False  False   False                      False   \n",
       "5493  False               False  False   False                      False   \n",
       "5494  False               False  False   False                      False   \n",
       "5495  False               False  False   False                      False   \n",
       "\n",
       "      Education Level Code  Number of Births  Average Age of Mother (years)   \n",
       "0                    False             False                          False  \\\n",
       "1                    False             False                          False   \n",
       "2                    False             False                          False   \n",
       "3                    False             False                          False   \n",
       "4                    False             False                          False   \n",
       "...                    ...               ...                            ...   \n",
       "5491                 False             False                          False   \n",
       "5492                 False             False                          False   \n",
       "5493                 False             False                          False   \n",
       "5494                 False             False                          False   \n",
       "5495                 False             False                          False   \n",
       "\n",
       "      Average Birth Weight (g)  \n",
       "0                        False  \n",
       "1                        False  \n",
       "2                        False  \n",
       "3                        False  \n",
       "4                        False  \n",
       "...                        ...  \n",
       "5491                     False  \n",
       "5492                     False  \n",
       "5493                     False  \n",
       "5494                     False  \n",
       "5495                     False  \n",
       "\n",
       "[5496 rows x 9 columns]"
      ]
     },
     "execution_count": 2,
     "metadata": {},
     "output_type": "execute_result"
    }
   ],
   "source": [
    "df.isna()"
   ]
  },
  {
   "cell_type": "markdown",
   "id": "3653315a",
   "metadata": {},
   "source": [
    "#### Count the number of occurrences for each combination of State and Gender"
   ]
  },
  {
   "cell_type": "code",
   "execution_count": 3,
   "id": "4c1b81e4",
   "metadata": {},
   "outputs": [],
   "source": [
    "count_df = df.groupby(['State', 'State Abbreviation', 'Year', 'Gender']).size().reset_index(name='Count')"
   ]
  },
  {
   "cell_type": "markdown",
   "id": "fb8b67c5",
   "metadata": {},
   "source": [
    "#### Calculate the maximum count for each combination of State and Year"
   ]
  },
  {
   "cell_type": "code",
   "execution_count": 4,
   "id": "c02b8928",
   "metadata": {},
   "outputs": [],
   "source": [
    "max_count_df = count_df.groupby(['State', 'State Abbreviation', 'Year'])['Count'].max().reset_index()"
   ]
  },
  {
   "cell_type": "markdown",
   "id": "63de6327",
   "metadata": {},
   "source": [
    "#### Filter the DataFrame to include only the rows with the maximum count"
   ]
  },
  {
   "cell_type": "code",
   "execution_count": 5,
   "id": "242aed6c",
   "metadata": {},
   "outputs": [],
   "source": [
    "filtered_df = pd.merge(count_df, max_count_df, on=['State', 'State Abbreviation', 'Year', 'Count'])\n",
    "filtered_df.drop('Count', axis=1, inplace=True)"
   ]
  },
  {
   "cell_type": "markdown",
   "id": "dffb50e8",
   "metadata": {},
   "source": [
    "#### Merge the filtered DataFrame with the original DataFrame to retrieve all the relevant columns"
   ]
  },
  {
   "cell_type": "code",
   "execution_count": 6,
   "id": "60d59f0b",
   "metadata": {},
   "outputs": [],
   "source": [
    "result_df = pd.merge(filtered_df, df, on=['State', 'State Abbreviation', 'Year', 'Gender'])"
   ]
  },
  {
   "cell_type": "markdown",
   "id": "ee54b7a0",
   "metadata": {},
   "source": [
    "#### Visualize the data"
   ]
  },
  {
   "cell_type": "code",
   "execution_count": 7,
   "id": "1b8e67af",
   "metadata": {},
   "outputs": [
    {
     "data": {
      "image/png": "[encoded data removed]",
      "text/plain": [
       "<Figure size 864x432 with 1 Axes>"
      ]
     },
     "metadata": {
      "needs_background": "light"
     },
     "output_type": "display_data"
    }
   ],
   "source": [
    "plt.figure(figsize=(12, 6))\n",
    "plt.bar(result_df['State'], result_df['Number of Births'], color='skyblue')\n",
    "plt.xlabel('State')\n",
    "plt.ylabel('Number of Births')\n",
    "plt.title('Number of Births by State')\n",
    "plt.xticks(rotation=90)\n",
    "plt.show()"
   ]
  },
  {
   "cell_type": "markdown",
   "id": "405e98c2",
   "metadata": {},
   "source": [
    "### We distribution the Education level for Mothers"
   ]
  },
  {
   "cell_type": "code",
   "execution_count": 8,
   "id": "e6589028",
   "metadata": {},
   "outputs": [
    {
     "data": {
      "text/html": [
       "<div>\n",
       "<style scoped>\n",
       "    .dataframe tbody tr th:only-of-type {\n",
       "        vertical-align: middle;\n",
       "    }\n",
       "\n",
       "    .dataframe tbody tr th {\n",
       "        vertical-align: top;\n",
       "    }\n",
       "\n",
       "    .dataframe thead th {\n",
       "        text-align: right;\n",
       "    }\n",
       "</style>\n",
       "<table border=\"1\" class=\"dataframe\">\n",
       "  <thead>\n",
       "    <tr style=\"text-align: right;\">\n",
       "      <th></th>\n",
       "      <th>State</th>\n",
       "      <th>State Abbreviation</th>\n",
       "      <th>Year</th>\n",
       "      <th>Gender</th>\n",
       "      <th>Education Level of Mother</th>\n",
       "      <th>Education Level Code</th>\n",
       "      <th>Number of Births</th>\n",
       "      <th>Average Age of Mother (years)</th>\n",
       "      <th>Average Birth Weight (g)</th>\n",
       "    </tr>\n",
       "  </thead>\n",
       "  <tbody>\n",
       "    <tr>\n",
       "      <th>5495</th>\n",
       "      <td>Wyoming</td>\n",
       "      <td>WY</td>\n",
       "      <td>2021</td>\n",
       "      <td>M</td>\n",
       "      <td>Unknown or Not Stated</td>\n",
       "      <td>-9</td>\n",
       "      <td>41</td>\n",
       "      <td>29.2</td>\n",
       "      <td>3177.5</td>\n",
       "    </tr>\n",
       "    <tr>\n",
       "      <th>3839</th>\n",
       "      <td>Ohio</td>\n",
       "      <td>OH</td>\n",
       "      <td>2019</td>\n",
       "      <td>M</td>\n",
       "      <td>Unknown or Not Stated</td>\n",
       "      <td>-9</td>\n",
       "      <td>222</td>\n",
       "      <td>27.9</td>\n",
       "      <td>2986.4</td>\n",
       "    </tr>\n",
       "    <tr>\n",
       "      <th>3884</th>\n",
       "      <td>Oklahoma</td>\n",
       "      <td>OK</td>\n",
       "      <td>2016</td>\n",
       "      <td>F</td>\n",
       "      <td>Unknown or Not Stated</td>\n",
       "      <td>-9</td>\n",
       "      <td>63</td>\n",
       "      <td>27.1</td>\n",
       "      <td>3022.2</td>\n",
       "    </tr>\n",
       "    <tr>\n",
       "      <th>692</th>\n",
       "      <td>Connecticut</td>\n",
       "      <td>CT</td>\n",
       "      <td>2018</td>\n",
       "      <td>F</td>\n",
       "      <td>Unknown or Not Stated</td>\n",
       "      <td>-9</td>\n",
       "      <td>23</td>\n",
       "      <td>28.6</td>\n",
       "      <td>3147.1</td>\n",
       "    </tr>\n",
       "    <tr>\n",
       "      <th>3875</th>\n",
       "      <td>Ohio</td>\n",
       "      <td>OH</td>\n",
       "      <td>2021</td>\n",
       "      <td>M</td>\n",
       "      <td>Unknown or Not Stated</td>\n",
       "      <td>-9</td>\n",
       "      <td>223</td>\n",
       "      <td>29.3</td>\n",
       "      <td>3117.3</td>\n",
       "    </tr>\n",
       "  </tbody>\n",
       "</table>\n",
       "</div>"
      ],
      "text/plain": [
       "            State State Abbreviation  Year Gender Education Level of Mother   \n",
       "5495      Wyoming                 WY  2021      M     Unknown or Not Stated  \\\n",
       "3839         Ohio                 OH  2019      M     Unknown or Not Stated   \n",
       "3884     Oklahoma                 OK  2016      F     Unknown or Not Stated   \n",
       "692   Connecticut                 CT  2018      F     Unknown or Not Stated   \n",
       "3875         Ohio                 OH  2021      M     Unknown or Not Stated   \n",
       "\n",
       "      Education Level Code  Number of Births  Average Age of Mother (years)   \n",
       "5495                    -9                41                           29.2  \\\n",
       "3839                    -9               222                           27.9   \n",
       "3884                    -9                63                           27.1   \n",
       "692                     -9                23                           28.6   \n",
       "3875                    -9               223                           29.3   \n",
       "\n",
       "      Average Birth Weight (g)  \n",
       "5495                    3177.5  \n",
       "3839                    2986.4  \n",
       "3884                    3022.2  \n",
       "692                     3147.1  \n",
       "3875                    3117.3  "
      ]
     },
     "execution_count": 8,
     "metadata": {},
     "output_type": "execute_result"
    }
   ],
   "source": [
    "inplace = True \n",
    "df.sort_values(by=['Education Level of Mother'], ascending=False, axis=0, inplace=True)\n",
    "df.head()"
   ]
  },
  {
   "cell_type": "code",
   "execution_count": 9,
   "id": "b338fa99",
   "metadata": {},
   "outputs": [
    {
     "data": {
      "image/png": "[encoded data removed]",
      "text/plain": [
       "<Figure size 720x432 with 1 Axes>"
      ]
     },
     "metadata": {
      "needs_background": "light"
     },
     "output_type": "display_data"
    }
   ],
   "source": [
    "# Visualize the sorted DataFrame\n",
    "plt.figure(figsize=(10, 6))\n",
    "plt.bar(df['Education Level of Mother'], df['Number of Births'], color='skyblue')\n",
    "plt.xlabel('Education Level of Mother')\n",
    "plt.ylabel('Number of Births')\n",
    "plt.title('Number of Births by Education Level of Mother (Sorted)')\n",
    "plt.xticks(rotation=90)\n",
    "plt.show()"
   ]
  },
  {
   "cell_type": "markdown",
   "id": "536358b6",
   "metadata": {},
   "source": [
    "## Now Comparing Gender per Year"
   ]
  },
  {
   "cell_type": "markdown",
   "id": "613bbb4f",
   "metadata": {},
   "source": [
    "#### Filter the dataset for only the desired columns"
   ]
  },
  {
   "cell_type": "code",
   "execution_count": 12,
   "id": "ddf66342",
   "metadata": {},
   "outputs": [],
   "source": [
    "filtered_df = df[['Year', 'Gender', 'Number of Births']]"
   ]
  },
  {
   "cell_type": "markdown",
   "id": "ea8c0c8d",
   "metadata": {},
   "source": [
    "#### Group the data by year and gender and calculate the total number of births"
   ]
  },
  {
   "cell_type": "code",
   "execution_count": null,
   "id": "5394d4cc",
   "metadata": {},
   "outputs": [],
   "source": [
    "grouped_df = filtered_df.groupby(['Year', 'Gender']).sum().reset_index()"
   ]
  },
  {
   "cell_type": "markdown",
   "id": "fde04244",
   "metadata": {},
   "source": [
    "#### Pivot the table to have separate columns for male and female"
   ]
  },
  {
   "cell_type": "code",
   "execution_count": 14,
   "id": "acd4bf01",
   "metadata": {},
   "outputs": [],
   "source": [
    "pivot_df = grouped_df.pivot(index='Year', columns='Gender', values='Number of Births')"
   ]
  },
  {
   "cell_type": "markdown",
   "id": "09733426",
   "metadata": {},
   "source": [
    "#### Plot the comparison using line plots"
   ]
  },
  {
   "cell_type": "code",
   "execution_count": 15,
   "id": "83ec9901",
   "metadata": {},
   "outputs": [
    {
     "data": {
      "text/plain": [
       "<AxesSubplot:xlabel='Year'>"
      ]
     },
     "execution_count": 15,
     "metadata": {},
     "output_type": "execute_result"
    },
    {
     "data": {
      "image/png": "[encoded data removed]",
      "text/plain": [
       "<Figure size 432x288 with 1 Axes>"
      ]
     },
     "metadata": {
      "needs_background": "light"
     },
     "output_type": "display_data"
    }
   ],
   "source": [
    "pivot_df.plot(kind='line', marker='o')"
   ]
  }
 ],
 "metadata": {
  "kernelspec": {
   "display_name": "Python 3 (ipykernel)",
   "language": "python",
   "name": "python3"
  },
  "language_info": {
   "codemirror_mode": {
    "name": "ipython",
    "version": 3
   },
   "file_extension": ".py",
   "mimetype": "text/x-python",
   "name": "python",
   "nbconvert_exporter": "python",
   "pygments_lexer": "ipython3",
   "version": "3.10.6"
  }
 },
 "nbformat": 4,
 "nbformat_minor": 5
}
